{
 "cells": [
  {
   "cell_type": "markdown",
   "metadata": {
    "slideshow": {
     "slide_type": "slide"
    }
   },
   "source": [
    "# Creating a plot\n",
    "\n",
    "The `plot` function has different forms, depending on the input arguments. If `y` is a vector, `plot(y)` produces a piecewise linear graph of the elements of `y` versus the index of the elements of `y`. If you specify two vectors as arguments, `plot(x,y)` produces a graph of `y` versus `x`. Eg."
   ]
  },
  {
   "cell_type": "code",
   "execution_count": 6,
   "metadata": {
    "slideshow": {
     "slide_type": "fragment"
    }
   },
   "outputs": [
    {
     "data": {
      "image/png": "[encoded data removed]",
      "text/plain": [
       "<IPython.core.display.Image object>"
      ]
     },
     "metadata": {},
     "output_type": "display_data"
    }
   ],
   "source": [
    "x = 0:pi/100:2*pi;\n",
    "y = sin(x);\n",
    "plot(x,y)"
   ]
  },
  {
   "cell_type": "markdown",
   "metadata": {
    "slideshow": {
     "slide_type": "slide"
    }
   },
   "source": [
    "# Labels and title"
   ]
  },
  {
   "cell_type": "code",
   "execution_count": 3,
   "metadata": {},
   "outputs": [
    {
     "data": {
      "image/svg+xml": [
       "<svg height=\"420px\" viewBox=\"0 0 560 420\" width=\"560px\" xmlns=\"http://www.w3.org/2000/svg\" xmlns:xlink=\"http://www.w3.org/1999/xlink\">\n",
       "\n",
       "<title>Gnuplot</title>\n",
       "<desc>Produced by GNUPLOT 5.2 patchlevel 2 </desc>\n",
       "\n",
       "<g id=\"gnuplot_canvas\">\n",
       "\n",
       "<rect fill=\"none\" height=\"420\" width=\"560\" x=\"0\" y=\"0\"/>\n",
       "<defs>\n",
       "\n",
       "\t<circle id=\"gpDot\" r=\"0.5\" stroke-width=\"0.5\"/>\n",
       "\t<path d=\"M-1,0 h2 M0,-1 v2\" id=\"gpPt0\" stroke=\"currentColor\" stroke-width=\"0.222\"/>\n",
       "\t<path d=\"M-1,-1 L1,1 M1,-1 L-1,1\" id=\"gpPt1\" stroke=\"currentColor\" stroke-width=\"0.222\"/>\n",
       "\t<path d=\"M-1,0 L1,0 M0,-1 L0,1 M-1,-1 L1,1 M-1,1 L1,-1\" id=\"gpPt2\" stroke=\"currentColor\" stroke-width=\"0.222\"/>\n",
       "\t<rect height=\"2\" id=\"gpPt3\" stroke=\"currentColor\" stroke-width=\"0.222\" width=\"2\" x=\"-1\" y=\"-1\"/>\n",
       "\t<rect fill=\"currentColor\" height=\"2\" id=\"gpPt4\" stroke=\"currentColor\" stroke-width=\"0.222\" width=\"2\" x=\"-1\" y=\"-1\"/>\n",
       "\t<circle cx=\"0\" cy=\"0\" id=\"gpPt5\" r=\"1\" stroke=\"currentColor\" stroke-width=\"0.222\"/>\n",
       "\t<use fill=\"currentColor\" id=\"gpPt6\" stroke=\"none\" xlink:href=\"#gpPt5\"/>\n",
       "\t<path d=\"M0,-1.33 L-1.33,0.67 L1.33,0.67 z\" id=\"gpPt7\" stroke=\"currentColor\" stroke-width=\"0.222\"/>\n",
       "\t<use fill=\"currentColor\" id=\"gpPt8\" stroke=\"none\" xlink:href=\"#gpPt7\"/>\n",
       "\t<use id=\"gpPt9\" stroke=\"currentColor\" transform=\"rotate(180)\" xlink:href=\"#gpPt7\"/>\n",
       "\t<use fill=\"currentColor\" id=\"gpPt10\" stroke=\"none\" xlink:href=\"#gpPt9\"/>\n",
       "\t<use id=\"gpPt11\" stroke=\"currentColor\" transform=\"rotate(45)\" xlink:href=\"#gpPt3\"/>\n",
       "\t<use fill=\"currentColor\" id=\"gpPt12\" stroke=\"none\" xlink:href=\"#gpPt11\"/>\n",
       "\t<path d=\"M0,1.330 L1.265,0.411 L0.782,-1.067 L-0.782,-1.076 L-1.265,0.411 z\" id=\"gpPt13\" stroke=\"currentColor\" stroke-width=\"0.222\"/>\n",
       "\t<use fill=\"currentColor\" id=\"gpPt14\" stroke=\"none\" xlink:href=\"#gpPt13\"/>\n",
       "\t<filter filterUnits=\"objectBoundingBox\" height=\"1\" id=\"textbox\" width=\"1\" x=\"0\" y=\"0\">\n",
       "\t  <feFlood flood-color=\"white\" flood-opacity=\"1\" result=\"bgnd\"/>\n",
       "\t  <feComposite in=\"SourceGraphic\" in2=\"bgnd\" operator=\"atop\"/>\n",
       "\t</filter>\n",
       "\t<filter filterUnits=\"objectBoundingBox\" height=\"1\" id=\"greybox\" width=\"1\" x=\"0\" y=\"0\">\n",
       "\t  <feFlood flood-color=\"lightgrey\" flood-opacity=\"1\" result=\"grey\"/>\n",
       "\t  <feComposite in=\"SourceGraphic\" in2=\"grey\" operator=\"atop\"/>\n",
       "\t</filter>\n",
       "</defs>\n",
       "<g color=\"white\" fill=\"none\" stroke=\"currentColor\" stroke-linecap=\"butt\" stroke-linejoin=\"miter\" stroke-width=\"1.00\">\n",
       "</g>\n",
       "<g color=\"black\" fill=\"none\" stroke=\"currentColor\" stroke-linecap=\"butt\" stroke-linejoin=\"miter\" stroke-width=\"1.00\">\n",
       "\t<g shape-rendering=\"crispEdges\" stroke=\"none\">\n",
       "\t\t<polygon fill=\"rgb(255, 255, 255)\" points=\"71.9,362.4 534.9,362.4 534.9,52.7 71.9,52.7 \"/>\n",
       "\t</g>\n",
       "</g>\n",
       "<g color=\"black\" fill=\"none\" stroke=\"currentColor\" stroke-linecap=\"butt\" stroke-linejoin=\"miter\" stroke-width=\"1.00\">\n",
       "\t<path d=\"M71.9,362.4 L84.4,362.4 M535.0,362.4 L522.5,362.4  \" stroke=\"rgb(  0,   0,   0)\"/>\t<g fill=\"rgb(38,38,38)\" font-family=\"Arial\" font-size=\"10.00\" stroke=\"none\" text-anchor=\"end\" transform=\"translate(63.6,365.7)\">\n",
       "\t\t<text><tspan font-family=\"Arial\">-1</tspan></text>\n",
       "\t</g>\n",
       "</g>\n",
       "<g color=\"black\" fill=\"none\" stroke=\"currentColor\" stroke-linecap=\"butt\" stroke-linejoin=\"miter\" stroke-width=\"1.00\">\n",
       "\t<path d=\"M71.9,284.9 L84.4,284.9 M535.0,284.9 L522.5,284.9  \" stroke=\"rgb(  0,   0,   0)\"/>\t<g fill=\"rgb(38,38,38)\" font-family=\"Arial\" font-size=\"10.00\" stroke=\"none\" text-anchor=\"end\" transform=\"translate(63.6,288.2)\">\n",
       "\t\t<text><tspan font-family=\"Arial\">-0.5</tspan></text>\n",
       "\t</g>\n",
       "</g>\n",
       "<g color=\"black\" fill=\"none\" stroke=\"currentColor\" stroke-linecap=\"butt\" stroke-linejoin=\"miter\" stroke-width=\"1.00\">\n",
       "\t<path d=\"M71.9,207.5 L84.4,207.5 M535.0,207.5 L522.5,207.5  \" stroke=\"rgb(  0,   0,   0)\"/>\t<g fill=\"rgb(38,38,38)\" font-family=\"Arial\" font-size=\"10.00\" stroke=\"none\" text-anchor=\"end\" transform=\"translate(63.6,210.8)\">\n",
       "\t\t<text><tspan font-family=\"Arial\">0</tspan></text>\n",
       "\t</g>\n",
       "</g>\n",
       "<g color=\"black\" fill=\"none\" stroke=\"currentColor\" stroke-linecap=\"butt\" stroke-linejoin=\"miter\" stroke-width=\"1.00\">\n",
       "\t<path d=\"M71.9,130.0 L84.4,130.0 M535.0,130.0 L522.5,130.0  \" stroke=\"rgb(  0,   0,   0)\"/>\t<g fill=\"rgb(38,38,38)\" font-family=\"Arial\" font-size=\"10.00\" stroke=\"none\" text-anchor=\"end\" transform=\"translate(63.6,133.3)\">\n",
       "\t\t<text><tspan font-family=\"Arial\">0.5</tspan></text>\n",
       "\t</g>\n",
       "</g>\n",
       "<g color=\"black\" fill=\"none\" stroke=\"currentColor\" stroke-linecap=\"butt\" stroke-linejoin=\"miter\" stroke-width=\"1.00\">\n",
       "\t<path d=\"M71.9,52.6 L84.4,52.6 M535.0,52.6 L522.5,52.6  \" stroke=\"rgb(  0,   0,   0)\"/>\t<g fill=\"rgb(38,38,38)\" font-family=\"Arial\" font-size=\"10.00\" stroke=\"none\" text-anchor=\"end\" transform=\"translate(63.6,55.9)\">\n",
       "\t\t<text><tspan font-family=\"Arial\">1</tspan></text>\n",
       "\t</g>\n",
       "</g>\n",
       "<g color=\"black\" fill=\"none\" stroke=\"currentColor\" stroke-linecap=\"butt\" stroke-linejoin=\"miter\" stroke-width=\"1.00\">\n",
       "\t<path d=\"M71.9,362.4 L71.9,349.9 M71.9,52.6 L71.9,65.1  \" stroke=\"rgb(  0,   0,   0)\"/>\t<g fill=\"rgb(38,38,38)\" font-family=\"Arial\" font-size=\"10.00\" stroke=\"none\" text-anchor=\"middle\" transform=\"translate(71.9,383.7)\">\n",
       "\t\t<text><tspan font-family=\"Arial\">0</tspan></text>\n",
       "\t</g>\n",
       "</g>\n",
       "<g color=\"black\" fill=\"none\" stroke=\"currentColor\" stroke-linecap=\"butt\" stroke-linejoin=\"miter\" stroke-width=\"1.00\">\n",
       "\t<path d=\"M138.1,362.4 L138.1,349.9 M138.1,52.6 L138.1,65.1  \" stroke=\"rgb(  0,   0,   0)\"/>\t<g fill=\"rgb(38,38,38)\" font-family=\"Arial\" font-size=\"10.00\" stroke=\"none\" text-anchor=\"middle\" transform=\"translate(138.1,383.7)\">\n",
       "\t\t<text><tspan font-family=\"Arial\">1</tspan></text>\n",
       "\t</g>\n",
       "</g>\n",
       "<g color=\"black\" fill=\"none\" stroke=\"currentColor\" stroke-linecap=\"butt\" stroke-linejoin=\"miter\" stroke-width=\"1.00\">\n",
       "\t<path d=\"M204.2,362.4 L204.2,349.9 M204.2,52.6 L204.2,65.1  \" stroke=\"rgb(  0,   0,   0)\"/>\t<g fill=\"rgb(38,38,38)\" font-family=\"Arial\" font-size=\"10.00\" stroke=\"none\" text-anchor=\"middle\" transform=\"translate(204.2,383.7)\">\n",
       "\t\t<text><tspan font-family=\"Arial\">2</tspan></text>\n",
       "\t</g>\n",
       "</g>\n",
       "<g color=\"black\" fill=\"none\" stroke=\"currentColor\" stroke-linecap=\"butt\" stroke-linejoin=\"miter\" stroke-width=\"1.00\">\n",
       "\t<path d=\"M270.4,362.4 L270.4,349.9 M270.4,52.6 L270.4,65.1  \" stroke=\"rgb(  0,   0,   0)\"/>\t<g fill=\"rgb(38,38,38)\" font-family=\"Arial\" font-size=\"10.00\" stroke=\"none\" text-anchor=\"middle\" transform=\"translate(270.4,383.7)\">\n",
       "\t\t<text><tspan font-family=\"Arial\">3</tspan></text>\n",
       "\t</g>\n",
       "</g>\n",
       "<g color=\"black\" fill=\"none\" stroke=\"currentColor\" stroke-linecap=\"butt\" stroke-linejoin=\"miter\" stroke-width=\"1.00\">\n",
       "\t<path d=\"M336.5,362.4 L336.5,349.9 M336.5,52.6 L336.5,65.1  \" stroke=\"rgb(  0,   0,   0)\"/>\t<g fill=\"rgb(38,38,38)\" font-family=\"Arial\" font-size=\"10.00\" stroke=\"none\" text-anchor=\"middle\" transform=\"translate(336.5,383.7)\">\n",
       "\t\t<text><tspan font-family=\"Arial\">4</tspan></text>\n",
       "\t</g>\n",
       "</g>\n",
       "<g color=\"black\" fill=\"none\" stroke=\"currentColor\" stroke-linecap=\"butt\" stroke-linejoin=\"miter\" stroke-width=\"1.00\">\n",
       "\t<path d=\"M402.7,362.4 L402.7,349.9 M402.7,52.6 L402.7,65.1  \" stroke=\"rgb(  0,   0,   0)\"/>\t<g fill=\"rgb(38,38,38)\" font-family=\"Arial\" font-size=\"10.00\" stroke=\"none\" text-anchor=\"middle\" transform=\"translate(402.7,383.7)\">\n",
       "\t\t<text><tspan font-family=\"Arial\">5</tspan></text>\n",
       "\t</g>\n",
       "</g>\n",
       "<g color=\"black\" fill=\"none\" stroke=\"currentColor\" stroke-linecap=\"butt\" stroke-linejoin=\"miter\" stroke-width=\"1.00\">\n",
       "\t<path d=\"M468.8,362.4 L468.8,349.9 M468.8,52.6 L468.8,65.1  \" stroke=\"rgb(  0,   0,   0)\"/>\t<g fill=\"rgb(38,38,38)\" font-family=\"Arial\" font-size=\"10.00\" stroke=\"none\" text-anchor=\"middle\" transform=\"translate(468.8,383.7)\">\n",
       "\t\t<text><tspan font-family=\"Arial\">6</tspan></text>\n",
       "\t</g>\n",
       "</g>\n",
       "<g color=\"black\" fill=\"none\" stroke=\"currentColor\" stroke-linecap=\"butt\" stroke-linejoin=\"miter\" stroke-width=\"1.00\">\n",
       "\t<path d=\"M535.0,362.4 L535.0,349.9 M535.0,52.6 L535.0,65.1  \" stroke=\"rgb(  0,   0,   0)\"/>\t<g fill=\"rgb(38,38,38)\" font-family=\"Arial\" font-size=\"10.00\" stroke=\"none\" text-anchor=\"middle\" transform=\"translate(535.0,383.7)\">\n",
       "\t\t<text><tspan font-family=\"Arial\">7</tspan></text>\n",
       "\t</g>\n",
       "</g>\n",
       "<g color=\"black\" fill=\"none\" stroke=\"currentColor\" stroke-linecap=\"butt\" stroke-linejoin=\"miter\" stroke-width=\"1.00\">\n",
       "</g>\n",
       "<g color=\"black\" fill=\"none\" stroke=\"currentColor\" stroke-linecap=\"butt\" stroke-linejoin=\"miter\" stroke-width=\"1.00\">\n",
       "\t<g fill=\"rgb(38,38,38)\" font-family=\"Arial\" font-size=\"11.00\" stroke=\"none\" text-anchor=\"middle\" transform=\"translate(15.9,207.5) rotate(-90)\">\n",
       "\t\t<text><tspan font-family=\"Arial\">Sine of x</tspan></text>\n",
       "\t</g>\n",
       "</g>\n",
       "<g color=\"black\" fill=\"none\" stroke=\"currentColor\" stroke-linecap=\"butt\" stroke-linejoin=\"miter\" stroke-width=\"1.00\">\n",
       "\t<g fill=\"rgb(38,38,38)\" font-family=\"Arial\" font-size=\"11.00\" stroke=\"none\" text-anchor=\"middle\" transform=\"translate(303.4,411.0)\">\n",
       "\t\t<text><tspan font-family=\"Arial\">x = 0:2pi</tspan></text>\n",
       "\t</g>\n",
       "</g>\n",
       "<g color=\"black\" fill=\"none\" stroke=\"currentColor\" stroke-linecap=\"butt\" stroke-linejoin=\"miter\" stroke-width=\"1.00\">\n",
       "\t<g fill=\"rgb(0,0,0)\" font-family=\":Bold\" font-size=\"11.00\" stroke=\"none\" text-anchor=\"middle\" transform=\"translate(303.4,30.7)\">\n",
       "\t\t<text><tspan font-family=\"\" font-weight=\"bold\">Plot of the Sine functions</tspan></text>\n",
       "\t</g>\n",
       "</g>\n",
       "<g color=\"black\" fill=\"none\" stroke=\"currentColor\" stroke-linecap=\"butt\" stroke-linejoin=\"miter\" stroke-width=\"1.00\">\n",
       "</g>\n",
       "\t<g id=\"gnuplot_plot_1a\"><title>gnuplot_plot_1a</title>\n",
       "<g color=\"white\" fill=\"none\" stroke=\"currentColor\" stroke-linecap=\"butt\" stroke-linejoin=\"miter\" stroke-width=\"0.50\">\n",
       "</g>\n",
       "<g color=\"black\" fill=\"none\" stroke=\"currentColor\" stroke-linecap=\"butt\" stroke-linejoin=\"miter\" stroke-width=\"0.50\">\n",
       "\t<path d=\"M71.9,207.5 L74.0,202.6 L76.1,197.8 L78.1,192.9 L80.2,188.1 L82.3,183.3 L84.4,178.5 L86.4,173.7   L88.5,169.0 L90.6,164.3 L92.7,159.6 L94.8,155.0 L96.8,150.5 L98.9,146.0 L101.0,141.5 L103.1,137.2   L105.2,132.9 L107.2,128.6 L109.3,124.5 L111.4,120.4 L113.5,116.5 L115.5,112.6 L117.6,108.8 L119.7,105.1   L121.8,101.5 L123.9,98.0 L125.9,94.6 L128.0,91.3 L130.1,88.1 L132.2,85.1 L134.3,82.2 L136.3,79.4   L138.4,76.7 L140.5,74.2 L142.6,71.8 L144.6,69.5 L146.7,67.3 L148.8,65.3 L150.9,63.5 L153.0,61.8   L155.0,60.2 L157.1,58.8 L159.2,57.5 L161.3,56.3 L163.3,55.3 L165.4,54.5 L167.5,53.8 L169.6,53.3   L171.7,52.9 L173.7,52.7 L175.8,52.6 L177.9,52.7 L180.0,52.9 L182.1,53.3 L184.1,53.8 L186.2,54.5   L188.3,55.3 L190.4,56.3 L192.4,57.5 L194.5,58.8 L196.6,60.2 L198.7,61.8 L200.8,63.5 L202.8,65.3   L204.9,67.3 L207.0,69.5 L209.1,71.8 L211.2,74.2 L213.2,76.7 L215.3,79.4 L217.4,82.2 L219.5,85.1   L221.5,88.1 L223.6,91.3 L225.7,94.6 L227.8,98.0 L229.9,101.5 L231.9,105.1 L234.0,108.8 L236.1,112.6   L238.2,116.5 L240.2,120.4 L242.3,124.5 L244.4,128.6 L246.5,132.9 L248.6,137.2 L250.6,141.5 L252.7,146.0   L254.8,150.5 L256.9,155.0 L259.0,159.6 L261.0,164.3 L263.1,169.0 L265.2,173.7 L267.3,178.5 L269.3,183.3   L271.4,188.1 L273.5,192.9 L275.6,197.8 L277.7,202.6 L279.7,207.5 L281.8,212.4 L283.9,217.2 L286.0,222.1   L288.1,226.9 L290.1,231.7 L292.2,236.5 L294.3,241.3 L296.4,246.0 L298.4,250.7 L300.5,255.4 L302.6,260.0   L304.7,264.5 L306.8,269.0 L308.8,273.5 L310.9,277.8 L313.0,282.1 L315.1,286.4 L317.1,290.5 L319.2,294.6   L321.3,298.5 L323.4,302.4 L325.5,306.2 L327.5,309.9 L329.6,313.5 L331.7,317.0 L333.8,320.4 L335.9,323.7   L337.9,326.9 L340.0,329.9 L342.1,332.8 L344.2,335.6 L346.2,338.3 L348.3,340.8 L350.4,343.2 L352.5,345.5   L354.6,347.7 L356.6,349.7 L358.7,351.5 L360.8,353.2 L362.9,354.8 L365.0,356.2 L367.0,357.5 L369.1,358.7   L371.2,359.7 L373.3,360.5 L375.3,361.2 L377.4,361.7 L379.5,362.1 L381.6,362.3 L383.7,362.4 L385.7,362.3   L387.8,362.1 L389.9,361.7 L392.0,361.2 L394.1,360.5 L396.1,359.7 L398.2,358.7 L400.3,357.5 L402.4,356.2   L404.4,354.8 L406.5,353.2 L408.6,351.5 L410.7,349.7 L412.8,347.7 L414.8,345.5 L416.9,343.2 L419.0,340.8   L421.1,338.3 L423.1,335.6 L425.2,332.8 L427.3,329.9 L429.4,326.9 L431.5,323.7 L433.5,320.4 L435.6,317.0   L437.7,313.5 L439.8,309.9 L441.9,306.2 L443.9,302.4 L446.0,298.5 L448.1,294.6 L450.2,290.5 L452.2,286.4   L454.3,282.1 L456.4,277.8 L458.5,273.5 L460.6,269.0 L462.6,264.5 L464.7,260.0 L466.8,255.4 L468.9,250.7   L471.0,246.0 L473.0,241.3 L475.1,236.5 L477.2,231.7 L479.3,226.9 L481.3,222.1 L483.4,217.2 L485.5,212.4   L487.6,207.5  \" stroke=\"rgb(  0, 114, 189)\"/></g>\n",
       "\t</g>\n",
       "<g color=\"white\" fill=\"none\" stroke=\"rgb(  0, 114, 189)\" stroke-linecap=\"butt\" stroke-linejoin=\"miter\" stroke-width=\"2.00\">\n",
       "</g>\n",
       "<g color=\"black\" fill=\"none\" stroke=\"currentColor\" stroke-linecap=\"butt\" stroke-linejoin=\"miter\" stroke-width=\"2.00\">\n",
       "</g>\n",
       "<g color=\"black\" fill=\"none\" stroke=\"black\" stroke-linecap=\"butt\" stroke-linejoin=\"miter\" stroke-width=\"0.50\">\n",
       "\t<path d=\"M71.9,362.4 L535.0,362.4 M71.9,52.6 L535.0,52.6 M71.9,362.4 L71.9,52.6 M535.0,362.4 L535.0,52.6    \" stroke=\"rgb( 38,  38,  38)\"/></g>\n",
       "<g color=\"black\" fill=\"none\" stroke=\"rgb( 38,  38,  38)\" stroke-linecap=\"butt\" stroke-linejoin=\"miter\" stroke-width=\"1.00\">\n",
       "</g>\n",
       "<g color=\"black\" fill=\"none\" stroke=\"currentColor\" stroke-linecap=\"butt\" stroke-linejoin=\"miter\" stroke-width=\"1.00\">\n",
       "</g>\n",
       "</g>\n",
       "</svg>"
      ],
      "text/plain": [
       "<IPython.core.display.SVG object>"
      ]
     },
     "metadata": {},
     "output_type": "display_data"
    }
   ],
   "source": [
    "%plot --format svg\n",
    "plot(x,y)\n",
    "xlabel('x = 0:2pi');\n",
    "ylabel('Sine of x');\n",
    "title('Plot of the Sine functions')"
   ]
  },
  {
   "cell_type": "markdown",
   "metadata": {},
   "source": [
    "**Remark**: The expression `%plot --format svg` is a magic function and sets the output type of a figure: `svg` or `png`. "
   ]
  },
  {
   "cell_type": "code",
   "execution_count": 4,
   "metadata": {
    "slideshow": {
     "slide_type": "subslide"
    }
   },
   "outputs": [
    {
     "data": {
      "image/png": "[encoded data removed]",
      "text/plain": [
       "<IPython.core.display.Image object>"
      ]
     },
     "metadata": {},
     "output_type": "display_data"
    }
   ],
   "source": [
    "%plot --format png\n",
    "plot(x,y)\n",
    "xlabel('x = 0:2\\pi');\n",
    "ylabel('Sine of x');\n",
    "title('Plot of the Sine functions')"
   ]
  },
  {
   "cell_type": "markdown",
   "metadata": {},
   "source": [
    "**Remark**: `format png` allows to include `latex` commands in the labels and the title"
   ]
  },
  {
   "cell_type": "markdown",
   "metadata": {
    "slideshow": {
     "slide_type": "slide"
    }
   },
   "source": [
    "# Multiple data sets in one graph\n",
    "\n",
    "Multiple `x`-`y` pair arguments create multiple graphs with a single call to plot. MATLAB cycles through a predefined (but user settable) list of colors to allow discrimination among sets of data. Eg."
   ]
  },
  {
   "cell_type": "code",
   "execution_count": 5,
   "metadata": {
    "slideshow": {
     "slide_type": "fragment"
    }
   },
   "outputs": [
    {
     "data": {
      "image/png": "[encoded data removed]",
      "text/plain": [
       "<IPython.core.display.Image object>"
      ]
     },
     "metadata": {},
     "output_type": "display_data"
    }
   ],
   "source": [
    "x = 0:pi/100:2*pi;\n",
    "y1 = sin(x);\n",
    "y2 = sin(x-pi/6);\n",
    "y3 = sin(x-pi/3);\n",
    "plot(x,y1,x,y2,x,y3)\n",
    "title('Multiple plots')"
   ]
  },
  {
   "cell_type": "code",
   "execution_count": 6,
   "metadata": {
    "slideshow": {
     "slide_type": "subslide"
    }
   },
   "outputs": [
    {
     "data": {
      "image/svg+xml": [
       "<svg height=\"420px\" viewBox=\"0 0 560 420\" width=\"560px\" xmlns=\"http://www.w3.org/2000/svg\" xmlns:xlink=\"http://www.w3.org/1999/xlink\">\n",
       "\n",
       "<title>Gnuplot</title>\n",
       "<desc>Produced by GNUPLOT 5.2 patchlevel 2 </desc>\n",
       "\n",
       "<g id=\"gnuplot_canvas\">\n",
       "\n",
       "<rect fill=\"none\" height=\"420\" width=\"560\" x=\"0\" y=\"0\"/>\n",
       "<defs>\n",
       "\n",
       "\t<circle id=\"gpDot\" r=\"0.5\" stroke-width=\"0.5\"/>\n",
       "\t<path d=\"M-1,0 h2 M0,-1 v2\" id=\"gpPt0\" stroke=\"currentColor\" stroke-width=\"0.222\"/>\n",
       "\t<path d=\"M-1,-1 L1,1 M1,-1 L-1,1\" id=\"gpPt1\" stroke=\"currentColor\" stroke-width=\"0.222\"/>\n",
       "\t<path d=\"M-1,0 L1,0 M0,-1 L0,1 M-1,-1 L1,1 M-1,1 L1,-1\" id=\"gpPt2\" stroke=\"currentColor\" stroke-width=\"0.222\"/>\n",
       "\t<rect height=\"2\" id=\"gpPt3\" stroke=\"currentColor\" stroke-width=\"0.222\" width=\"2\" x=\"-1\" y=\"-1\"/>\n",
       "\t<rect fill=\"currentColor\" height=\"2\" id=\"gpPt4\" stroke=\"currentColor\" stroke-width=\"0.222\" width=\"2\" x=\"-1\" y=\"-1\"/>\n",
       "\t<circle cx=\"0\" cy=\"0\" id=\"gpPt5\" r=\"1\" stroke=\"currentColor\" stroke-width=\"0.222\"/>\n",
       "\t<use fill=\"currentColor\" id=\"gpPt6\" stroke=\"none\" xlink:href=\"#gpPt5\"/>\n",
       "\t<path d=\"M0,-1.33 L-1.33,0.67 L1.33,0.67 z\" id=\"gpPt7\" stroke=\"currentColor\" stroke-width=\"0.222\"/>\n",
       "\t<use fill=\"currentColor\" id=\"gpPt8\" stroke=\"none\" xlink:href=\"#gpPt7\"/>\n",
       "\t<use id=\"gpPt9\" stroke=\"currentColor\" transform=\"rotate(180)\" xlink:href=\"#gpPt7\"/>\n",
       "\t<use fill=\"currentColor\" id=\"gpPt10\" stroke=\"none\" xlink:href=\"#gpPt9\"/>\n",
       "\t<use id=\"gpPt11\" stroke=\"currentColor\" transform=\"rotate(45)\" xlink:href=\"#gpPt3\"/>\n",
       "\t<use fill=\"currentColor\" id=\"gpPt12\" stroke=\"none\" xlink:href=\"#gpPt11\"/>\n",
       "\t<path d=\"M0,1.330 L1.265,0.411 L0.782,-1.067 L-0.782,-1.076 L-1.265,0.411 z\" id=\"gpPt13\" stroke=\"currentColor\" stroke-width=\"0.222\"/>\n",
       "\t<use fill=\"currentColor\" id=\"gpPt14\" stroke=\"none\" xlink:href=\"#gpPt13\"/>\n",
       "\t<filter filterUnits=\"objectBoundingBox\" height=\"1\" id=\"textbox\" width=\"1\" x=\"0\" y=\"0\">\n",
       "\t  <feFlood flood-color=\"white\" flood-opacity=\"1\" result=\"bgnd\"/>\n",
       "\t  <feComposite in=\"SourceGraphic\" in2=\"bgnd\" operator=\"atop\"/>\n",
       "\t</filter>\n",
       "\t<filter filterUnits=\"objectBoundingBox\" height=\"1\" id=\"greybox\" width=\"1\" x=\"0\" y=\"0\">\n",
       "\t  <feFlood flood-color=\"lightgrey\" flood-opacity=\"1\" result=\"grey\"/>\n",
       "\t  <feComposite in=\"SourceGraphic\" in2=\"grey\" operator=\"atop\"/>\n",
       "\t</filter>\n",
       "</defs>\n",
       "<g color=\"white\" fill=\"none\" stroke=\"currentColor\" stroke-linecap=\"butt\" stroke-linejoin=\"miter\" stroke-width=\"1.00\">\n",
       "</g>\n",
       "<g color=\"black\" fill=\"none\" stroke=\"currentColor\" stroke-linecap=\"butt\" stroke-linejoin=\"miter\" stroke-width=\"1.00\">\n",
       "\t<g shape-rendering=\"crispEdges\" stroke=\"none\">\n",
       "\t\t<polygon fill=\"rgb(255, 255, 255)\" points=\"53.9,384.0 534.9,384.0 534.9,52.7 53.9,52.7 \"/>\n",
       "\t</g>\n",
       "</g>\n",
       "<g color=\"black\" fill=\"none\" stroke=\"currentColor\" stroke-linecap=\"butt\" stroke-linejoin=\"miter\" stroke-width=\"1.00\">\n",
       "\t<path d=\"M53.9,384.0 L66.4,384.0  \" stroke=\"rgb(  0,   0,   0)\"/>\t<g fill=\"rgb(38,38,38)\" font-family=\"Arial\" font-size=\"10.00\" stroke=\"none\" text-anchor=\"end\" transform=\"translate(45.6,387.3)\">\n",
       "\t\t<text><tspan font-family=\"Arial\">-1</tspan></text>\n",
       "\t</g>\n",
       "</g>\n",
       "<g color=\"black\" fill=\"none\" stroke=\"currentColor\" stroke-linecap=\"butt\" stroke-linejoin=\"miter\" stroke-width=\"1.00\">\n",
       "\t<path d=\"M53.9,301.1 L66.4,301.1  \" stroke=\"rgb(  0,   0,   0)\"/>\t<g fill=\"rgb(38,38,38)\" font-family=\"Arial\" font-size=\"10.00\" stroke=\"none\" text-anchor=\"end\" transform=\"translate(45.6,304.4)\">\n",
       "\t\t<text><tspan font-family=\"Arial\">-0.5</tspan></text>\n",
       "\t</g>\n",
       "</g>\n",
       "<g color=\"black\" fill=\"none\" stroke=\"currentColor\" stroke-linecap=\"butt\" stroke-linejoin=\"miter\" stroke-width=\"1.00\">\n",
       "\t<path d=\"M53.9,218.3 L66.4,218.3  \" stroke=\"rgb(  0,   0,   0)\"/>\t<g fill=\"rgb(38,38,38)\" font-family=\"Arial\" font-size=\"10.00\" stroke=\"none\" text-anchor=\"end\" transform=\"translate(45.6,221.6)\">\n",
       "\t\t<text><tspan font-family=\"Arial\">0</tspan></text>\n",
       "\t</g>\n",
       "</g>\n",
       "<g color=\"black\" fill=\"none\" stroke=\"currentColor\" stroke-linecap=\"butt\" stroke-linejoin=\"miter\" stroke-width=\"1.00\">\n",
       "\t<path d=\"M53.9,135.4 L66.4,135.4  \" stroke=\"rgb(  0,   0,   0)\"/>\t<g fill=\"rgb(38,38,38)\" font-family=\"Arial\" font-size=\"10.00\" stroke=\"none\" text-anchor=\"end\" transform=\"translate(45.6,138.7)\">\n",
       "\t\t<text><tspan font-family=\"Arial\">0.5</tspan></text>\n",
       "\t</g>\n",
       "</g>\n",
       "<g color=\"black\" fill=\"none\" stroke=\"currentColor\" stroke-linecap=\"butt\" stroke-linejoin=\"miter\" stroke-width=\"1.00\">\n",
       "\t<path d=\"M53.9,52.6 L66.4,52.6  \" stroke=\"rgb(  0,   0,   0)\"/>\t<g fill=\"rgb(38,38,38)\" font-family=\"Arial\" font-size=\"10.00\" stroke=\"none\" text-anchor=\"end\" transform=\"translate(45.6,55.9)\">\n",
       "\t\t<text><tspan font-family=\"Arial\">1</tspan></text>\n",
       "\t</g>\n",
       "</g>\n",
       "<g color=\"black\" fill=\"none\" stroke=\"currentColor\" stroke-linecap=\"butt\" stroke-linejoin=\"miter\" stroke-width=\"1.00\">\n",
       "\t<path d=\"M53.9,384.0 L53.9,371.5  \" stroke=\"rgb(  0,   0,   0)\"/>\t<g fill=\"rgb(38,38,38)\" font-family=\"Arial\" font-size=\"10.00\" stroke=\"none\" text-anchor=\"middle\" transform=\"translate(53.9,405.3)\">\n",
       "\t\t<text><tspan font-family=\"Arial\">0</tspan></text>\n",
       "\t</g>\n",
       "</g>\n",
       "<g color=\"black\" fill=\"none\" stroke=\"currentColor\" stroke-linecap=\"butt\" stroke-linejoin=\"miter\" stroke-width=\"1.00\">\n",
       "\t<path d=\"M122.6,384.0 L122.6,371.5  \" stroke=\"rgb(  0,   0,   0)\"/>\t<g fill=\"rgb(38,38,38)\" font-family=\"Arial\" font-size=\"10.00\" stroke=\"none\" text-anchor=\"middle\" transform=\"translate(122.6,405.3)\">\n",
       "\t\t<text><tspan font-family=\"Arial\">1</tspan></text>\n",
       "\t</g>\n",
       "</g>\n",
       "<g color=\"black\" fill=\"none\" stroke=\"currentColor\" stroke-linecap=\"butt\" stroke-linejoin=\"miter\" stroke-width=\"1.00\">\n",
       "\t<path d=\"M191.4,384.0 L191.4,371.5  \" stroke=\"rgb(  0,   0,   0)\"/>\t<g fill=\"rgb(38,38,38)\" font-family=\"Arial\" font-size=\"10.00\" stroke=\"none\" text-anchor=\"middle\" transform=\"translate(191.4,405.3)\">\n",
       "\t\t<text><tspan font-family=\"Arial\">2</tspan></text>\n",
       "\t</g>\n",
       "</g>\n",
       "<g color=\"black\" fill=\"none\" stroke=\"currentColor\" stroke-linecap=\"butt\" stroke-linejoin=\"miter\" stroke-width=\"1.00\">\n",
       "\t<path d=\"M260.1,384.0 L260.1,371.5  \" stroke=\"rgb(  0,   0,   0)\"/>\t<g fill=\"rgb(38,38,38)\" font-family=\"Arial\" font-size=\"10.00\" stroke=\"none\" text-anchor=\"middle\" transform=\"translate(260.1,405.3)\">\n",
       "\t\t<text><tspan font-family=\"Arial\">3</tspan></text>\n",
       "\t</g>\n",
       "</g>\n",
       "<g color=\"black\" fill=\"none\" stroke=\"currentColor\" stroke-linecap=\"butt\" stroke-linejoin=\"miter\" stroke-width=\"1.00\">\n",
       "\t<path d=\"M328.8,384.0 L328.8,371.5  \" stroke=\"rgb(  0,   0,   0)\"/>\t<g fill=\"rgb(38,38,38)\" font-family=\"Arial\" font-size=\"10.00\" stroke=\"none\" text-anchor=\"middle\" transform=\"translate(328.8,405.3)\">\n",
       "\t\t<text><tspan font-family=\"Arial\">4</tspan></text>\n",
       "\t</g>\n",
       "</g>\n",
       "<g color=\"black\" fill=\"none\" stroke=\"currentColor\" stroke-linecap=\"butt\" stroke-linejoin=\"miter\" stroke-width=\"1.00\">\n",
       "\t<path d=\"M397.5,384.0 L397.5,371.5  \" stroke=\"rgb(  0,   0,   0)\"/>\t<g fill=\"rgb(38,38,38)\" font-family=\"Arial\" font-size=\"10.00\" stroke=\"none\" text-anchor=\"middle\" transform=\"translate(397.5,405.3)\">\n",
       "\t\t<text><tspan font-family=\"Arial\">5</tspan></text>\n",
       "\t</g>\n",
       "</g>\n",
       "<g color=\"black\" fill=\"none\" stroke=\"currentColor\" stroke-linecap=\"butt\" stroke-linejoin=\"miter\" stroke-width=\"1.00\">\n",
       "\t<path d=\"M466.3,384.0 L466.3,371.5  \" stroke=\"rgb(  0,   0,   0)\"/>\t<g fill=\"rgb(38,38,38)\" font-family=\"Arial\" font-size=\"10.00\" stroke=\"none\" text-anchor=\"middle\" transform=\"translate(466.3,405.3)\">\n",
       "\t\t<text><tspan font-family=\"Arial\">6</tspan></text>\n",
       "\t</g>\n",
       "</g>\n",
       "<g color=\"black\" fill=\"none\" stroke=\"currentColor\" stroke-linecap=\"butt\" stroke-linejoin=\"miter\" stroke-width=\"1.00\">\n",
       "\t<path d=\"M535.0,384.0 L535.0,371.5  \" stroke=\"rgb(  0,   0,   0)\"/>\t<g fill=\"rgb(38,38,38)\" font-family=\"Arial\" font-size=\"10.00\" stroke=\"none\" text-anchor=\"middle\" transform=\"translate(535.0,405.3)\">\n",
       "\t\t<text><tspan font-family=\"Arial\">7</tspan></text>\n",
       "\t</g>\n",
       "</g>\n",
       "<g color=\"black\" fill=\"none\" stroke=\"currentColor\" stroke-linecap=\"butt\" stroke-linejoin=\"miter\" stroke-width=\"1.00\">\n",
       "</g>\n",
       "<g color=\"black\" fill=\"none\" stroke=\"currentColor\" stroke-linecap=\"butt\" stroke-linejoin=\"miter\" stroke-width=\"1.00\">\n",
       "\t<g fill=\"rgb(0,0,0)\" font-family=\":Bold\" font-size=\"11.00\" stroke=\"none\" text-anchor=\"middle\" transform=\"translate(294.4,30.7)\">\n",
       "\t\t<text><tspan font-family=\"\" font-weight=\"bold\">Multiple plots</tspan></text>\n",
       "\t</g>\n",
       "</g>\n",
       "<g color=\"black\" fill=\"none\" stroke=\"currentColor\" stroke-linecap=\"butt\" stroke-linejoin=\"miter\" stroke-width=\"1.00\">\n",
       "</g>\n",
       "\t<g id=\"gnuplot_plot_1a\"><title>gnuplot_plot_1a</title>\n",
       "<g color=\"white\" fill=\"none\" stroke=\"currentColor\" stroke-linecap=\"butt\" stroke-linejoin=\"miter\" stroke-width=\"0.50\">\n",
       "</g>\n",
       "<g color=\"black\" fill=\"none\" stroke=\"currentColor\" stroke-linecap=\"butt\" stroke-linejoin=\"miter\" stroke-width=\"0.50\">\n",
       "\t<path d=\"M53.9,218.3 L56.1,213.1 L58.2,207.9 L60.4,202.7 L62.5,197.5 L64.7,192.4 L66.9,187.3 L69.0,182.2   L71.2,177.1 L73.3,172.1 L75.5,167.1 L77.7,162.2 L79.8,157.3 L82.0,152.5 L84.1,147.7 L86.3,143.1   L88.4,138.5 L90.6,134.0 L92.8,129.5 L94.9,125.2 L97.1,120.9 L99.2,116.7 L101.4,112.7 L103.6,108.7   L105.7,104.9 L107.9,101.1 L110.0,97.5 L112.2,94.0 L114.4,90.6 L116.5,87.4 L118.7,84.2 L120.8,81.3   L123.0,78.4 L125.2,75.7 L127.3,73.1 L129.5,70.7 L131.6,68.4 L133.8,66.2 L135.9,64.2 L138.1,62.4   L140.3,60.7 L142.4,59.2 L144.6,57.8 L146.7,56.6 L148.9,55.5 L151.1,54.6 L153.2,53.9 L155.4,53.3   L157.5,52.9 L159.7,52.7 L161.9,52.6 L164.0,52.7 L166.2,52.9 L168.3,53.3 L170.5,53.9 L172.7,54.6   L174.8,55.5 L177.0,56.6 L179.1,57.8 L181.3,59.2 L183.5,60.7 L185.6,62.4 L187.8,64.2 L189.9,66.2   L192.1,68.4 L194.2,70.7 L196.4,73.1 L198.6,75.7 L200.7,78.4 L202.9,81.3 L205.0,84.2 L207.2,87.4   L209.4,90.6 L211.5,94.0 L213.7,97.5 L215.8,101.1 L218.0,104.9 L220.2,108.7 L222.3,112.7 L224.5,116.7   L226.6,120.9 L228.8,125.2 L231.0,129.5 L233.1,134.0 L235.3,138.5 L237.4,143.1 L239.6,147.7 L241.7,152.5   L243.9,157.3 L246.1,162.2 L248.2,167.1 L250.4,172.1 L252.5,177.1 L254.7,182.2 L256.9,187.3 L259.0,192.4   L261.2,197.5 L263.3,202.7 L265.5,207.9 L267.7,213.1 L269.8,218.3 L272.0,223.5 L274.1,228.7 L276.3,233.9   L278.5,239.1 L280.6,244.2 L282.8,249.3 L284.9,254.4 L287.1,259.5 L289.2,264.5 L291.4,269.5 L293.6,274.4   L295.7,279.3 L297.9,284.1 L300.0,288.9 L302.2,293.5 L304.4,298.1 L306.5,302.6 L308.7,307.1 L310.8,311.4   L313.0,315.7 L315.2,319.9 L317.3,323.9 L319.5,327.9 L321.6,331.7 L323.8,335.5 L326.0,339.1 L328.1,342.6   L330.3,346.0 L332.4,349.2 L334.6,352.4 L336.8,355.3 L338.9,358.2 L341.1,360.9 L343.2,363.5 L345.4,365.9   L347.5,368.2 L349.7,370.4 L351.9,372.4 L354.0,374.2 L356.2,375.9 L358.3,377.4 L360.5,378.8 L362.7,380.0   L364.8,381.1 L367.0,382.0 L369.1,382.7 L371.3,383.3 L373.5,383.7 L375.6,383.9 L377.8,384.0 L379.9,383.9   L382.1,383.7 L384.3,383.3 L386.4,382.7 L388.6,382.0 L390.7,381.1 L392.9,380.0 L395.0,378.8 L397.2,377.4   L399.4,375.9 L401.5,374.2 L403.7,372.4 L405.8,370.4 L408.0,368.2 L410.2,365.9 L412.3,363.5 L414.5,360.9   L416.6,358.2 L418.8,355.3 L421.0,352.4 L423.1,349.2 L425.3,346.0 L427.4,342.6 L429.6,339.1 L431.8,335.5   L433.9,331.7 L436.1,327.9 L438.2,323.9 L440.4,319.9 L442.6,315.7 L444.7,311.4 L446.9,307.1 L449.0,302.6   L451.2,298.1 L453.3,293.5 L455.5,288.9 L457.7,284.1 L459.8,279.3 L462.0,274.4 L464.1,269.5 L466.3,264.5   L468.5,259.5 L470.6,254.4 L472.8,249.3 L474.9,244.2 L477.1,239.1 L479.3,233.9 L481.4,228.7 L483.6,223.5   L485.7,218.3  \" stroke=\"rgb(  0,   0, 255)\"/></g>\n",
       "\t</g>\n",
       "\t<g id=\"gnuplot_plot_2a\"><title>gnuplot_plot_2a</title>\n",
       "<g color=\"black\" fill=\"none\" stroke=\"currentColor\" stroke-linecap=\"butt\" stroke-linejoin=\"miter\" stroke-width=\"0.50\">\n",
       "\t<path d=\"M53.9,301.1 L56.1,296.6 L58.2,292.0 L60.4,287.3 L62.5,282.5 L64.7,277.7 L66.9,272.8 L69.0,267.9   L71.2,262.9 L73.3,257.8 L75.5,252.8 L77.7,247.6 L79.8,242.5 L82.0,237.3 L84.1,232.2 L86.3,227.0   L88.4,221.8 L90.6,216.6 L92.8,211.4 L94.9,206.2 L97.1,201.0 L99.2,195.8 L101.4,190.7 L103.6,185.5   L105.7,180.5 L107.9,175.4 L110.0,170.4 L112.2,165.4 L114.4,160.5 L116.5,155.7 L118.7,150.9 L120.8,146.2   L123.0,141.5 L125.2,137.0 L127.3,132.5 L129.5,128.1 L131.6,123.7 L133.8,119.5 L135.9,115.4 L138.1,111.3   L140.3,107.4 L142.4,103.6 L144.6,99.9 L146.7,96.3 L148.9,92.9 L151.1,89.5 L153.2,86.3 L155.4,83.2   L157.5,80.3 L159.7,77.5 L161.9,74.8 L164.0,72.3 L166.2,69.9 L168.3,67.6 L170.5,65.5 L172.7,63.6   L174.8,61.8 L177.0,60.2 L179.1,58.7 L181.3,57.4 L183.5,56.2 L185.6,55.2 L187.8,54.4 L189.9,53.7   L192.1,53.2 L194.2,52.8 L196.4,52.6 L198.6,52.6 L200.7,52.7 L202.9,53.0 L205.0,53.5 L207.2,54.1   L209.4,54.9 L211.5,55.9 L213.7,57.0 L215.8,58.2 L218.0,59.7 L220.2,61.3 L222.3,63.0 L224.5,64.9   L226.6,66.9 L228.8,69.1 L231.0,71.5 L233.1,73.9 L235.3,76.6 L237.4,79.3 L239.6,82.2 L241.7,85.3   L243.9,88.4 L246.1,91.7 L248.2,95.2 L250.4,98.7 L252.5,102.4 L254.7,106.1 L256.9,110.0 L259.0,114.0   L261.2,118.1 L263.3,122.3 L265.5,126.6 L267.7,131.0 L269.8,135.5 L272.0,140.0 L274.1,144.6 L276.3,149.3   L278.5,154.1 L280.6,158.9 L282.8,163.8 L284.9,168.7 L287.1,173.7 L289.2,178.8 L291.4,183.8 L293.6,189.0   L295.7,194.1 L297.9,199.3 L300.0,204.4 L302.2,209.6 L304.4,214.8 L306.5,220.0 L308.7,225.2 L310.8,230.4   L313.0,235.6 L315.2,240.8 L317.3,245.9 L319.5,251.1 L321.6,256.1 L323.8,261.2 L326.0,266.2 L328.1,271.2   L330.3,276.1 L332.4,280.9 L334.6,285.7 L336.8,290.4 L338.9,295.1 L341.1,299.6 L343.2,304.1 L345.4,308.5   L347.5,312.9 L349.7,317.1 L351.9,321.2 L354.0,325.3 L356.2,329.2 L358.3,333.0 L360.5,336.7 L362.7,340.3   L364.8,343.7 L367.0,347.1 L369.1,350.3 L371.3,353.4 L373.5,356.3 L375.6,359.1 L377.8,361.8 L379.9,364.3   L382.1,366.7 L384.3,369.0 L386.4,371.1 L388.6,373.0 L390.7,374.8 L392.9,376.4 L395.0,377.9 L397.2,379.2   L399.4,380.4 L401.5,381.4 L403.7,382.2 L405.8,382.9 L408.0,383.4 L410.2,383.8 L412.3,384.0 L414.5,384.0   L416.6,383.9 L418.8,383.6 L421.0,383.1 L423.1,382.5 L425.3,381.7 L427.4,380.7 L429.6,379.6 L431.8,378.4   L433.9,376.9 L436.1,375.3 L438.2,373.6 L440.4,371.7 L442.6,369.7 L444.7,367.5 L446.9,365.1 L449.0,362.7   L451.2,360.0 L453.3,357.3 L455.5,354.4 L457.7,351.3 L459.8,348.2 L462.0,344.9 L464.1,341.4 L466.3,337.9   L468.5,334.2 L470.6,330.5 L472.8,326.6 L474.9,322.6 L477.1,318.5 L479.3,314.3 L481.4,310.0 L483.6,305.6   L485.7,301.2  \" stroke=\"rgb(  0, 255,   0)\"/></g>\n",
       "\t</g>\n",
       "\t<g id=\"gnuplot_plot_3a\"><title>gnuplot_plot_3a</title>\n",
       "<g color=\"black\" fill=\"none\" stroke=\"currentColor\" stroke-linecap=\"butt\" stroke-linejoin=\"miter\" stroke-width=\"0.50\">\n",
       "\t<path d=\"M53.9,361.8 L56.1,359.1 L58.2,356.3 L60.4,353.4 L62.5,350.3 L64.7,347.1 L66.9,343.7 L69.0,340.3   L71.2,336.7 L73.3,333.0 L75.5,329.2 L77.7,325.3 L79.8,321.2 L82.0,317.1 L84.1,312.9 L86.3,308.5   L88.4,304.1 L90.6,299.6 L92.8,295.1 L94.9,290.4 L97.1,285.7 L99.2,280.9 L101.4,276.1 L103.6,271.2   L105.7,266.2 L107.9,261.2 L110.0,256.1 L112.2,251.1 L114.4,245.9 L116.5,240.8 L118.7,235.6 L120.8,230.4   L123.0,225.2 L125.2,220.0 L127.3,214.8 L129.5,209.6 L131.6,204.4 L133.8,199.3 L135.9,194.1 L138.1,189.0   L140.3,183.8 L142.4,178.8 L144.6,173.7 L146.7,168.7 L148.9,163.8 L151.1,158.9 L153.2,154.1 L155.4,149.3   L157.5,144.6 L159.7,140.0 L161.9,135.4 L164.0,131.0 L166.2,126.6 L168.3,122.3 L170.5,118.1 L172.7,114.0   L174.8,110.0 L177.0,106.1 L179.1,102.4 L181.3,98.7 L183.5,95.2 L185.6,91.7 L187.8,88.4 L189.9,85.3   L192.1,82.2 L194.2,79.3 L196.4,76.6 L198.6,73.9 L200.7,71.5 L202.9,69.1 L205.0,66.9 L207.2,64.9   L209.4,63.0 L211.5,61.3 L213.7,59.7 L215.8,58.2 L218.0,57.0 L220.2,55.9 L222.3,54.9 L224.5,54.1   L226.6,53.5 L228.8,53.0 L231.0,52.7 L233.1,52.6 L235.3,52.6 L237.4,52.8 L239.6,53.2 L241.7,53.7   L243.9,54.4 L246.1,55.2 L248.2,56.2 L250.4,57.4 L252.5,58.7 L254.7,60.2 L256.9,61.8 L259.0,63.6   L261.2,65.5 L263.3,67.6 L265.5,69.9 L267.7,72.3 L269.8,74.8 L272.0,77.5 L274.1,80.3 L276.3,83.2   L278.5,86.3 L280.6,89.5 L282.8,92.9 L284.9,96.3 L287.1,99.9 L289.2,103.6 L291.4,107.4 L293.6,111.3   L295.7,115.4 L297.9,119.5 L300.0,123.7 L302.2,128.1 L304.4,132.5 L306.5,137.0 L308.7,141.5 L310.8,146.2   L313.0,150.9 L315.2,155.7 L317.3,160.5 L319.5,165.4 L321.6,170.4 L323.8,175.4 L326.0,180.5 L328.1,185.5   L330.3,190.7 L332.4,195.8 L334.6,201.0 L336.8,206.2 L338.9,211.4 L341.1,216.6 L343.2,221.8 L345.4,227.0   L347.5,232.2 L349.7,237.3 L351.9,242.5 L354.0,247.6 L356.2,252.8 L358.3,257.8 L360.5,262.9 L362.7,267.9   L364.8,272.8 L367.0,277.7 L369.1,282.5 L371.3,287.3 L373.5,292.0 L375.6,296.6 L377.8,301.2 L379.9,305.6   L382.1,310.0 L384.3,314.3 L386.4,318.5 L388.6,322.6 L390.7,326.6 L392.9,330.5 L395.0,334.2 L397.2,337.9   L399.4,341.4 L401.5,344.9 L403.7,348.2 L405.8,351.3 L408.0,354.4 L410.2,357.3 L412.3,360.0 L414.5,362.7   L416.6,365.1 L418.8,367.5 L421.0,369.7 L423.1,371.7 L425.3,373.6 L427.4,375.3 L429.6,376.9 L431.8,378.4   L433.9,379.6 L436.1,380.7 L438.2,381.7 L440.4,382.5 L442.6,383.1 L444.7,383.6 L446.9,383.9 L449.0,384.0   L451.2,384.0 L453.3,383.8 L455.5,383.4 L457.7,382.9 L459.8,382.2 L462.0,381.4 L464.1,380.4 L466.3,379.2   L468.5,377.9 L470.6,376.4 L472.8,374.8 L474.9,373.0 L477.1,371.1 L479.3,369.0 L481.4,366.7 L483.6,364.3   L485.7,361.8  \" stroke=\"rgb(255,   0,   0)\"/></g>\n",
       "\t</g>\n",
       "<g color=\"white\" fill=\"none\" stroke=\"rgb(255,   0,   0)\" stroke-linecap=\"butt\" stroke-linejoin=\"miter\" stroke-width=\"2.00\">\n",
       "</g>\n",
       "<g color=\"black\" fill=\"none\" stroke=\"currentColor\" stroke-linecap=\"butt\" stroke-linejoin=\"miter\" stroke-width=\"2.00\">\n",
       "</g>\n",
       "<g color=\"black\" fill=\"none\" stroke=\"black\" stroke-linecap=\"butt\" stroke-linejoin=\"miter\" stroke-width=\"0.50\">\n",
       "\t<path d=\"M53.9,384.0 L535.0,384.0 M53.9,384.0 L53.9,52.6  \" stroke=\"rgb( 38,  38,  38)\"/></g>\n",
       "<g color=\"black\" fill=\"none\" stroke=\"rgb( 38,  38,  38)\" stroke-linecap=\"butt\" stroke-linejoin=\"miter\" stroke-width=\"1.00\">\n",
       "</g>\n",
       "<g color=\"black\" fill=\"none\" stroke=\"currentColor\" stroke-linecap=\"butt\" stroke-linejoin=\"miter\" stroke-width=\"1.00\">\n",
       "</g>\n",
       "</g>\n",
       "</svg>"
      ],
      "text/plain": [
       "<IPython.core.display.SVG object>"
      ]
     },
     "metadata": {},
     "output_type": "display_data"
    }
   ],
   "source": [
    "hold on\n",
    "plot(x,y1,'b')\n",
    "plot(x,y2,'g')\n",
    "plot(x,y3,'r')\n",
    "title('Multiple plots')"
   ]
  },
  {
   "cell_type": "markdown",
   "metadata": {
    "slideshow": {
     "slide_type": "subslide"
    }
   },
   "source": [
    "The `legend` command provides an easy way to identify the individual plots:"
   ]
  },
  {
   "cell_type": "code",
   "execution_count": 7,
   "metadata": {},
   "outputs": [
    {
     "data": {
      "image/svg+xml": [
       "<svg height=\"420px\" viewBox=\"0 0 560 420\" width=\"560px\" xmlns=\"http://www.w3.org/2000/svg\" xmlns:xlink=\"http://www.w3.org/1999/xlink\">\n",
       "\n",
       "<title>Gnuplot</title>\n",
       "<desc>Produced by GNUPLOT 5.2 patchlevel 2 </desc>\n",
       "\n",
       "<g id=\"gnuplot_canvas\">\n",
       "\n",
       "<rect fill=\"none\" height=\"420\" width=\"560\" x=\"0\" y=\"0\"/>\n",
       "<defs>\n",
       "\n",
       "\t<circle id=\"gpDot\" r=\"0.5\" stroke-width=\"0.5\"/>\n",
       "\t<path d=\"M-1,0 h2 M0,-1 v2\" id=\"gpPt0\" stroke=\"currentColor\" stroke-width=\"0.222\"/>\n",
       "\t<path d=\"M-1,-1 L1,1 M1,-1 L-1,1\" id=\"gpPt1\" stroke=\"currentColor\" stroke-width=\"0.222\"/>\n",
       "\t<path d=\"M-1,0 L1,0 M0,-1 L0,1 M-1,-1 L1,1 M-1,1 L1,-1\" id=\"gpPt2\" stroke=\"currentColor\" stroke-width=\"0.222\"/>\n",
       "\t<rect height=\"2\" id=\"gpPt3\" stroke=\"currentColor\" stroke-width=\"0.222\" width=\"2\" x=\"-1\" y=\"-1\"/>\n",
       "\t<rect fill=\"currentColor\" height=\"2\" id=\"gpPt4\" stroke=\"currentColor\" stroke-width=\"0.222\" width=\"2\" x=\"-1\" y=\"-1\"/>\n",
       "\t<circle cx=\"0\" cy=\"0\" id=\"gpPt5\" r=\"1\" stroke=\"currentColor\" stroke-width=\"0.222\"/>\n",
       "\t<use fill=\"currentColor\" id=\"gpPt6\" stroke=\"none\" xlink:href=\"#gpPt5\"/>\n",
       "\t<path d=\"M0,-1.33 L-1.33,0.67 L1.33,0.67 z\" id=\"gpPt7\" stroke=\"currentColor\" stroke-width=\"0.222\"/>\n",
       "\t<use fill=\"currentColor\" id=\"gpPt8\" stroke=\"none\" xlink:href=\"#gpPt7\"/>\n",
       "\t<use id=\"gpPt9\" stroke=\"currentColor\" transform=\"rotate(180)\" xlink:href=\"#gpPt7\"/>\n",
       "\t<use fill=\"currentColor\" id=\"gpPt10\" stroke=\"none\" xlink:href=\"#gpPt9\"/>\n",
       "\t<use id=\"gpPt11\" stroke=\"currentColor\" transform=\"rotate(45)\" xlink:href=\"#gpPt3\"/>\n",
       "\t<use fill=\"currentColor\" id=\"gpPt12\" stroke=\"none\" xlink:href=\"#gpPt11\"/>\n",
       "\t<path d=\"M0,1.330 L1.265,0.411 L0.782,-1.067 L-0.782,-1.076 L-1.265,0.411 z\" id=\"gpPt13\" stroke=\"currentColor\" stroke-width=\"0.222\"/>\n",
       "\t<use fill=\"currentColor\" id=\"gpPt14\" stroke=\"none\" xlink:href=\"#gpPt13\"/>\n",
       "\t<filter filterUnits=\"objectBoundingBox\" height=\"1\" id=\"textbox\" width=\"1\" x=\"0\" y=\"0\">\n",
       "\t  <feFlood flood-color=\"white\" flood-opacity=\"1\" result=\"bgnd\"/>\n",
       "\t  <feComposite in=\"SourceGraphic\" in2=\"bgnd\" operator=\"atop\"/>\n",
       "\t</filter>\n",
       "\t<filter filterUnits=\"objectBoundingBox\" height=\"1\" id=\"greybox\" width=\"1\" x=\"0\" y=\"0\">\n",
       "\t  <feFlood flood-color=\"lightgrey\" flood-opacity=\"1\" result=\"grey\"/>\n",
       "\t  <feComposite in=\"SourceGraphic\" in2=\"grey\" operator=\"atop\"/>\n",
       "\t</filter>\n",
       "</defs>\n",
       "<g color=\"white\" fill=\"none\" stroke=\"currentColor\" stroke-linecap=\"butt\" stroke-linejoin=\"miter\" stroke-width=\"1.00\">\n",
       "</g>\n",
       "<g color=\"black\" fill=\"none\" stroke=\"currentColor\" stroke-linecap=\"butt\" stroke-linejoin=\"miter\" stroke-width=\"1.00\">\n",
       "\t<g shape-rendering=\"crispEdges\" stroke=\"none\">\n",
       "\t\t<polygon fill=\"rgb(255, 255, 255)\" points=\"53.9,384.0 534.9,384.0 534.9,52.7 53.9,52.7 \"/>\n",
       "\t</g>\n",
       "</g>\n",
       "<g color=\"black\" fill=\"none\" stroke=\"currentColor\" stroke-linecap=\"butt\" stroke-linejoin=\"miter\" stroke-width=\"1.00\">\n",
       "\t<path d=\"M53.9,384.0 L66.4,384.0 M535.0,384.0 L522.5,384.0  \" stroke=\"rgb(  0,   0,   0)\"/>\t<g fill=\"rgb(38,38,38)\" font-family=\"Arial\" font-size=\"10.00\" stroke=\"none\" text-anchor=\"end\" transform=\"translate(45.6,387.3)\">\n",
       "\t\t<text><tspan font-family=\"Arial\">-1</tspan></text>\n",
       "\t</g>\n",
       "</g>\n",
       "<g color=\"black\" fill=\"none\" stroke=\"currentColor\" stroke-linecap=\"butt\" stroke-linejoin=\"miter\" stroke-width=\"1.00\">\n",
       "\t<path d=\"M53.9,301.1 L66.4,301.1 M535.0,301.1 L522.5,301.1  \" stroke=\"rgb(  0,   0,   0)\"/>\t<g fill=\"rgb(38,38,38)\" font-family=\"Arial\" font-size=\"10.00\" stroke=\"none\" text-anchor=\"end\" transform=\"translate(45.6,304.4)\">\n",
       "\t\t<text><tspan font-family=\"Arial\">-0.5</tspan></text>\n",
       "\t</g>\n",
       "</g>\n",
       "<g color=\"black\" fill=\"none\" stroke=\"currentColor\" stroke-linecap=\"butt\" stroke-linejoin=\"miter\" stroke-width=\"1.00\">\n",
       "\t<path d=\"M53.9,218.3 L66.4,218.3 M535.0,218.3 L522.5,218.3  \" stroke=\"rgb(  0,   0,   0)\"/>\t<g fill=\"rgb(38,38,38)\" font-family=\"Arial\" font-size=\"10.00\" stroke=\"none\" text-anchor=\"end\" transform=\"translate(45.6,221.6)\">\n",
       "\t\t<text><tspan font-family=\"Arial\">0</tspan></text>\n",
       "\t</g>\n",
       "</g>\n",
       "<g color=\"black\" fill=\"none\" stroke=\"currentColor\" stroke-linecap=\"butt\" stroke-linejoin=\"miter\" stroke-width=\"1.00\">\n",
       "\t<path d=\"M53.9,135.4 L66.4,135.4 M535.0,135.4 L522.5,135.4  \" stroke=\"rgb(  0,   0,   0)\"/>\t<g fill=\"rgb(38,38,38)\" font-family=\"Arial\" font-size=\"10.00\" stroke=\"none\" text-anchor=\"end\" transform=\"translate(45.6,138.7)\">\n",
       "\t\t<text><tspan font-family=\"Arial\">0.5</tspan></text>\n",
       "\t</g>\n",
       "</g>\n",
       "<g color=\"black\" fill=\"none\" stroke=\"currentColor\" stroke-linecap=\"butt\" stroke-linejoin=\"miter\" stroke-width=\"1.00\">\n",
       "\t<path d=\"M53.9,52.6 L66.4,52.6 M535.0,52.6 L522.5,52.6  \" stroke=\"rgb(  0,   0,   0)\"/>\t<g fill=\"rgb(38,38,38)\" font-family=\"Arial\" font-size=\"10.00\" stroke=\"none\" text-anchor=\"end\" transform=\"translate(45.6,55.9)\">\n",
       "\t\t<text><tspan font-family=\"Arial\">1</tspan></text>\n",
       "\t</g>\n",
       "</g>\n",
       "<g color=\"black\" fill=\"none\" stroke=\"currentColor\" stroke-linecap=\"butt\" stroke-linejoin=\"miter\" stroke-width=\"1.00\">\n",
       "\t<path d=\"M53.9,384.0 L53.9,371.5 M53.9,52.6 L53.9,65.1  \" stroke=\"rgb(  0,   0,   0)\"/>\t<g fill=\"rgb(38,38,38)\" font-family=\"Arial\" font-size=\"10.00\" stroke=\"none\" text-anchor=\"middle\" transform=\"translate(53.9,405.3)\">\n",
       "\t\t<text><tspan font-family=\"Arial\">0</tspan></text>\n",
       "\t</g>\n",
       "</g>\n",
       "<g color=\"black\" fill=\"none\" stroke=\"currentColor\" stroke-linecap=\"butt\" stroke-linejoin=\"miter\" stroke-width=\"1.00\">\n",
       "\t<path d=\"M122.6,384.0 L122.6,371.5 M122.6,52.6 L122.6,65.1  \" stroke=\"rgb(  0,   0,   0)\"/>\t<g fill=\"rgb(38,38,38)\" font-family=\"Arial\" font-size=\"10.00\" stroke=\"none\" text-anchor=\"middle\" transform=\"translate(122.6,405.3)\">\n",
       "\t\t<text><tspan font-family=\"Arial\">1</tspan></text>\n",
       "\t</g>\n",
       "</g>\n",
       "<g color=\"black\" fill=\"none\" stroke=\"currentColor\" stroke-linecap=\"butt\" stroke-linejoin=\"miter\" stroke-width=\"1.00\">\n",
       "\t<path d=\"M191.4,384.0 L191.4,371.5 M191.4,52.6 L191.4,65.1  \" stroke=\"rgb(  0,   0,   0)\"/>\t<g fill=\"rgb(38,38,38)\" font-family=\"Arial\" font-size=\"10.00\" stroke=\"none\" text-anchor=\"middle\" transform=\"translate(191.4,405.3)\">\n",
       "\t\t<text><tspan font-family=\"Arial\">2</tspan></text>\n",
       "\t</g>\n",
       "</g>\n",
       "<g color=\"black\" fill=\"none\" stroke=\"currentColor\" stroke-linecap=\"butt\" stroke-linejoin=\"miter\" stroke-width=\"1.00\">\n",
       "\t<path d=\"M260.1,384.0 L260.1,371.5 M260.1,52.6 L260.1,65.1  \" stroke=\"rgb(  0,   0,   0)\"/>\t<g fill=\"rgb(38,38,38)\" font-family=\"Arial\" font-size=\"10.00\" stroke=\"none\" text-anchor=\"middle\" transform=\"translate(260.1,405.3)\">\n",
       "\t\t<text><tspan font-family=\"Arial\">3</tspan></text>\n",
       "\t</g>\n",
       "</g>\n",
       "<g color=\"black\" fill=\"none\" stroke=\"currentColor\" stroke-linecap=\"butt\" stroke-linejoin=\"miter\" stroke-width=\"1.00\">\n",
       "\t<path d=\"M328.8,384.0 L328.8,371.5 M328.8,52.6 L328.8,65.1  \" stroke=\"rgb(  0,   0,   0)\"/>\t<g fill=\"rgb(38,38,38)\" font-family=\"Arial\" font-size=\"10.00\" stroke=\"none\" text-anchor=\"middle\" transform=\"translate(328.8,405.3)\">\n",
       "\t\t<text><tspan font-family=\"Arial\">4</tspan></text>\n",
       "\t</g>\n",
       "</g>\n",
       "<g color=\"black\" fill=\"none\" stroke=\"currentColor\" stroke-linecap=\"butt\" stroke-linejoin=\"miter\" stroke-width=\"1.00\">\n",
       "\t<path d=\"M397.5,384.0 L397.5,371.5 M397.5,52.6 L397.5,65.1  \" stroke=\"rgb(  0,   0,   0)\"/>\t<g fill=\"rgb(38,38,38)\" font-family=\"Arial\" font-size=\"10.00\" stroke=\"none\" text-anchor=\"middle\" transform=\"translate(397.5,405.3)\">\n",
       "\t\t<text><tspan font-family=\"Arial\">5</tspan></text>\n",
       "\t</g>\n",
       "</g>\n",
       "<g color=\"black\" fill=\"none\" stroke=\"currentColor\" stroke-linecap=\"butt\" stroke-linejoin=\"miter\" stroke-width=\"1.00\">\n",
       "\t<path d=\"M466.3,384.0 L466.3,371.5 M466.3,52.6 L466.3,65.1  \" stroke=\"rgb(  0,   0,   0)\"/>\t<g fill=\"rgb(38,38,38)\" font-family=\"Arial\" font-size=\"10.00\" stroke=\"none\" text-anchor=\"middle\" transform=\"translate(466.3,405.3)\">\n",
       "\t\t<text><tspan font-family=\"Arial\">6</tspan></text>\n",
       "\t</g>\n",
       "</g>\n",
       "<g color=\"black\" fill=\"none\" stroke=\"currentColor\" stroke-linecap=\"butt\" stroke-linejoin=\"miter\" stroke-width=\"1.00\">\n",
       "\t<path d=\"M535.0,384.0 L535.0,371.5 M535.0,52.6 L535.0,65.1  \" stroke=\"rgb(  0,   0,   0)\"/>\t<g fill=\"rgb(38,38,38)\" font-family=\"Arial\" font-size=\"10.00\" stroke=\"none\" text-anchor=\"middle\" transform=\"translate(535.0,405.3)\">\n",
       "\t\t<text><tspan font-family=\"Arial\">7</tspan></text>\n",
       "\t</g>\n",
       "</g>\n",
       "<g color=\"black\" fill=\"none\" stroke=\"currentColor\" stroke-linecap=\"butt\" stroke-linejoin=\"miter\" stroke-width=\"1.00\">\n",
       "</g>\n",
       "<g color=\"black\" fill=\"none\" stroke=\"currentColor\" stroke-linecap=\"butt\" stroke-linejoin=\"miter\" stroke-width=\"1.00\">\n",
       "\t<g fill=\"rgb(0,0,0)\" font-family=\":Bold\" font-size=\"11.00\" stroke=\"none\" text-anchor=\"middle\" transform=\"translate(294.4,30.7)\">\n",
       "\t\t<text><tspan font-family=\"\" font-weight=\"bold\">Multiple plots with legend</tspan></text>\n",
       "\t</g>\n",
       "</g>\n",
       "<g color=\"black\" fill=\"none\" stroke=\"currentColor\" stroke-linecap=\"butt\" stroke-linejoin=\"miter\" stroke-width=\"1.00\">\n",
       "</g>\n",
       "<g color=\"black\" fill=\"none\" stroke=\"currentColor\" stroke-linecap=\"butt\" stroke-linejoin=\"miter\" stroke-width=\"1.00\">\n",
       "\t<path d=\"M398.7,117.7 L398.7,61.6 L526.7,61.6 L526.7,117.7 L398.7,117.7 Z  \" stroke=\"black\"/></g>\n",
       "\t<g id=\"gnuplot_plot_1a\"><title>sin(x)</title>\n",
       "<g color=\"white\" fill=\"none\" stroke=\"black\" stroke-linecap=\"butt\" stroke-linejoin=\"miter\" stroke-width=\"0.50\">\n",
       "</g>\n",
       "<g color=\"black\" fill=\"none\" stroke=\"currentColor\" stroke-linecap=\"butt\" stroke-linejoin=\"miter\" stroke-width=\"0.50\">\n",
       "\t<g fill=\"rgb(0,0,0)\" font-family=\"Arial\" font-size=\"10.00\" stroke=\"none\" text-anchor=\"start\" transform=\"translate(449.7,74.3)\">\n",
       "\t\t<text><tspan font-family=\"Arial\">sin(x)</tspan></text>\n",
       "\t</g>\n",
       "</g>\n",
       "<g color=\"black\" fill=\"none\" stroke=\"currentColor\" stroke-linecap=\"butt\" stroke-linejoin=\"miter\" stroke-width=\"0.50\">\n",
       "\t<path d=\"M405.7,71.0 L442.7,71.0 M53.9,218.3 L56.1,213.1 L58.2,207.9 L60.4,202.7 L62.5,197.5 L64.7,192.4   L66.9,187.3 L69.0,182.2 L71.2,177.1 L73.3,172.1 L75.5,167.1 L77.7,162.2 L79.8,157.3 L82.0,152.5   L84.1,147.7 L86.3,143.1 L88.4,138.5 L90.6,134.0 L92.8,129.5 L94.9,125.2 L97.1,120.9 L99.2,116.7   L101.4,112.7 L103.6,108.7 L105.7,104.9 L107.9,101.1 L110.0,97.5 L112.2,94.0 L114.4,90.6 L116.5,87.4   L118.7,84.2 L120.8,81.3 L123.0,78.4 L125.2,75.7 L127.3,73.1 L129.5,70.7 L131.6,68.4 L133.8,66.2   L135.9,64.2 L138.1,62.4 L140.3,60.7 L142.4,59.2 L144.6,57.8 L146.7,56.6 L148.9,55.5 L151.1,54.6   L153.2,53.9 L155.4,53.3 L157.5,52.9 L159.7,52.7 L161.9,52.6 L164.0,52.7 L166.2,52.9 L168.3,53.3   L170.5,53.9 L172.7,54.6 L174.8,55.5 L177.0,56.6 L179.1,57.8 L181.3,59.2 L183.5,60.7 L185.6,62.4   L187.8,64.2 L189.9,66.2 L192.1,68.4 L194.2,70.7 L196.4,73.1 L198.6,75.7 L200.7,78.4 L202.9,81.3   L205.0,84.2 L207.2,87.4 L209.4,90.6 L211.5,94.0 L213.7,97.5 L215.8,101.1 L218.0,104.9 L220.2,108.7   L222.3,112.7 L224.5,116.7 L226.6,120.9 L228.8,125.2 L231.0,129.5 L233.1,134.0 L235.3,138.5 L237.4,143.1   L239.6,147.7 L241.7,152.5 L243.9,157.3 L246.1,162.2 L248.2,167.1 L250.4,172.1 L252.5,177.1 L254.7,182.2   L256.9,187.3 L259.0,192.4 L261.2,197.5 L263.3,202.7 L265.5,207.9 L267.7,213.1 L269.8,218.3 L272.0,223.5   L274.1,228.7 L276.3,233.9 L278.5,239.1 L280.6,244.2 L282.8,249.3 L284.9,254.4 L287.1,259.5 L289.2,264.5   L291.4,269.5 L293.6,274.4 L295.7,279.3 L297.9,284.1 L300.0,288.9 L302.2,293.5 L304.4,298.1 L306.5,302.6   L308.7,307.1 L310.8,311.4 L313.0,315.7 L315.2,319.9 L317.3,323.9 L319.5,327.9 L321.6,331.7 L323.8,335.5   L326.0,339.1 L328.1,342.6 L330.3,346.0 L332.4,349.2 L334.6,352.4 L336.8,355.3 L338.9,358.2 L341.1,360.9   L343.2,363.5 L345.4,365.9 L347.5,368.2 L349.7,370.4 L351.9,372.4 L354.0,374.2 L356.2,375.9 L358.3,377.4   L360.5,378.8 L362.7,380.0 L364.8,381.1 L367.0,382.0 L369.1,382.7 L371.3,383.3 L373.5,383.7 L375.6,383.9   L377.8,384.0 L379.9,383.9 L382.1,383.7 L384.3,383.3 L386.4,382.7 L388.6,382.0 L390.7,381.1 L392.9,380.0   L395.0,378.8 L397.2,377.4 L399.4,375.9 L401.5,374.2 L403.7,372.4 L405.8,370.4 L408.0,368.2 L410.2,365.9   L412.3,363.5 L414.5,360.9 L416.6,358.2 L418.8,355.3 L421.0,352.4 L423.1,349.2 L425.3,346.0 L427.4,342.6   L429.6,339.1 L431.8,335.5 L433.9,331.7 L436.1,327.9 L438.2,323.9 L440.4,319.9 L442.6,315.7 L444.7,311.4   L446.9,307.1 L449.0,302.6 L451.2,298.1 L453.3,293.5 L455.5,288.9 L457.7,284.1 L459.8,279.3 L462.0,274.4   L464.1,269.5 L466.3,264.5 L468.5,259.5 L470.6,254.4 L472.8,249.3 L474.9,244.2 L477.1,239.1 L479.3,233.9   L481.4,228.7 L483.6,223.5 L485.7,218.3  \" stroke=\"rgb(  0, 114, 189)\"/>\t<use color=\"rgb(  0, 114, 189)\" x=\"424.2\" xlink:href=\"#gpDot\" y=\"71.0\"/>\n",
       "\n",
       "</g>\n",
       "\t</g>\n",
       "\t<g id=\"gnuplot_plot_2a\"><title>sin(x-pi/6)</title>\n",
       "<g color=\"black\" fill=\"none\" stroke=\"currentColor\" stroke-linecap=\"butt\" stroke-linejoin=\"miter\" stroke-width=\"0.50\">\n",
       "\t<g fill=\"rgb(0,0,0)\" font-family=\"Arial\" font-size=\"10.00\" stroke=\"none\" text-anchor=\"start\" transform=\"translate(449.7,93.0)\">\n",
       "\t\t<text><tspan font-family=\"Arial\">sin(x-pi/6)</tspan></text>\n",
       "\t</g>\n",
       "</g>\n",
       "<g color=\"black\" fill=\"none\" stroke=\"currentColor\" stroke-linecap=\"butt\" stroke-linejoin=\"miter\" stroke-width=\"0.50\">\n",
       "\t<path d=\"M405.7,89.7 L442.7,89.7 M53.9,301.1 L56.1,296.6 L58.2,292.0 L60.4,287.3 L62.5,282.5 L64.7,277.7   L66.9,272.8 L69.0,267.9 L71.2,262.9 L73.3,257.8 L75.5,252.8 L77.7,247.6 L79.8,242.5 L82.0,237.3   L84.1,232.2 L86.3,227.0 L88.4,221.8 L90.6,216.6 L92.8,211.4 L94.9,206.2 L97.1,201.0 L99.2,195.8   L101.4,190.7 L103.6,185.5 L105.7,180.5 L107.9,175.4 L110.0,170.4 L112.2,165.4 L114.4,160.5 L116.5,155.7   L118.7,150.9 L120.8,146.2 L123.0,141.5 L125.2,137.0 L127.3,132.5 L129.5,128.1 L131.6,123.7 L133.8,119.5   L135.9,115.4 L138.1,111.3 L140.3,107.4 L142.4,103.6 L144.6,99.9 L146.7,96.3 L148.9,92.9 L151.1,89.5   L153.2,86.3 L155.4,83.2 L157.5,80.3 L159.7,77.5 L161.9,74.8 L164.0,72.3 L166.2,69.9 L168.3,67.6   L170.5,65.5 L172.7,63.6 L174.8,61.8 L177.0,60.2 L179.1,58.7 L181.3,57.4 L183.5,56.2 L185.6,55.2   L187.8,54.4 L189.9,53.7 L192.1,53.2 L194.2,52.8 L196.4,52.6 L198.6,52.6 L200.7,52.7 L202.9,53.0   L205.0,53.5 L207.2,54.1 L209.4,54.9 L211.5,55.9 L213.7,57.0 L215.8,58.2 L218.0,59.7 L220.2,61.3   L222.3,63.0 L224.5,64.9 L226.6,66.9 L228.8,69.1 L231.0,71.5 L233.1,73.9 L235.3,76.6 L237.4,79.3   L239.6,82.2 L241.7,85.3 L243.9,88.4 L246.1,91.7 L248.2,95.2 L250.4,98.7 L252.5,102.4 L254.7,106.1   L256.9,110.0 L259.0,114.0 L261.2,118.1 L263.3,122.3 L265.5,126.6 L267.7,131.0 L269.8,135.5 L272.0,140.0   L274.1,144.6 L276.3,149.3 L278.5,154.1 L280.6,158.9 L282.8,163.8 L284.9,168.7 L287.1,173.7 L289.2,178.8   L291.4,183.8 L293.6,189.0 L295.7,194.1 L297.9,199.3 L300.0,204.4 L302.2,209.6 L304.4,214.8 L306.5,220.0   L308.7,225.2 L310.8,230.4 L313.0,235.6 L315.2,240.8 L317.3,245.9 L319.5,251.1 L321.6,256.1 L323.8,261.2   L326.0,266.2 L328.1,271.2 L330.3,276.1 L332.4,280.9 L334.6,285.7 L336.8,290.4 L338.9,295.1 L341.1,299.6   L343.2,304.1 L345.4,308.5 L347.5,312.9 L349.7,317.1 L351.9,321.2 L354.0,325.3 L356.2,329.2 L358.3,333.0   L360.5,336.7 L362.7,340.3 L364.8,343.7 L367.0,347.1 L369.1,350.3 L371.3,353.4 L373.5,356.3 L375.6,359.1   L377.8,361.8 L379.9,364.3 L382.1,366.7 L384.3,369.0 L386.4,371.1 L388.6,373.0 L390.7,374.8 L392.9,376.4   L395.0,377.9 L397.2,379.2 L399.4,380.4 L401.5,381.4 L403.7,382.2 L405.8,382.9 L408.0,383.4 L410.2,383.8   L412.3,384.0 L414.5,384.0 L416.6,383.9 L418.8,383.6 L421.0,383.1 L423.1,382.5 L425.3,381.7 L427.4,380.7   L429.6,379.6 L431.8,378.4 L433.9,376.9 L436.1,375.3 L438.2,373.6 L440.4,371.7 L442.6,369.7 L444.7,367.5   L446.9,365.1 L449.0,362.7 L451.2,360.0 L453.3,357.3 L455.5,354.4 L457.7,351.3 L459.8,348.2 L462.0,344.9   L464.1,341.4 L466.3,337.9 L468.5,334.2 L470.6,330.5 L472.8,326.6 L474.9,322.6 L477.1,318.5 L479.3,314.3   L481.4,310.0 L483.6,305.6 L485.7,301.2  \" stroke=\"rgb(217,  83,  25)\"/>\t<use color=\"rgb(217,  83,  25)\" x=\"424.2\" xlink:href=\"#gpDot\" y=\"89.7\"/>\n",
       "\n",
       "</g>\n",
       "\t</g>\n",
       "\t<g id=\"gnuplot_plot_3a\"><title>sin(x-pi/3)</title>\n",
       "<g color=\"black\" fill=\"none\" stroke=\"currentColor\" stroke-linecap=\"butt\" stroke-linejoin=\"miter\" stroke-width=\"0.50\">\n",
       "\t<g fill=\"rgb(0,0,0)\" font-family=\"Arial\" font-size=\"10.00\" stroke=\"none\" text-anchor=\"start\" transform=\"translate(449.7,111.7)\">\n",
       "\t\t<text><tspan font-family=\"Arial\">sin(x-pi/3)</tspan></text>\n",
       "\t</g>\n",
       "</g>\n",
       "<g color=\"black\" fill=\"none\" stroke=\"currentColor\" stroke-linecap=\"butt\" stroke-linejoin=\"miter\" stroke-width=\"0.50\">\n",
       "\t<path d=\"M405.7,108.4 L442.7,108.4 M53.9,361.8 L56.1,359.1 L58.2,356.3 L60.4,353.4 L62.5,350.3 L64.7,347.1   L66.9,343.7 L69.0,340.3 L71.2,336.7 L73.3,333.0 L75.5,329.2 L77.7,325.3 L79.8,321.2 L82.0,317.1   L84.1,312.9 L86.3,308.5 L88.4,304.1 L90.6,299.6 L92.8,295.1 L94.9,290.4 L97.1,285.7 L99.2,280.9   L101.4,276.1 L103.6,271.2 L105.7,266.2 L107.9,261.2 L110.0,256.1 L112.2,251.1 L114.4,245.9 L116.5,240.8   L118.7,235.6 L120.8,230.4 L123.0,225.2 L125.2,220.0 L127.3,214.8 L129.5,209.6 L131.6,204.4 L133.8,199.3   L135.9,194.1 L138.1,189.0 L140.3,183.8 L142.4,178.8 L144.6,173.7 L146.7,168.7 L148.9,163.8 L151.1,158.9   L153.2,154.1 L155.4,149.3 L157.5,144.6 L159.7,140.0 L161.9,135.4 L164.0,131.0 L166.2,126.6 L168.3,122.3   L170.5,118.1 L172.7,114.0 L174.8,110.0 L177.0,106.1 L179.1,102.4 L181.3,98.7 L183.5,95.2 L185.6,91.7   L187.8,88.4 L189.9,85.3 L192.1,82.2 L194.2,79.3 L196.4,76.6 L198.6,73.9 L200.7,71.5 L202.9,69.1   L205.0,66.9 L207.2,64.9 L209.4,63.0 L211.5,61.3 L213.7,59.7 L215.8,58.2 L218.0,57.0 L220.2,55.9   L222.3,54.9 L224.5,54.1 L226.6,53.5 L228.8,53.0 L231.0,52.7 L233.1,52.6 L235.3,52.6 L237.4,52.8   L239.6,53.2 L241.7,53.7 L243.9,54.4 L246.1,55.2 L248.2,56.2 L250.4,57.4 L252.5,58.7 L254.7,60.2   L256.9,61.8 L259.0,63.6 L261.2,65.5 L263.3,67.6 L265.5,69.9 L267.7,72.3 L269.8,74.8 L272.0,77.5   L274.1,80.3 L276.3,83.2 L278.5,86.3 L280.6,89.5 L282.8,92.9 L284.9,96.3 L287.1,99.9 L289.2,103.6   L291.4,107.4 L293.6,111.3 L295.7,115.4 L297.9,119.5 L300.0,123.7 L302.2,128.1 L304.4,132.5 L306.5,137.0   L308.7,141.5 L310.8,146.2 L313.0,150.9 L315.2,155.7 L317.3,160.5 L319.5,165.4 L321.6,170.4 L323.8,175.4   L326.0,180.5 L328.1,185.5 L330.3,190.7 L332.4,195.8 L334.6,201.0 L336.8,206.2 L338.9,211.4 L341.1,216.6   L343.2,221.8 L345.4,227.0 L347.5,232.2 L349.7,237.3 L351.9,242.5 L354.0,247.6 L356.2,252.8 L358.3,257.8   L360.5,262.9 L362.7,267.9 L364.8,272.8 L367.0,277.7 L369.1,282.5 L371.3,287.3 L373.5,292.0 L375.6,296.6   L377.8,301.2 L379.9,305.6 L382.1,310.0 L384.3,314.3 L386.4,318.5 L388.6,322.6 L390.7,326.6 L392.9,330.5   L395.0,334.2 L397.2,337.9 L399.4,341.4 L401.5,344.9 L403.7,348.2 L405.8,351.3 L408.0,354.4 L410.2,357.3   L412.3,360.0 L414.5,362.7 L416.6,365.1 L418.8,367.5 L421.0,369.7 L423.1,371.7 L425.3,373.6 L427.4,375.3   L429.6,376.9 L431.8,378.4 L433.9,379.6 L436.1,380.7 L438.2,381.7 L440.4,382.5 L442.6,383.1 L444.7,383.6   L446.9,383.9 L449.0,384.0 L451.2,384.0 L453.3,383.8 L455.5,383.4 L457.7,382.9 L459.8,382.2 L462.0,381.4   L464.1,380.4 L466.3,379.2 L468.5,377.9 L470.6,376.4 L472.8,374.8 L474.9,373.0 L477.1,371.1 L479.3,369.0   L481.4,366.7 L483.6,364.3 L485.7,361.8  \" stroke=\"rgb(237, 177,  32)\"/>\t<use color=\"rgb(237, 177,  32)\" x=\"424.2\" xlink:href=\"#gpDot\" y=\"108.4\"/>\n",
       "\n",
       "</g>\n",
       "\t</g>\n",
       "<g color=\"white\" fill=\"none\" stroke=\"rgb(237, 177,  32)\" stroke-linecap=\"butt\" stroke-linejoin=\"miter\" stroke-width=\"2.00\">\n",
       "</g>\n",
       "<g color=\"black\" fill=\"none\" stroke=\"currentColor\" stroke-linecap=\"butt\" stroke-linejoin=\"miter\" stroke-width=\"2.00\">\n",
       "</g>\n",
       "<g color=\"black\" fill=\"none\" stroke=\"black\" stroke-linecap=\"butt\" stroke-linejoin=\"miter\" stroke-width=\"0.50\">\n",
       "\t<path d=\"M53.9,384.0 L535.0,384.0 M53.9,52.6 L535.0,52.6 M53.9,384.0 L53.9,52.6 M535.0,384.0 L535.0,52.6    \" stroke=\"rgb( 38,  38,  38)\"/></g>\n",
       "<g color=\"black\" fill=\"none\" stroke=\"rgb( 38,  38,  38)\" stroke-linecap=\"butt\" stroke-linejoin=\"miter\" stroke-width=\"1.00\">\n",
       "</g>\n",
       "<g color=\"black\" fill=\"none\" stroke=\"currentColor\" stroke-linecap=\"butt\" stroke-linejoin=\"miter\" stroke-width=\"1.00\">\n",
       "</g>\n",
       "</g>\n",
       "</svg>"
      ],
      "text/plain": [
       "<IPython.core.display.SVG object>"
      ]
     },
     "metadata": {},
     "output_type": "display_data"
    }
   ],
   "source": [
    "plot(x,y1,x,y2,x,y3)\n",
    "legend('sin(x)', 'sin(x-pi/6)', 'sin(x-pi/3)')\n",
    "title('Multiple plots with legend')"
   ]
  },
  {
   "cell_type": "markdown",
   "metadata": {
    "slideshow": {
     "slide_type": "slide"
    }
   },
   "source": [
    "# Specifying line styles and colors\n",
    "\n",
    "It is possible to specify color, line styles, and markers (such as plus signs or circles) when your plot your data using the plot command: \n",
    "\n",
    "`plot(x,y,color_style_marker)`.\n",
    "\n",
    "`color_style_marker` is a string containing from one to four characters (enclosed in single quotation marks) constructed from a color, a line style, and a marker type:\n",
    "\n",
    "- Color strings are `c`, `m`, `y`, `r`, `g`, `b`, `w` and `k`. They correspond to cyan, magenta, yellow, red, green, blue, white and black.\n",
    "- Line style strings are `-` for solid, `--` for dashed, `.` for dotted, `-.` for dash-dot. Omit the line style for no line. (MATLAB only)\n",
    "- The marker types are `.`, `+`, `o`, `*` and `x`; the filled marker types are `s` for square, `d` for diamond, `^` for up triangle, `v` for down triangle, `>` for right triangle, `<` for left triangle, `p` for pentagram, `h` for hexagram. Omit the marker type for no marker."
   ]
  },
  {
   "cell_type": "code",
   "execution_count": 7,
   "metadata": {
    "slideshow": {
     "slide_type": "subslide"
    }
   },
   "outputs": [
    {
     "data": {
      "image/png": "[encoded data removed]",
      "text/plain": [
       "<IPython.core.display.Image object>"
      ]
     },
     "metadata": {},
     "output_type": "display_data"
    }
   ],
   "source": [
    "plot(x, y, 'r:')\n",
    "title('Red dotted')"
   ]
  },
  {
   "cell_type": "code",
   "execution_count": 9,
   "metadata": {
    "slideshow": {
     "slide_type": "subslide"
    }
   },
   "outputs": [
    {
     "data": {
      "image/svg+xml": [
       "<svg height=\"420px\" viewBox=\"0 0 560 420\" width=\"560px\" xmlns=\"http://www.w3.org/2000/svg\" xmlns:xlink=\"http://www.w3.org/1999/xlink\">\n",
       "\n",
       "<title>Gnuplot</title>\n",
       "<desc>Produced by GNUPLOT 5.2 patchlevel 2 </desc>\n",
       "\n",
       "<g id=\"gnuplot_canvas\">\n",
       "\n",
       "<rect fill=\"none\" height=\"420\" width=\"560\" x=\"0\" y=\"0\"/>\n",
       "<defs>\n",
       "\n",
       "\t<circle id=\"gpDot\" r=\"0.5\" stroke-width=\"0.5\"/>\n",
       "\t<path d=\"M-1,0 h2 M0,-1 v2\" id=\"gpPt0\" stroke=\"currentColor\" stroke-width=\"0.222\"/>\n",
       "\t<path d=\"M-1,-1 L1,1 M1,-1 L-1,1\" id=\"gpPt1\" stroke=\"currentColor\" stroke-width=\"0.222\"/>\n",
       "\t<path d=\"M-1,0 L1,0 M0,-1 L0,1 M-1,-1 L1,1 M-1,1 L1,-1\" id=\"gpPt2\" stroke=\"currentColor\" stroke-width=\"0.222\"/>\n",
       "\t<rect height=\"2\" id=\"gpPt3\" stroke=\"currentColor\" stroke-width=\"0.222\" width=\"2\" x=\"-1\" y=\"-1\"/>\n",
       "\t<rect fill=\"currentColor\" height=\"2\" id=\"gpPt4\" stroke=\"currentColor\" stroke-width=\"0.222\" width=\"2\" x=\"-1\" y=\"-1\"/>\n",
       "\t<circle cx=\"0\" cy=\"0\" id=\"gpPt5\" r=\"1\" stroke=\"currentColor\" stroke-width=\"0.222\"/>\n",
       "\t<use fill=\"currentColor\" id=\"gpPt6\" stroke=\"none\" xlink:href=\"#gpPt5\"/>\n",
       "\t<path d=\"M0,-1.33 L-1.33,0.67 L1.33,0.67 z\" id=\"gpPt7\" stroke=\"currentColor\" stroke-width=\"0.222\"/>\n",
       "\t<use fill=\"currentColor\" id=\"gpPt8\" stroke=\"none\" xlink:href=\"#gpPt7\"/>\n",
       "\t<use id=\"gpPt9\" stroke=\"currentColor\" transform=\"rotate(180)\" xlink:href=\"#gpPt7\"/>\n",
       "\t<use fill=\"currentColor\" id=\"gpPt10\" stroke=\"none\" xlink:href=\"#gpPt9\"/>\n",
       "\t<use id=\"gpPt11\" stroke=\"currentColor\" transform=\"rotate(45)\" xlink:href=\"#gpPt3\"/>\n",
       "\t<use fill=\"currentColor\" id=\"gpPt12\" stroke=\"none\" xlink:href=\"#gpPt11\"/>\n",
       "\t<path d=\"M0,1.330 L1.265,0.411 L0.782,-1.067 L-0.782,-1.076 L-1.265,0.411 z\" id=\"gpPt13\" stroke=\"currentColor\" stroke-width=\"0.222\"/>\n",
       "\t<use fill=\"currentColor\" id=\"gpPt14\" stroke=\"none\" xlink:href=\"#gpPt13\"/>\n",
       "\t<filter filterUnits=\"objectBoundingBox\" height=\"1\" id=\"textbox\" width=\"1\" x=\"0\" y=\"0\">\n",
       "\t  <feFlood flood-color=\"white\" flood-opacity=\"1\" result=\"bgnd\"/>\n",
       "\t  <feComposite in=\"SourceGraphic\" in2=\"bgnd\" operator=\"atop\"/>\n",
       "\t</filter>\n",
       "\t<filter filterUnits=\"objectBoundingBox\" height=\"1\" id=\"greybox\" width=\"1\" x=\"0\" y=\"0\">\n",
       "\t  <feFlood flood-color=\"lightgrey\" flood-opacity=\"1\" result=\"grey\"/>\n",
       "\t  <feComposite in=\"SourceGraphic\" in2=\"grey\" operator=\"atop\"/>\n",
       "\t</filter>\n",
       "</defs>\n",
       "<g color=\"white\" fill=\"none\" stroke=\"currentColor\" stroke-linecap=\"butt\" stroke-linejoin=\"miter\" stroke-width=\"1.00\">\n",
       "</g>\n",
       "<g color=\"black\" fill=\"none\" stroke=\"currentColor\" stroke-linecap=\"butt\" stroke-linejoin=\"miter\" stroke-width=\"1.00\">\n",
       "\t<g shape-rendering=\"crispEdges\" stroke=\"none\">\n",
       "\t\t<polygon fill=\"rgb(255, 255, 255)\" points=\"53.9,384.0 534.9,384.0 534.9,52.7 53.9,52.7 \"/>\n",
       "\t</g>\n",
       "</g>\n",
       "<g color=\"black\" fill=\"none\" stroke=\"currentColor\" stroke-linecap=\"butt\" stroke-linejoin=\"miter\" stroke-width=\"1.00\">\n",
       "\t<path d=\"M53.9,384.0 L66.4,384.0 M535.0,384.0 L522.5,384.0  \" stroke=\"rgb(  0,   0,   0)\"/>\t<g fill=\"rgb(38,38,38)\" font-family=\"Arial\" font-size=\"10.00\" stroke=\"none\" text-anchor=\"end\" transform=\"translate(45.6,387.3)\">\n",
       "\t\t<text><tspan font-family=\"Arial\">-1</tspan></text>\n",
       "\t</g>\n",
       "</g>\n",
       "<g color=\"black\" fill=\"none\" stroke=\"currentColor\" stroke-linecap=\"butt\" stroke-linejoin=\"miter\" stroke-width=\"1.00\">\n",
       "\t<path d=\"M53.9,301.1 L66.4,301.1 M535.0,301.1 L522.5,301.1  \" stroke=\"rgb(  0,   0,   0)\"/>\t<g fill=\"rgb(38,38,38)\" font-family=\"Arial\" font-size=\"10.00\" stroke=\"none\" text-anchor=\"end\" transform=\"translate(45.6,304.4)\">\n",
       "\t\t<text><tspan font-family=\"Arial\">-0.5</tspan></text>\n",
       "\t</g>\n",
       "</g>\n",
       "<g color=\"black\" fill=\"none\" stroke=\"currentColor\" stroke-linecap=\"butt\" stroke-linejoin=\"miter\" stroke-width=\"1.00\">\n",
       "\t<path d=\"M53.9,218.3 L66.4,218.3 M535.0,218.3 L522.5,218.3  \" stroke=\"rgb(  0,   0,   0)\"/>\t<g fill=\"rgb(38,38,38)\" font-family=\"Arial\" font-size=\"10.00\" stroke=\"none\" text-anchor=\"end\" transform=\"translate(45.6,221.6)\">\n",
       "\t\t<text><tspan font-family=\"Arial\">0</tspan></text>\n",
       "\t</g>\n",
       "</g>\n",
       "<g color=\"black\" fill=\"none\" stroke=\"currentColor\" stroke-linecap=\"butt\" stroke-linejoin=\"miter\" stroke-width=\"1.00\">\n",
       "\t<path d=\"M53.9,135.4 L66.4,135.4 M535.0,135.4 L522.5,135.4  \" stroke=\"rgb(  0,   0,   0)\"/>\t<g fill=\"rgb(38,38,38)\" font-family=\"Arial\" font-size=\"10.00\" stroke=\"none\" text-anchor=\"end\" transform=\"translate(45.6,138.7)\">\n",
       "\t\t<text><tspan font-family=\"Arial\">0.5</tspan></text>\n",
       "\t</g>\n",
       "</g>\n",
       "<g color=\"black\" fill=\"none\" stroke=\"currentColor\" stroke-linecap=\"butt\" stroke-linejoin=\"miter\" stroke-width=\"1.00\">\n",
       "\t<path d=\"M53.9,52.6 L66.4,52.6 M535.0,52.6 L522.5,52.6  \" stroke=\"rgb(  0,   0,   0)\"/>\t<g fill=\"rgb(38,38,38)\" font-family=\"Arial\" font-size=\"10.00\" stroke=\"none\" text-anchor=\"end\" transform=\"translate(45.6,55.9)\">\n",
       "\t\t<text><tspan font-family=\"Arial\">1</tspan></text>\n",
       "\t</g>\n",
       "</g>\n",
       "<g color=\"black\" fill=\"none\" stroke=\"currentColor\" stroke-linecap=\"butt\" stroke-linejoin=\"miter\" stroke-width=\"1.00\">\n",
       "\t<path d=\"M53.9,384.0 L53.9,371.5 M53.9,52.6 L53.9,65.1  \" stroke=\"rgb(  0,   0,   0)\"/>\t<g fill=\"rgb(38,38,38)\" font-family=\"Arial\" font-size=\"10.00\" stroke=\"none\" text-anchor=\"middle\" transform=\"translate(53.9,405.3)\">\n",
       "\t\t<text><tspan font-family=\"Arial\">0</tspan></text>\n",
       "\t</g>\n",
       "</g>\n",
       "<g color=\"black\" fill=\"none\" stroke=\"currentColor\" stroke-linecap=\"butt\" stroke-linejoin=\"miter\" stroke-width=\"1.00\">\n",
       "\t<path d=\"M122.6,384.0 L122.6,371.5 M122.6,52.6 L122.6,65.1  \" stroke=\"rgb(  0,   0,   0)\"/>\t<g fill=\"rgb(38,38,38)\" font-family=\"Arial\" font-size=\"10.00\" stroke=\"none\" text-anchor=\"middle\" transform=\"translate(122.6,405.3)\">\n",
       "\t\t<text><tspan font-family=\"Arial\">1</tspan></text>\n",
       "\t</g>\n",
       "</g>\n",
       "<g color=\"black\" fill=\"none\" stroke=\"currentColor\" stroke-linecap=\"butt\" stroke-linejoin=\"miter\" stroke-width=\"1.00\">\n",
       "\t<path d=\"M191.4,384.0 L191.4,371.5 M191.4,52.6 L191.4,65.1  \" stroke=\"rgb(  0,   0,   0)\"/>\t<g fill=\"rgb(38,38,38)\" font-family=\"Arial\" font-size=\"10.00\" stroke=\"none\" text-anchor=\"middle\" transform=\"translate(191.4,405.3)\">\n",
       "\t\t<text><tspan font-family=\"Arial\">2</tspan></text>\n",
       "\t</g>\n",
       "</g>\n",
       "<g color=\"black\" fill=\"none\" stroke=\"currentColor\" stroke-linecap=\"butt\" stroke-linejoin=\"miter\" stroke-width=\"1.00\">\n",
       "\t<path d=\"M260.1,384.0 L260.1,371.5 M260.1,52.6 L260.1,65.1  \" stroke=\"rgb(  0,   0,   0)\"/>\t<g fill=\"rgb(38,38,38)\" font-family=\"Arial\" font-size=\"10.00\" stroke=\"none\" text-anchor=\"middle\" transform=\"translate(260.1,405.3)\">\n",
       "\t\t<text><tspan font-family=\"Arial\">3</tspan></text>\n",
       "\t</g>\n",
       "</g>\n",
       "<g color=\"black\" fill=\"none\" stroke=\"currentColor\" stroke-linecap=\"butt\" stroke-linejoin=\"miter\" stroke-width=\"1.00\">\n",
       "\t<path d=\"M328.8,384.0 L328.8,371.5 M328.8,52.6 L328.8,65.1  \" stroke=\"rgb(  0,   0,   0)\"/>\t<g fill=\"rgb(38,38,38)\" font-family=\"Arial\" font-size=\"10.00\" stroke=\"none\" text-anchor=\"middle\" transform=\"translate(328.8,405.3)\">\n",
       "\t\t<text><tspan font-family=\"Arial\">4</tspan></text>\n",
       "\t</g>\n",
       "</g>\n",
       "<g color=\"black\" fill=\"none\" stroke=\"currentColor\" stroke-linecap=\"butt\" stroke-linejoin=\"miter\" stroke-width=\"1.00\">\n",
       "\t<path d=\"M397.5,384.0 L397.5,371.5 M397.5,52.6 L397.5,65.1  \" stroke=\"rgb(  0,   0,   0)\"/>\t<g fill=\"rgb(38,38,38)\" font-family=\"Arial\" font-size=\"10.00\" stroke=\"none\" text-anchor=\"middle\" transform=\"translate(397.5,405.3)\">\n",
       "\t\t<text><tspan font-family=\"Arial\">5</tspan></text>\n",
       "\t</g>\n",
       "</g>\n",
       "<g color=\"black\" fill=\"none\" stroke=\"currentColor\" stroke-linecap=\"butt\" stroke-linejoin=\"miter\" stroke-width=\"1.00\">\n",
       "\t<path d=\"M466.3,384.0 L466.3,371.5 M466.3,52.6 L466.3,65.1  \" stroke=\"rgb(  0,   0,   0)\"/>\t<g fill=\"rgb(38,38,38)\" font-family=\"Arial\" font-size=\"10.00\" stroke=\"none\" text-anchor=\"middle\" transform=\"translate(466.3,405.3)\">\n",
       "\t\t<text><tspan font-family=\"Arial\">6</tspan></text>\n",
       "\t</g>\n",
       "</g>\n",
       "<g color=\"black\" fill=\"none\" stroke=\"currentColor\" stroke-linecap=\"butt\" stroke-linejoin=\"miter\" stroke-width=\"1.00\">\n",
       "\t<path d=\"M535.0,384.0 L535.0,371.5 M535.0,52.6 L535.0,65.1  \" stroke=\"rgb(  0,   0,   0)\"/>\t<g fill=\"rgb(38,38,38)\" font-family=\"Arial\" font-size=\"10.00\" stroke=\"none\" text-anchor=\"middle\" transform=\"translate(535.0,405.3)\">\n",
       "\t\t<text><tspan font-family=\"Arial\">7</tspan></text>\n",
       "\t</g>\n",
       "</g>\n",
       "<g color=\"black\" fill=\"none\" stroke=\"currentColor\" stroke-linecap=\"butt\" stroke-linejoin=\"miter\" stroke-width=\"1.00\">\n",
       "</g>\n",
       "<g color=\"black\" fill=\"none\" stroke=\"currentColor\" stroke-linecap=\"butt\" stroke-linejoin=\"miter\" stroke-width=\"1.00\">\n",
       "\t<g fill=\"rgb(0,0,0)\" font-family=\":Bold\" font-size=\"11.00\" stroke=\"none\" text-anchor=\"middle\" transform=\"translate(294.4,30.7)\">\n",
       "\t\t<text><tspan font-family=\"\" font-weight=\"bold\">Green diamonds</tspan></text>\n",
       "\t</g>\n",
       "</g>\n",
       "<g color=\"black\" fill=\"none\" stroke=\"currentColor\" stroke-linecap=\"butt\" stroke-linejoin=\"miter\" stroke-width=\"1.00\">\n",
       "</g>\n",
       "\t<g id=\"gnuplot_plot_1a\"><title>gnuplot_plot_1a</title>\n",
       "<g color=\"white\" fill=\"none\" stroke=\"currentColor\" stroke-linecap=\"butt\" stroke-linejoin=\"miter\" stroke-width=\"0.50\">\n",
       "</g>\n",
       "<g color=\"black\" fill=\"none\" stroke=\"currentColor\" stroke-linecap=\"butt\" stroke-linejoin=\"miter\" stroke-width=\"0.50\">\n",
       "\t<g onmousemove=\"gnuplot_svg.showHypertext(evt,'')\" onmouseout=\"gnuplot_svg.hideHypertext()\"><title> </title>\n",
       "\t<use color=\"rgb(  0, 255,   0)\" transform=\"translate(53.9,218.3) scale(9.00)\" xlink:href=\"#gpPt11\"/></g>\n",
       "\t<use color=\"rgb(  0, 255,   0)\" transform=\"translate(75.5,167.1) scale(9.00)\" xlink:href=\"#gpPt11\"/>\n",
       "\t<use color=\"rgb(  0, 255,   0)\" transform=\"translate(97.1,120.9) scale(9.00)\" xlink:href=\"#gpPt11\"/>\n",
       "\t<use color=\"rgb(  0, 255,   0)\" transform=\"translate(118.7,84.2) scale(9.00)\" xlink:href=\"#gpPt11\"/>\n",
       "\t<use color=\"rgb(  0, 255,   0)\" transform=\"translate(140.3,60.7) scale(9.00)\" xlink:href=\"#gpPt11\"/>\n",
       "\t<use color=\"rgb(  0, 255,   0)\" transform=\"translate(161.9,52.6) scale(9.00)\" xlink:href=\"#gpPt11\"/>\n",
       "\t<use color=\"rgb(  0, 255,   0)\" transform=\"translate(183.5,60.7) scale(9.00)\" xlink:href=\"#gpPt11\"/>\n",
       "\t<use color=\"rgb(  0, 255,   0)\" transform=\"translate(205.0,84.2) scale(9.00)\" xlink:href=\"#gpPt11\"/>\n",
       "\t<use color=\"rgb(  0, 255,   0)\" transform=\"translate(226.6,120.9) scale(9.00)\" xlink:href=\"#gpPt11\"/>\n",
       "\t<use color=\"rgb(  0, 255,   0)\" transform=\"translate(248.2,167.1) scale(9.00)\" xlink:href=\"#gpPt11\"/>\n",
       "\t<use color=\"rgb(  0, 255,   0)\" transform=\"translate(269.8,218.3) scale(9.00)\" xlink:href=\"#gpPt11\"/>\n",
       "\t<use color=\"rgb(  0, 255,   0)\" transform=\"translate(291.4,269.5) scale(9.00)\" xlink:href=\"#gpPt11\"/>\n",
       "\t<use color=\"rgb(  0, 255,   0)\" transform=\"translate(313.0,315.7) scale(9.00)\" xlink:href=\"#gpPt11\"/>\n",
       "\t<use color=\"rgb(  0, 255,   0)\" transform=\"translate(334.6,352.4) scale(9.00)\" xlink:href=\"#gpPt11\"/>\n",
       "\t<use color=\"rgb(  0, 255,   0)\" transform=\"translate(356.2,375.9) scale(9.00)\" xlink:href=\"#gpPt11\"/>\n",
       "\t<use color=\"rgb(  0, 255,   0)\" transform=\"translate(377.8,384.0) scale(9.00)\" xlink:href=\"#gpPt11\"/>\n",
       "\t<use color=\"rgb(  0, 255,   0)\" transform=\"translate(399.4,375.9) scale(9.00)\" xlink:href=\"#gpPt11\"/>\n",
       "\t<use color=\"rgb(  0, 255,   0)\" transform=\"translate(421.0,352.4) scale(9.00)\" xlink:href=\"#gpPt11\"/>\n",
       "\t<use color=\"rgb(  0, 255,   0)\" transform=\"translate(442.6,315.7) scale(9.00)\" xlink:href=\"#gpPt11\"/>\n",
       "\t<use color=\"rgb(  0, 255,   0)\" transform=\"translate(464.1,269.5) scale(9.00)\" xlink:href=\"#gpPt11\"/>\n",
       "\t<use color=\"rgb(  0, 255,   0)\" transform=\"translate(485.7,218.3) scale(9.00)\" xlink:href=\"#gpPt11\"/>\n",
       "</g>\n",
       "\t</g>\n",
       "<g color=\"white\" fill=\"none\" stroke=\"rgb(  0, 255,   0)\" stroke-linecap=\"butt\" stroke-linejoin=\"miter\" stroke-width=\"2.00\">\n",
       "</g>\n",
       "<g color=\"black\" fill=\"none\" stroke=\"currentColor\" stroke-linecap=\"butt\" stroke-linejoin=\"miter\" stroke-width=\"2.00\">\n",
       "</g>\n",
       "<g color=\"black\" fill=\"none\" stroke=\"black\" stroke-linecap=\"butt\" stroke-linejoin=\"miter\" stroke-width=\"0.50\">\n",
       "\t<path d=\"M53.9,384.0 L535.0,384.0 M53.9,52.6 L535.0,52.6 M53.9,384.0 L53.9,52.6 M535.0,384.0 L535.0,52.6    \" stroke=\"rgb( 38,  38,  38)\"/></g>\n",
       "<g color=\"black\" fill=\"none\" stroke=\"rgb( 38,  38,  38)\" stroke-linecap=\"butt\" stroke-linejoin=\"miter\" stroke-width=\"1.00\">\n",
       "</g>\n",
       "<g color=\"black\" fill=\"none\" stroke=\"currentColor\" stroke-linecap=\"butt\" stroke-linejoin=\"miter\" stroke-width=\"1.00\">\n",
       "</g>\n",
       "</g>\n",
       "</svg>"
      ],
      "text/plain": [
       "<IPython.core.display.SVG object>"
      ]
     },
     "metadata": {},
     "output_type": "display_data"
    }
   ],
   "source": [
    "x = 0:pi/10:2*pi;\n",
    "y = sin(x);\n",
    "plot(x,y, 'gd')\n",
    "title('Green diamonds')"
   ]
  },
  {
   "cell_type": "markdown",
   "metadata": {
    "slideshow": {
     "slide_type": "subslide"
    }
   },
   "source": [
    "You might want to use fewer data points to plot the markers that you use than you use to plot the lines"
   ]
  },
  {
   "cell_type": "code",
   "execution_count": 10,
   "metadata": {},
   "outputs": [
    {
     "data": {
      "image/svg+xml": [
       "<svg height=\"420px\" viewBox=\"0 0 560 420\" width=\"560px\" xmlns=\"http://www.w3.org/2000/svg\" xmlns:xlink=\"http://www.w3.org/1999/xlink\">\n",
       "\n",
       "<title>Gnuplot</title>\n",
       "<desc>Produced by GNUPLOT 5.2 patchlevel 2 </desc>\n",
       "\n",
       "<g id=\"gnuplot_canvas\">\n",
       "\n",
       "<rect fill=\"none\" height=\"420\" width=\"560\" x=\"0\" y=\"0\"/>\n",
       "<defs>\n",
       "\n",
       "\t<circle id=\"gpDot\" r=\"0.5\" stroke-width=\"0.5\"/>\n",
       "\t<path d=\"M-1,0 h2 M0,-1 v2\" id=\"gpPt0\" stroke=\"currentColor\" stroke-width=\"0.222\"/>\n",
       "\t<path d=\"M-1,-1 L1,1 M1,-1 L-1,1\" id=\"gpPt1\" stroke=\"currentColor\" stroke-width=\"0.222\"/>\n",
       "\t<path d=\"M-1,0 L1,0 M0,-1 L0,1 M-1,-1 L1,1 M-1,1 L1,-1\" id=\"gpPt2\" stroke=\"currentColor\" stroke-width=\"0.222\"/>\n",
       "\t<rect height=\"2\" id=\"gpPt3\" stroke=\"currentColor\" stroke-width=\"0.222\" width=\"2\" x=\"-1\" y=\"-1\"/>\n",
       "\t<rect fill=\"currentColor\" height=\"2\" id=\"gpPt4\" stroke=\"currentColor\" stroke-width=\"0.222\" width=\"2\" x=\"-1\" y=\"-1\"/>\n",
       "\t<circle cx=\"0\" cy=\"0\" id=\"gpPt5\" r=\"1\" stroke=\"currentColor\" stroke-width=\"0.222\"/>\n",
       "\t<use fill=\"currentColor\" id=\"gpPt6\" stroke=\"none\" xlink:href=\"#gpPt5\"/>\n",
       "\t<path d=\"M0,-1.33 L-1.33,0.67 L1.33,0.67 z\" id=\"gpPt7\" stroke=\"currentColor\" stroke-width=\"0.222\"/>\n",
       "\t<use fill=\"currentColor\" id=\"gpPt8\" stroke=\"none\" xlink:href=\"#gpPt7\"/>\n",
       "\t<use id=\"gpPt9\" stroke=\"currentColor\" transform=\"rotate(180)\" xlink:href=\"#gpPt7\"/>\n",
       "\t<use fill=\"currentColor\" id=\"gpPt10\" stroke=\"none\" xlink:href=\"#gpPt9\"/>\n",
       "\t<use id=\"gpPt11\" stroke=\"currentColor\" transform=\"rotate(45)\" xlink:href=\"#gpPt3\"/>\n",
       "\t<use fill=\"currentColor\" id=\"gpPt12\" stroke=\"none\" xlink:href=\"#gpPt11\"/>\n",
       "\t<path d=\"M0,1.330 L1.265,0.411 L0.782,-1.067 L-0.782,-1.076 L-1.265,0.411 z\" id=\"gpPt13\" stroke=\"currentColor\" stroke-width=\"0.222\"/>\n",
       "\t<use fill=\"currentColor\" id=\"gpPt14\" stroke=\"none\" xlink:href=\"#gpPt13\"/>\n",
       "\t<filter filterUnits=\"objectBoundingBox\" height=\"1\" id=\"textbox\" width=\"1\" x=\"0\" y=\"0\">\n",
       "\t  <feFlood flood-color=\"white\" flood-opacity=\"1\" result=\"bgnd\"/>\n",
       "\t  <feComposite in=\"SourceGraphic\" in2=\"bgnd\" operator=\"atop\"/>\n",
       "\t</filter>\n",
       "\t<filter filterUnits=\"objectBoundingBox\" height=\"1\" id=\"greybox\" width=\"1\" x=\"0\" y=\"0\">\n",
       "\t  <feFlood flood-color=\"lightgrey\" flood-opacity=\"1\" result=\"grey\"/>\n",
       "\t  <feComposite in=\"SourceGraphic\" in2=\"grey\" operator=\"atop\"/>\n",
       "\t</filter>\n",
       "</defs>\n",
       "<g color=\"white\" fill=\"none\" stroke=\"currentColor\" stroke-linecap=\"butt\" stroke-linejoin=\"miter\" stroke-width=\"1.00\">\n",
       "</g>\n",
       "<g color=\"black\" fill=\"none\" stroke=\"currentColor\" stroke-linecap=\"butt\" stroke-linejoin=\"miter\" stroke-width=\"1.00\">\n",
       "\t<g shape-rendering=\"crispEdges\" stroke=\"none\">\n",
       "\t\t<polygon fill=\"rgb(255, 255, 255)\" points=\"53.9,384.0 534.9,384.0 534.9,52.7 53.9,52.7 \"/>\n",
       "\t</g>\n",
       "</g>\n",
       "<g color=\"black\" fill=\"none\" stroke=\"currentColor\" stroke-linecap=\"butt\" stroke-linejoin=\"miter\" stroke-width=\"1.00\">\n",
       "\t<path d=\"M53.9,384.0 L66.4,384.0 M535.0,384.0 L522.5,384.0  \" stroke=\"rgb(  0,   0,   0)\"/>\t<g fill=\"rgb(38,38,38)\" font-family=\"Arial\" font-size=\"10.00\" stroke=\"none\" text-anchor=\"end\" transform=\"translate(45.6,387.3)\">\n",
       "\t\t<text><tspan font-family=\"Arial\">-1</tspan></text>\n",
       "\t</g>\n",
       "</g>\n",
       "<g color=\"black\" fill=\"none\" stroke=\"currentColor\" stroke-linecap=\"butt\" stroke-linejoin=\"miter\" stroke-width=\"1.00\">\n",
       "\t<path d=\"M53.9,301.1 L66.4,301.1 M535.0,301.1 L522.5,301.1  \" stroke=\"rgb(  0,   0,   0)\"/>\t<g fill=\"rgb(38,38,38)\" font-family=\"Arial\" font-size=\"10.00\" stroke=\"none\" text-anchor=\"end\" transform=\"translate(45.6,304.4)\">\n",
       "\t\t<text><tspan font-family=\"Arial\">-0.5</tspan></text>\n",
       "\t</g>\n",
       "</g>\n",
       "<g color=\"black\" fill=\"none\" stroke=\"currentColor\" stroke-linecap=\"butt\" stroke-linejoin=\"miter\" stroke-width=\"1.00\">\n",
       "\t<path d=\"M53.9,218.3 L66.4,218.3 M535.0,218.3 L522.5,218.3  \" stroke=\"rgb(  0,   0,   0)\"/>\t<g fill=\"rgb(38,38,38)\" font-family=\"Arial\" font-size=\"10.00\" stroke=\"none\" text-anchor=\"end\" transform=\"translate(45.6,221.6)\">\n",
       "\t\t<text><tspan font-family=\"Arial\">0</tspan></text>\n",
       "\t</g>\n",
       "</g>\n",
       "<g color=\"black\" fill=\"none\" stroke=\"currentColor\" stroke-linecap=\"butt\" stroke-linejoin=\"miter\" stroke-width=\"1.00\">\n",
       "\t<path d=\"M53.9,135.4 L66.4,135.4 M535.0,135.4 L522.5,135.4  \" stroke=\"rgb(  0,   0,   0)\"/>\t<g fill=\"rgb(38,38,38)\" font-family=\"Arial\" font-size=\"10.00\" stroke=\"none\" text-anchor=\"end\" transform=\"translate(45.6,138.7)\">\n",
       "\t\t<text><tspan font-family=\"Arial\">0.5</tspan></text>\n",
       "\t</g>\n",
       "</g>\n",
       "<g color=\"black\" fill=\"none\" stroke=\"currentColor\" stroke-linecap=\"butt\" stroke-linejoin=\"miter\" stroke-width=\"1.00\">\n",
       "\t<path d=\"M53.9,52.6 L66.4,52.6 M535.0,52.6 L522.5,52.6  \" stroke=\"rgb(  0,   0,   0)\"/>\t<g fill=\"rgb(38,38,38)\" font-family=\"Arial\" font-size=\"10.00\" stroke=\"none\" text-anchor=\"end\" transform=\"translate(45.6,55.9)\">\n",
       "\t\t<text><tspan font-family=\"Arial\">1</tspan></text>\n",
       "\t</g>\n",
       "</g>\n",
       "<g color=\"black\" fill=\"none\" stroke=\"currentColor\" stroke-linecap=\"butt\" stroke-linejoin=\"miter\" stroke-width=\"1.00\">\n",
       "\t<path d=\"M53.9,384.0 L53.9,371.5 M53.9,52.6 L53.9,65.1  \" stroke=\"rgb(  0,   0,   0)\"/>\t<g fill=\"rgb(38,38,38)\" font-family=\"Arial\" font-size=\"10.00\" stroke=\"none\" text-anchor=\"middle\" transform=\"translate(53.9,405.3)\">\n",
       "\t\t<text><tspan font-family=\"Arial\">0</tspan></text>\n",
       "\t</g>\n",
       "</g>\n",
       "<g color=\"black\" fill=\"none\" stroke=\"currentColor\" stroke-linecap=\"butt\" stroke-linejoin=\"miter\" stroke-width=\"1.00\">\n",
       "\t<path d=\"M122.6,384.0 L122.6,371.5 M122.6,52.6 L122.6,65.1  \" stroke=\"rgb(  0,   0,   0)\"/>\t<g fill=\"rgb(38,38,38)\" font-family=\"Arial\" font-size=\"10.00\" stroke=\"none\" text-anchor=\"middle\" transform=\"translate(122.6,405.3)\">\n",
       "\t\t<text><tspan font-family=\"Arial\">1</tspan></text>\n",
       "\t</g>\n",
       "</g>\n",
       "<g color=\"black\" fill=\"none\" stroke=\"currentColor\" stroke-linecap=\"butt\" stroke-linejoin=\"miter\" stroke-width=\"1.00\">\n",
       "\t<path d=\"M191.4,384.0 L191.4,371.5 M191.4,52.6 L191.4,65.1  \" stroke=\"rgb(  0,   0,   0)\"/>\t<g fill=\"rgb(38,38,38)\" font-family=\"Arial\" font-size=\"10.00\" stroke=\"none\" text-anchor=\"middle\" transform=\"translate(191.4,405.3)\">\n",
       "\t\t<text><tspan font-family=\"Arial\">2</tspan></text>\n",
       "\t</g>\n",
       "</g>\n",
       "<g color=\"black\" fill=\"none\" stroke=\"currentColor\" stroke-linecap=\"butt\" stroke-linejoin=\"miter\" stroke-width=\"1.00\">\n",
       "\t<path d=\"M260.1,384.0 L260.1,371.5 M260.1,52.6 L260.1,65.1  \" stroke=\"rgb(  0,   0,   0)\"/>\t<g fill=\"rgb(38,38,38)\" font-family=\"Arial\" font-size=\"10.00\" stroke=\"none\" text-anchor=\"middle\" transform=\"translate(260.1,405.3)\">\n",
       "\t\t<text><tspan font-family=\"Arial\">3</tspan></text>\n",
       "\t</g>\n",
       "</g>\n",
       "<g color=\"black\" fill=\"none\" stroke=\"currentColor\" stroke-linecap=\"butt\" stroke-linejoin=\"miter\" stroke-width=\"1.00\">\n",
       "\t<path d=\"M328.8,384.0 L328.8,371.5 M328.8,52.6 L328.8,65.1  \" stroke=\"rgb(  0,   0,   0)\"/>\t<g fill=\"rgb(38,38,38)\" font-family=\"Arial\" font-size=\"10.00\" stroke=\"none\" text-anchor=\"middle\" transform=\"translate(328.8,405.3)\">\n",
       "\t\t<text><tspan font-family=\"Arial\">4</tspan></text>\n",
       "\t</g>\n",
       "</g>\n",
       "<g color=\"black\" fill=\"none\" stroke=\"currentColor\" stroke-linecap=\"butt\" stroke-linejoin=\"miter\" stroke-width=\"1.00\">\n",
       "\t<path d=\"M397.5,384.0 L397.5,371.5 M397.5,52.6 L397.5,65.1  \" stroke=\"rgb(  0,   0,   0)\"/>\t<g fill=\"rgb(38,38,38)\" font-family=\"Arial\" font-size=\"10.00\" stroke=\"none\" text-anchor=\"middle\" transform=\"translate(397.5,405.3)\">\n",
       "\t\t<text><tspan font-family=\"Arial\">5</tspan></text>\n",
       "\t</g>\n",
       "</g>\n",
       "<g color=\"black\" fill=\"none\" stroke=\"currentColor\" stroke-linecap=\"butt\" stroke-linejoin=\"miter\" stroke-width=\"1.00\">\n",
       "\t<path d=\"M466.3,384.0 L466.3,371.5 M466.3,52.6 L466.3,65.1  \" stroke=\"rgb(  0,   0,   0)\"/>\t<g fill=\"rgb(38,38,38)\" font-family=\"Arial\" font-size=\"10.00\" stroke=\"none\" text-anchor=\"middle\" transform=\"translate(466.3,405.3)\">\n",
       "\t\t<text><tspan font-family=\"Arial\">6</tspan></text>\n",
       "\t</g>\n",
       "</g>\n",
       "<g color=\"black\" fill=\"none\" stroke=\"currentColor\" stroke-linecap=\"butt\" stroke-linejoin=\"miter\" stroke-width=\"1.00\">\n",
       "\t<path d=\"M535.0,384.0 L535.0,371.5 M535.0,52.6 L535.0,65.1  \" stroke=\"rgb(  0,   0,   0)\"/>\t<g fill=\"rgb(38,38,38)\" font-family=\"Arial\" font-size=\"10.00\" stroke=\"none\" text-anchor=\"middle\" transform=\"translate(535.0,405.3)\">\n",
       "\t\t<text><tspan font-family=\"Arial\">7</tspan></text>\n",
       "\t</g>\n",
       "</g>\n",
       "<g color=\"black\" fill=\"none\" stroke=\"currentColor\" stroke-linecap=\"butt\" stroke-linejoin=\"miter\" stroke-width=\"1.00\">\n",
       "</g>\n",
       "<g color=\"black\" fill=\"none\" stroke=\"currentColor\" stroke-linecap=\"butt\" stroke-linejoin=\"miter\" stroke-width=\"1.00\">\n",
       "\t<g fill=\"rgb(0,0,0)\" font-family=\":Bold\" font-size=\"11.00\" stroke=\"none\" text-anchor=\"middle\" transform=\"translate(294.4,30.7)\">\n",
       "\t\t<text><tspan font-family=\"\" font-weight=\"bold\">Red dashed and black + markers</tspan></text>\n",
       "\t</g>\n",
       "</g>\n",
       "<g color=\"black\" fill=\"none\" stroke=\"currentColor\" stroke-linecap=\"butt\" stroke-linejoin=\"miter\" stroke-width=\"1.00\">\n",
       "</g>\n",
       "\t<g id=\"gnuplot_plot_1a\"><title>gnuplot_plot_1a</title>\n",
       "<g color=\"white\" fill=\"none\" stroke=\"currentColor\" stroke-linecap=\"butt\" stroke-linejoin=\"miter\" stroke-width=\"0.50\">\n",
       "</g>\n",
       "<g color=\"black\" fill=\"none\" stroke=\"currentColor\" stroke-linecap=\"butt\" stroke-linejoin=\"miter\" stroke-width=\"0.50\">\n",
       "\t<path d=\"M53.9,218.3 L56.1,213.1 L58.2,207.9 L60.4,202.7 L62.5,197.5 L64.7,192.4 L66.9,187.3 L69.0,182.2   L71.2,177.1 L73.3,172.1 L75.5,167.1 L77.7,162.2 L79.8,157.3 L82.0,152.5 L84.1,147.7 L86.3,143.1   L88.4,138.5 L90.6,134.0 L92.8,129.5 L94.9,125.2 L97.1,120.9 L99.2,116.7 L101.4,112.7 L103.6,108.7   L105.7,104.9 L107.9,101.1 L110.0,97.5 L112.2,94.0 L114.4,90.6 L116.5,87.4 L118.7,84.2 L120.8,81.3   L123.0,78.4 L125.2,75.7 L127.3,73.1 L129.5,70.7 L131.6,68.4 L133.8,66.2 L135.9,64.2 L138.1,62.4   L140.3,60.7 L142.4,59.2 L144.6,57.8 L146.7,56.6 L148.9,55.5 L151.1,54.6 L153.2,53.9 L155.4,53.3   L157.5,52.9 L159.7,52.7 L161.9,52.6 L164.0,52.7 L166.2,52.9 L168.3,53.3 L170.5,53.9 L172.7,54.6   L174.8,55.5 L177.0,56.6 L179.1,57.8 L181.3,59.2 L183.5,60.7 L185.6,62.4 L187.8,64.2 L189.9,66.2   L192.1,68.4 L194.2,70.7 L196.4,73.1 L198.6,75.7 L200.7,78.4 L202.9,81.3 L205.0,84.2 L207.2,87.4   L209.4,90.6 L211.5,94.0 L213.7,97.5 L215.8,101.1 L218.0,104.9 L220.2,108.7 L222.3,112.7 L224.5,116.7   L226.6,120.9 L228.8,125.2 L231.0,129.5 L233.1,134.0 L235.3,138.5 L237.4,143.1 L239.6,147.7 L241.7,152.5   L243.9,157.3 L246.1,162.2 L248.2,167.1 L250.4,172.1 L252.5,177.1 L254.7,182.2 L256.9,187.3 L259.0,192.4   L261.2,197.5 L263.3,202.7 L265.5,207.9 L267.7,213.1 L269.8,218.3 L272.0,223.5 L274.1,228.7 L276.3,233.9   L278.5,239.1 L280.6,244.2 L282.8,249.3 L284.9,254.4 L287.1,259.5 L289.2,264.5 L291.4,269.5 L293.6,274.4   L295.7,279.3 L297.9,284.1 L300.0,288.9 L302.2,293.5 L304.4,298.1 L306.5,302.6 L308.7,307.1 L310.8,311.4   L313.0,315.7 L315.2,319.9 L317.3,323.9 L319.5,327.9 L321.6,331.7 L323.8,335.5 L326.0,339.1 L328.1,342.6   L330.3,346.0 L332.4,349.2 L334.6,352.4 L336.8,355.3 L338.9,358.2 L341.1,360.9 L343.2,363.5 L345.4,365.9   L347.5,368.2 L349.7,370.4 L351.9,372.4 L354.0,374.2 L356.2,375.9 L358.3,377.4 L360.5,378.8 L362.7,380.0   L364.8,381.1 L367.0,382.0 L369.1,382.7 L371.3,383.3 L373.5,383.7 L375.6,383.9 L377.8,384.0 L379.9,383.9   L382.1,383.7 L384.3,383.3 L386.4,382.7 L388.6,382.0 L390.7,381.1 L392.9,380.0 L395.0,378.8 L397.2,377.4   L399.4,375.9 L401.5,374.2 L403.7,372.4 L405.8,370.4 L408.0,368.2 L410.2,365.9 L412.3,363.5 L414.5,360.9   L416.6,358.2 L418.8,355.3 L421.0,352.4 L423.1,349.2 L425.3,346.0 L427.4,342.6 L429.6,339.1 L431.8,335.5   L433.9,331.7 L436.1,327.9 L438.2,323.9 L440.4,319.9 L442.6,315.7 L444.7,311.4 L446.9,307.1 L449.0,302.6   L451.2,298.1 L453.3,293.5 L455.5,288.9 L457.7,284.1 L459.8,279.3 L462.0,274.4 L464.1,269.5 L466.3,264.5   L468.5,259.5 L470.6,254.4 L472.8,249.3 L474.9,244.2 L477.1,239.1 L479.3,233.9 L481.4,228.7 L483.6,223.5   L485.7,218.3  \" stroke=\"rgb(255,   0,   0)\" stroke-dasharray=\"5.0,5.0\"/></g>\n",
       "\t</g>\n",
       "\t<g id=\"gnuplot_plot_2a\"><title>gnuplot_plot_2a</title>\n",
       "<g color=\"black\" fill=\"none\" stroke=\"currentColor\" stroke-linecap=\"butt\" stroke-linejoin=\"miter\" stroke-width=\"0.50\">\n",
       "\t<g onmousemove=\"gnuplot_svg.showHypertext(evt,'')\" onmouseout=\"gnuplot_svg.hideHypertext()\"><title> </title>\n",
       "\t<use color=\"rgb(  0,   0,   0)\" transform=\"translate(53.9,218.3) scale(9.00)\" xlink:href=\"#gpPt0\"/></g>\n",
       "\t<use color=\"rgb(  0,   0,   0)\" transform=\"translate(75.5,167.1) scale(9.00)\" xlink:href=\"#gpPt0\"/>\n",
       "\t<use color=\"rgb(  0,   0,   0)\" transform=\"translate(97.1,120.9) scale(9.00)\" xlink:href=\"#gpPt0\"/>\n",
       "\t<use color=\"rgb(  0,   0,   0)\" transform=\"translate(118.7,84.2) scale(9.00)\" xlink:href=\"#gpPt0\"/>\n",
       "\t<use color=\"rgb(  0,   0,   0)\" transform=\"translate(140.3,60.7) scale(9.00)\" xlink:href=\"#gpPt0\"/>\n",
       "\t<use color=\"rgb(  0,   0,   0)\" transform=\"translate(161.9,52.6) scale(9.00)\" xlink:href=\"#gpPt0\"/>\n",
       "\t<use color=\"rgb(  0,   0,   0)\" transform=\"translate(183.5,60.7) scale(9.00)\" xlink:href=\"#gpPt0\"/>\n",
       "\t<use color=\"rgb(  0,   0,   0)\" transform=\"translate(205.0,84.2) scale(9.00)\" xlink:href=\"#gpPt0\"/>\n",
       "\t<use color=\"rgb(  0,   0,   0)\" transform=\"translate(226.6,120.9) scale(9.00)\" xlink:href=\"#gpPt0\"/>\n",
       "\t<use color=\"rgb(  0,   0,   0)\" transform=\"translate(248.2,167.1) scale(9.00)\" xlink:href=\"#gpPt0\"/>\n",
       "\t<use color=\"rgb(  0,   0,   0)\" transform=\"translate(269.8,218.3) scale(9.00)\" xlink:href=\"#gpPt0\"/>\n",
       "\t<use color=\"rgb(  0,   0,   0)\" transform=\"translate(291.4,269.5) scale(9.00)\" xlink:href=\"#gpPt0\"/>\n",
       "\t<use color=\"rgb(  0,   0,   0)\" transform=\"translate(313.0,315.7) scale(9.00)\" xlink:href=\"#gpPt0\"/>\n",
       "\t<use color=\"rgb(  0,   0,   0)\" transform=\"translate(334.6,352.4) scale(9.00)\" xlink:href=\"#gpPt0\"/>\n",
       "\t<use color=\"rgb(  0,   0,   0)\" transform=\"translate(356.2,375.9) scale(9.00)\" xlink:href=\"#gpPt0\"/>\n",
       "\t<use color=\"rgb(  0,   0,   0)\" transform=\"translate(377.8,384.0) scale(9.00)\" xlink:href=\"#gpPt0\"/>\n",
       "\t<use color=\"rgb(  0,   0,   0)\" transform=\"translate(399.4,375.9) scale(9.00)\" xlink:href=\"#gpPt0\"/>\n",
       "\t<use color=\"rgb(  0,   0,   0)\" transform=\"translate(421.0,352.4) scale(9.00)\" xlink:href=\"#gpPt0\"/>\n",
       "\t<use color=\"rgb(  0,   0,   0)\" transform=\"translate(442.6,315.7) scale(9.00)\" xlink:href=\"#gpPt0\"/>\n",
       "\t<use color=\"rgb(  0,   0,   0)\" transform=\"translate(464.1,269.5) scale(9.00)\" xlink:href=\"#gpPt0\"/>\n",
       "\t<use color=\"rgb(  0,   0,   0)\" transform=\"translate(485.7,218.3) scale(9.00)\" xlink:href=\"#gpPt0\"/>\n",
       "</g>\n",
       "\t</g>\n",
       "<g color=\"white\" fill=\"none\" stroke=\"rgb(  0,   0,   0)\" stroke-linecap=\"butt\" stroke-linejoin=\"miter\" stroke-width=\"2.00\">\n",
       "</g>\n",
       "<g color=\"black\" fill=\"none\" stroke=\"currentColor\" stroke-linecap=\"butt\" stroke-linejoin=\"miter\" stroke-width=\"2.00\">\n",
       "</g>\n",
       "<g color=\"black\" fill=\"none\" stroke=\"black\" stroke-linecap=\"butt\" stroke-linejoin=\"miter\" stroke-width=\"0.50\">\n",
       "\t<path d=\"M53.9,384.0 L535.0,384.0 M53.9,52.6 L535.0,52.6 M53.9,384.0 L53.9,52.6 M535.0,384.0 L535.0,52.6    \" stroke=\"rgb( 38,  38,  38)\"/></g>\n",
       "<g color=\"black\" fill=\"none\" stroke=\"rgb( 38,  38,  38)\" stroke-linecap=\"butt\" stroke-linejoin=\"miter\" stroke-width=\"1.00\">\n",
       "</g>\n",
       "<g color=\"black\" fill=\"none\" stroke=\"currentColor\" stroke-linecap=\"butt\" stroke-linejoin=\"miter\" stroke-width=\"1.00\">\n",
       "</g>\n",
       "</g>\n",
       "</svg>"
      ],
      "text/plain": [
       "<IPython.core.display.SVG object>"
      ]
     },
     "metadata": {},
     "output_type": "display_data"
    }
   ],
   "source": [
    "x1 = 0:pi/100:2*pi;\n",
    "x2 = 0:pi/10:2*pi;\n",
    "plot(x1, sin(x1), 'r--', x2, sin(x2), 'k+')\n",
    "title('Red dashed and black + markers')"
   ]
  },
  {
   "cell_type": "markdown",
   "metadata": {
    "slideshow": {
     "slide_type": "slide"
    }
   },
   "source": [
    "# Multiple plots in one figure\n",
    "\n",
    "The `subplot` command enables you to display multiple plots in the same window. Typing\n",
    "\n",
    "`subplot(m,n,p)`\n",
    "\n",
    "partitions the figure into an `m`-by`n` matrix of small subplots and selects the `p`th subplot for the current plot. The plots are numbered along first the top row of the figure, then the second row, and so on. Eg."
   ]
  },
  {
   "cell_type": "code",
   "execution_count": 8,
   "metadata": {
    "slideshow": {
     "slide_type": "subslide"
    }
   },
   "outputs": [
    {
     "data": {
      "image/png": "[encoded data removed]",
      "text/plain": [
       "<IPython.core.display.Image object>"
      ]
     },
     "metadata": {},
     "output_type": "display_data"
    }
   ],
   "source": [
    "t = 0:pi/10:2*pi;\n",
    "subplot(2,2,1); plot(t, sin(t)); title('First plot')\n",
    "subplot(2,2,2); plot(t, cos(t))\n",
    "subplot(2,2,3); plot(sin(t), cos(t))\n",
    "subplot(2,2,4); plot(cos(t), sin(t)); title('Last plot')"
   ]
  },
  {
   "cell_type": "markdown",
   "metadata": {
    "slideshow": {
     "slide_type": "slide"
    }
   },
   "source": [
    "# Axis\n",
    "\n",
    "By default, MATLAB finds the maxima and the minima of the data and chooses the axis limits to span this range. The `axis` command enables you to specify your own limits:\n",
    "\n",
    "`axis([xmin xmax ymin ymax])`\n",
    "\n",
    "Use the command `axis auto` to reenable MATLAB automatic limit selection.\n",
    "\n",
    "`axis square` makes the `x`-axis and the `y`-axis the same length.\n",
    "\n",
    "`axis equal` makes the individual tick mark increments on the `x`-axes and the `y`-axes the same length.\n",
    "\n",
    "`axis auto normal` returns the axis scaling to its default automatic mode."
   ]
  },
  {
   "cell_type": "code",
   "execution_count": 3,
   "metadata": {
    "slideshow": {
     "slide_type": "subslide"
    }
   },
   "outputs": [
    {
     "data": {
      "image/png": "[encoded data removed]",
      "text/plain": [
       "<IPython.core.display.Image object>"
      ]
     },
     "metadata": {},
     "output_type": "display_data"
    }
   ],
   "source": [
    "t = 0:pi/10:2*pi;\n",
    "subplot(1,3,1); plot(cos(t),2*sin(t))\n",
    "subplot(1,3,2); plot(cos(t),2*sin(t)); axis equal\n",
    "subplot(1,3,3); plot(cos(t),2*sin(t)); axis square"
   ]
  },
  {
   "cell_type": "markdown",
   "metadata": {
    "slideshow": {
     "slide_type": "subslide"
    }
   },
   "source": [
    "`axis on` makes the axes visible. This is the default.\n",
    "\n",
    "`axis off` makes the axes invisible."
   ]
  },
  {
   "cell_type": "code",
   "execution_count": 2,
   "metadata": {},
   "outputs": [
    {
     "data": {
      "image/png": "[encoded data removed]",
      "text/plain": [
       "<IPython.core.display.Image object>"
      ]
     },
     "metadata": {},
     "output_type": "display_data"
    }
   ],
   "source": [
    "t = 0:pi/10:2*pi;\n",
    "subplot(1,2,1); plot(cos(t),2*sin(t)); axis equal; axis on\n",
    "subplot(1,2,2); plot(cos(t),2*sin(t)); axis equal; axis off"
   ]
  },
  {
   "cell_type": "markdown",
   "metadata": {
    "slideshow": {
     "slide_type": "slide"
    }
   },
   "source": [
    "# Grid lines\n",
    "\n",
    "`grid on` turns the grid lines on.\n",
    "\n",
    "`grid off` turns them back off."
   ]
  },
  {
   "cell_type": "code",
   "execution_count": 1,
   "metadata": {},
   "outputs": [
    {
     "data": {
      "image/png": "[encoded data removed]",
      "text/plain": [
       "<IPython.core.display.Image object>"
      ]
     },
     "metadata": {},
     "output_type": "display_data"
    }
   ],
   "source": [
    "t = 0:pi/10:2*pi;\n",
    "plot(t, sin(t));\n",
    "axis([0 2*pi -1 1])\n",
    "axis equal\n",
    "grid on"
   ]
  },
  {
   "cell_type": "markdown",
   "metadata": {},
   "source": [
    "# Special plots\n",
    "\n",
    "## Logarithmic plot\n",
    "\n",
    "The functions `semilogx`, `semilogy`, and `loglog` are similar to the plot function, but produce plots in which one or both of the axes use log scales."
   ]
  },
  {
   "cell_type": "code",
   "execution_count": 9,
   "metadata": {},
   "outputs": [
    {
     "data": {
      "image/png": "[encoded data removed]",
      "text/plain": [
       "<IPython.core.display.Image object>"
      ]
     },
     "metadata": {},
     "output_type": "display_data"
    }
   ],
   "source": [
    "t = 0:10;\n",
    "semilogy(t, exp(t))"
   ]
  },
  {
   "cell_type": "markdown",
   "metadata": {
    "slideshow": {
     "slide_type": "subslide"
    }
   },
   "source": [
    "## Histograms and more"
   ]
  },
  {
   "cell_type": "code",
   "execution_count": 10,
   "metadata": {},
   "outputs": [
    {
     "data": {
      "image/png": "[encoded data removed]",
      "text/plain": [
       "<IPython.core.display.Image object>"
      ]
     },
     "metadata": {},
     "output_type": "display_data"
    }
   ],
   "source": [
    "v = rand(1,10);\n",
    "bar(v)"
   ]
  },
  {
   "cell_type": "code",
   "execution_count": 11,
   "metadata": {
    "slideshow": {
     "slide_type": "subslide"
    }
   },
   "outputs": [
    {
     "data": {
      "image/png": "[encoded data removed]",
      "text/plain": [
       "<IPython.core.display.Image object>"
      ]
     },
     "metadata": {},
     "output_type": "display_data"
    }
   ],
   "source": [
    "barh(v)"
   ]
  },
  {
   "cell_type": "code",
   "execution_count": 12,
   "metadata": {},
   "outputs": [
    {
     "data": {
      "image/png": "[encoded data removed]",
      "text/plain": [
       "<IPython.core.display.Image object>"
      ]
     },
     "metadata": {},
     "output_type": "display_data"
    }
   ],
   "source": [
    "pie(v)"
   ]
  },
  {
   "cell_type": "code",
   "execution_count": 13,
   "metadata": {
    "slideshow": {
     "slide_type": "subslide"
    }
   },
   "outputs": [
    {
     "data": {
      "image/png": "[encoded data removed]",
      "text/plain": [
       "<IPython.core.display.Image object>"
      ]
     },
     "metadata": {},
     "output_type": "display_data"
    }
   ],
   "source": [
    "stairs(v)"
   ]
  },
  {
   "cell_type": "code",
   "execution_count": 14,
   "metadata": {
    "slideshow": {
     "slide_type": "subslide"
    }
   },
   "outputs": [
    {
     "data": {
      "image/png": "[encoded data removed]",
      "text/plain": [
       "<IPython.core.display.Image object>"
      ]
     },
     "metadata": {},
     "output_type": "display_data"
    }
   ],
   "source": [
    "stem(v)"
   ]
  },
  {
   "cell_type": "code",
   "execution_count": 15,
   "metadata": {
    "slideshow": {
     "slide_type": "subslide"
    }
   },
   "outputs": [
    {
     "data": {
      "image/png": "[encoded data removed]",
      "text/plain": [
       "<IPython.core.display.Image object>"
      ]
     },
     "metadata": {},
     "output_type": "display_data"
    }
   ],
   "source": [
    "x = rand(1,10);\n",
    "y = rand(1,10);\n",
    "scatter(x,y)"
   ]
  },
  {
   "cell_type": "code",
   "execution_count": 16,
   "metadata": {
    "slideshow": {
     "slide_type": "subslide"
    }
   },
   "outputs": [
    {
     "data": {
      "image/png": "[encoded data removed]",
      "text/plain": [
       "<IPython.core.display.Image object>"
      ]
     },
     "metadata": {},
     "output_type": "display_data"
    }
   ],
   "source": [
    "x = 0:0.5:10;\n",
    "y = sin(x);\n",
    "lerr = 0.1 * rand(size(x));\n",
    "uerr = 0.1 * rand(size(x));\n",
    "errorbar (x, y, lerr, uerr)"
   ]
  },
  {
   "cell_type": "markdown",
   "metadata": {
    "slideshow": {
     "slide_type": "slide"
    }
   },
   "source": [
    "# Quiver, meshgrid and set"
   ]
  },
  {
   "cell_type": "code",
   "execution_count": 17,
   "metadata": {
    "slideshow": {
     "slide_type": "fragment"
    }
   },
   "outputs": [
    {
     "data": {
      "image/png": "[encoded data removed]",
      "text/plain": [
       "<IPython.core.display.Image object>"
      ]
     },
     "metadata": {},
     "output_type": "display_data"
    }
   ],
   "source": [
    "[x, y] = meshgrid(1:2:20);\n",
    "h = quiver(x, y, sin(2*pi*x/10), sin(2*pi*y/10));\n",
    "set(h, \"maxheadsize\", 0.2)"
   ]
  },
  {
   "cell_type": "markdown",
   "metadata": {
    "slideshow": {
     "slide_type": "subslide"
    }
   },
   "source": [
    "`[X,Y] = meshgrid(x,y)` returns 2-D grid coordinates based on the coordinates contained in vectors `x` and `y`. `X` is a matrix where each row is a copy of `x`, and `Y` is a matrix where each column is a copy of `y`. The grid represented by the coordinates `X` and `Y` has `length(y)` rows and `length(x)` columns.\n",
    "\n",
    "`set(H,Name,Value)` specifies a value for the property `Name` on the object identified by `H`. Use single quotes around the property name, for example, `set(H,'Color','red')`. If `H` is a vector of objects, then set sets the property for all the objects."
   ]
  },
  {
   "cell_type": "code",
   "execution_count": 18,
   "metadata": {
    "slideshow": {
     "slide_type": "subslide"
    }
   },
   "outputs": [
    {
     "data": {
      "image/png": "[encoded data removed]",
      "text/plain": [
       "<IPython.core.display.Image object>"
      ]
     },
     "metadata": {},
     "output_type": "display_data"
    }
   ],
   "source": [
    "x = 0:0.5:10;\n",
    "y = sin(x);\n",
    "P = plot(x,y);\n",
    "T = title('Sine Function');\n",
    "A = gca();\n",
    "set(P,'color','red','marker','o','linewidth',2)\n",
    "set(T,'fontsize',20,'color','cyan','fontname','Times Italic')\n",
    "set(A,'fontsize',14,'xcolor','blue','ycolor','green')"
   ]
  },
  {
   "cell_type": "markdown",
   "metadata": {},
   "source": [
    "Further settings can be found in the online [documentation](https://www.gnu.org/software/octave/doc/v4.2.0/Graphics-Object-Properties.html#Graphics-Object-Properties)."
   ]
  },
  {
   "cell_type": "markdown",
   "metadata": {
    "slideshow": {
     "slide_type": "slide"
    }
   },
   "source": [
    "# Plot magics\n",
    "\n",
    "`%plot --format type`: plot format (png, svg or jpg). [default: png] \n",
    "\n",
    "`%plot --size width,height`: size of plots"
   ]
  },
  {
   "cell_type": "code",
   "execution_count": 19,
   "metadata": {},
   "outputs": [
    {
     "data": {
      "image/png": "[encoded data removed]",
      "text/plain": [
       "<IPython.core.display.Image object>"
      ]
     },
     "metadata": {},
     "output_type": "display_data"
    }
   ],
   "source": [
    "%plot --size 800,300\n",
    "plot(x,y)"
   ]
  },
  {
   "cell_type": "code",
   "execution_count": null,
   "metadata": {},
   "outputs": [],
   "source": []
  }
 ],
 "metadata": {
  "celltoolbar": "Slideshow",
  "kernelspec": {
   "display_name": "Octave",
   "language": "octave",
   "name": "octave"
  },
  "language_info": {
   "file_extension": ".m",
   "help_links": [
    {
     "text": "GNU Octave",
     "url": "https://www.gnu.org/software/octave/support.html"
    },
    {
     "text": "Octave Kernel",
     "url": "https://github.com/Calysto/octave_kernel"
    },
    {
     "text": "MetaKernel Magics",
     "url": "https://github.com/calysto/metakernel/blob/master/metakernel/magics/README.md"
    }
   ],
   "mimetype": "text/x-octave",
   "name": "octave",
   "version": "4.2.2"
  }
 },
 "nbformat": 4,
 "nbformat_minor": 2
}
