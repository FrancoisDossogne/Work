{
 "cells": [
  {
   "cell_type": "markdown",
   "metadata": {
    "slideshow": {
     "slide_type": "slide"
    }
   },
   "source": [
    "# Polynomials"
   ]
  },
  {
   "cell_type": "markdown",
   "metadata": {},
   "source": [
    "## Definition\n",
    "\n",
    "Polynomials\n",
    "$$p(x)=a_nx^n+\\cdot+a_1x+a_0$$\n",
    "are stored in MATLAB as the array of coefficients:\n",
    "$$p=[a_n\\ \\dots\\ a_1\\ a_0]$$\n",
    "eg., $p(x)=x^2-3x+2$"
   ]
  },
  {
   "cell_type": "code",
   "execution_count": null,
   "metadata": {
    "collapsed": true,
    "slideshow": {
     "slide_type": "-"
    }
   },
   "outputs": [],
   "source": [
    "p = [1 -3 2];"
   ]
  },
  {
   "cell_type": "markdown",
   "metadata": {
    "slideshow": {
     "slide_type": "subslide"
    }
   },
   "source": [
    "## Evaluation\n",
    "\n",
    "The command `polyval` allows us to evaluate the polynomial in a point:"
   ]
  },
  {
   "cell_type": "code",
   "execution_count": null,
   "metadata": {
    "collapsed": true
   },
   "outputs": [],
   "source": [
    "polyval(p, -2)\n",
    "polyval(p, -1)\n",
    "polyval(p, 0)\n",
    "polyval(p, 1)\n",
    "polyval(p, 2)"
   ]
  },
  {
   "cell_type": "markdown",
   "metadata": {
    "slideshow": {
     "slide_type": "subslide"
    }
   },
   "source": [
    "## Roots\n",
    "\n",
    "The command `roots` gives the roots of a polynomial:"
   ]
  },
  {
   "cell_type": "code",
   "execution_count": null,
   "metadata": {
    "collapsed": true
   },
   "outputs": [],
   "source": [
    "roots(p)"
   ]
  },
  {
   "cell_type": "markdown",
   "metadata": {
    "slideshow": {
     "slide_type": "subslide"
    }
   },
   "source": [
    "## Plotting"
   ]
  },
  {
   "cell_type": "code",
   "execution_count": null,
   "metadata": {
    "collapsed": true
   },
   "outputs": [],
   "source": [
    "%plot --format svg\n",
    "x = 0:0.01:3;\n",
    "y = polyval(p, x);\n",
    "plot(x,y);\n",
    "grid on;"
   ]
  },
  {
   "cell_type": "markdown",
   "metadata": {
    "hidePrompt": true,
    "slideshow": {
     "slide_type": "subslide"
    }
   },
   "source": [
    "## Interpolation\n",
    "\n",
    "Interpolation is finding a curve going through a set of data points `x` and `y`. The command `interp1` does interpolating in MATLAB"
   ]
  },
  {
   "cell_type": "code",
   "execution_count": null,
   "metadata": {
    "collapsed": true
   },
   "outputs": [],
   "source": [
    "help interp1"
   ]
  },
  {
   "cell_type": "code",
   "execution_count": 1,
   "metadata": {
    "slideshow": {
     "slide_type": "subslide"
    }
   },
   "outputs": [
    {
     "data": {
      "image/png": "[encoded data removed]",
      "text/plain": [
       "<IPython.core.display.Image object>"
      ]
     },
     "metadata": {},
     "output_type": "display_data"
    }
   ],
   "source": [
    "xf = [0:0.05:4];\n",
    "yf = sin(2*pi*xf/5);\n",
    "xp = [0:4];\n",
    "yp = sin(2*pi*xp/5);\n",
    "lin = interp1(xp, yp, xf);\n",
    "near = interp1(xp, yp, xf, 'nearest');\n",
    "pch = interp1(xp, yp, xf, 'pchip');\n",
    "spl = interp1(xp, yp, xf, 'spline');\n",
    "plot(xf,yf,'r', xf,near,'g', xf,lin,'b', xf,pch,'c', xf,spl,'m', xp,yp,'ro');\n",
    "legend('original', 'nearest', 'linear', 'cubic', 'spline');"
   ]
  },
  {
   "cell_type": "markdown",
   "metadata": {
    "slideshow": {
     "slide_type": "subslide"
    }
   },
   "source": [
    "## Regression\n",
    "\n",
    "Regression is finding the curve of 'best fit' for a set a data points `x` and `y`. MATLAB fits a polynomial of degree $n$ using `polyfit(x, y, n)`:"
   ]
  },
  {
   "cell_type": "code",
   "execution_count": null,
   "metadata": {
    "collapsed": true,
    "slideshow": {
     "slide_type": "subslide"
    }
   },
   "outputs": [],
   "source": [
    "p1 = polyfit(xp, yp, 1); yp1 = polyval(p1, xf); \n",
    "p2 = polyfit(xp, yp, 2); yp2 = polyval(p2, xf);\n",
    "p3 = polyfit(xp, yp, 3); yp3 = polyval(p3, xf); \n",
    "p4 = polyfit(xp, yp, 4); yp4 = polyval(p4, xf);\n",
    "plot(xf,yf,'r', xf,yp1,'g', xf,yp2,'b', xf,yp3,'c', xf,yp4,'m', xp,yp,'ro');\n",
    "legend('original', 'first order', 'second order', 'third order', 'fourth order');"
   ]
  },
  {
   "cell_type": "markdown",
   "metadata": {
    "slideshow": {
     "slide_type": "subslide"
    }
   },
   "source": [
    "## Polynomial multiplication\n",
    "\n",
    "Polynomials can be multiplicated by the operator `conv`, eg.\n",
    "$$(x^2-1)(x^2+1)=x^4-1$$"
   ]
  },
  {
   "cell_type": "code",
   "execution_count": null,
   "metadata": {
    "collapsed": true
   },
   "outputs": [],
   "source": [
    "p1=[1 0 -1];\n",
    "p2=[1 0 1];\n",
    "conv(p1, p2)"
   ]
  },
  {
   "cell_type": "markdown",
   "metadata": {
    "slideshow": {
     "slide_type": "subslide"
    }
   },
   "source": [
    "## Partial fractions\n",
    "\n",
    "The command `residue` gives the partial fraction expansion of a polynomial division, eg."
   ]
  },
  {
   "cell_type": "markdown",
   "metadata": {
    "slideshow": {
     "slide_type": "subslide"
    }
   },
   "source": [
    "$$\\frac{7x-5}{x^2-x-2}$$"
   ]
  },
  {
   "cell_type": "code",
   "execution_count": 1,
   "metadata": {
    "collapsed": true
   },
   "outputs": [
    {
     "name": "stdout",
     "output_type": "stream",
     "text": [
      "r =\n",
      "\n",
      "   3\n",
      "   4\n",
      "\n",
      "p =\n",
      "\n",
      "   2\n",
      "  -1\n",
      "\n",
      "k = [](0x0)\n"
     ]
    }
   ],
   "source": [
    "p1 = [7 -5];\n",
    "p2 = [1 -1 -2];\n",
    "[r,p,k] = residue(p1, p2)"
   ]
  },
  {
   "cell_type": "markdown",
   "metadata": {},
   "source": [
    "$$\\frac{7x-5}{x^2-x-2}=\\frac{3}{x-2}+\\frac{4}{x+1}$$"
   ]
  },
  {
   "cell_type": "markdown",
   "metadata": {
    "slideshow": {
     "slide_type": "subslide"
    }
   },
   "source": [
    "$$\\frac{3x^3+2x^2+x+1}{x-1}$$"
   ]
  },
  {
   "cell_type": "code",
   "execution_count": null,
   "metadata": {
    "collapsed": true
   },
   "outputs": [],
   "source": [
    "[r,p,k] = residue([3,2,1,1],[1,-1])"
   ]
  },
  {
   "cell_type": "markdown",
   "metadata": {},
   "source": [
    "$$\\frac{3x^3+2x^2+x+1}{x-1}=3x^2+5x+6+\\frac{7}{x-1}$$"
   ]
  },
  {
   "cell_type": "markdown",
   "metadata": {
    "slideshow": {
     "slide_type": "slide"
    }
   },
   "source": [
    "# Complex numbers"
   ]
  },
  {
   "cell_type": "markdown",
   "metadata": {},
   "source": [
    "## Definition\n",
    "\n",
    "If $a$ and $b$ are real numbers and $i$ is defined by $i^2 = -1$, then\n",
    "$$z=a+bi$$\n",
    "is called a complex number:"
   ]
  },
  {
   "cell_type": "code",
   "execution_count": null,
   "metadata": {
    "collapsed": true
   },
   "outputs": [],
   "source": [
    "a = 2;\n",
    "b = -1;\n",
    "z = a+b*i"
   ]
  },
  {
   "cell_type": "markdown",
   "metadata": {
    "slideshow": {
     "slide_type": "subslide"
    }
   },
   "source": [
    "## Representations\n",
    "\n",
    "### Cartesian form\n",
    "\n",
    "The real part and the imaginary part of a complex number can be found by the following commands:"
   ]
  },
  {
   "cell_type": "code",
   "execution_count": null,
   "metadata": {
    "collapsed": true
   },
   "outputs": [],
   "source": [
    "real(z)\n",
    "imag(z)"
   ]
  },
  {
   "cell_type": "markdown",
   "metadata": {
    "slideshow": {
     "slide_type": "subslide"
    }
   },
   "source": [
    "### Polar form\n",
    "\n",
    "The modulus $r$ and the argument $\\theta$ are given by:"
   ]
  },
  {
   "cell_type": "code",
   "execution_count": 2,
   "metadata": {},
   "outputs": [
    {
     "name": "stdout",
     "output_type": "stream",
     "text": [
      "error: 'z' undefined near line 1 column 10\n",
      "error: evaluating argument list element number 1\n",
      "error: 'z' undefined near line 1 column 15\n",
      "error: evaluating argument list element number 1\n"
     ]
    }
   ],
   "source": [
    "r = norm(z) % or abs(z)\n",
    "theta = angle(z) % expressed in radians"
   ]
  },
  {
   "cell_type": "markdown",
   "metadata": {},
   "source": [
    "The exponential notation\n",
    "$$z = r(\\cos\\theta+i\\sin\\theta) = re^{i\\theta}$$\n",
    "gives the same complex number:"
   ]
  },
  {
   "cell_type": "code",
   "execution_count": null,
   "metadata": {
    "collapsed": true
   },
   "outputs": [],
   "source": [
    "r*(cos(theta)+i*sin(theta))\n",
    "r*exp(i*theta)"
   ]
  },
  {
   "cell_type": "markdown",
   "metadata": {
    "slideshow": {
     "slide_type": "subslide"
    }
   },
   "source": [
    "## Operators\n",
    "\n",
    "All the operators defined for real numbers can be used for complex numbers. The complex conjugate of $z=a+bi$, $$\\bar z=a-bi$$\n",
    "is calculated by the command `conj`:"
   ]
  },
  {
   "cell_type": "code",
   "execution_count": null,
   "metadata": {
    "collapsed": true
   },
   "outputs": [],
   "source": [
    "z1 = 2+3*i;\n",
    "z2 = 5-2*i;\n",
    "z1/z2\n",
    "z1*conj(z2)/abs(z2)^2\n",
    "z1*z2\n",
    "abs(z1)*abs(z2)*exp(i*(angle(z1)+angle(z2)))"
   ]
  },
  {
   "cell_type": "markdown",
   "metadata": {
    "slideshow": {
     "slide_type": "subslide"
    }
   },
   "source": [
    "## Functions\n",
    "\n",
    "All function defined for real number can also be used for complex numbers, eg:\n",
    "$$\\sin z = \\frac{e^{zi}-e^{-zi}}{2i}$$\n",
    "$$\\cos z = \\frac{e^{zi}+e^{-zi}}{2}$$"
   ]
  },
  {
   "cell_type": "code",
   "execution_count": null,
   "metadata": {
    "collapsed": true
   },
   "outputs": [],
   "source": [
    "sin(z1)\n",
    "0.5*(exp(z1*i)-exp(-z1*i))/i\n",
    "cos(z2)\n",
    "0.5*(exp(z2*i)+exp(-z2*i))"
   ]
  },
  {
   "cell_type": "markdown",
   "metadata": {
    "slideshow": {
     "slide_type": "subslide"
    }
   },
   "source": [
    "## Root finding\n",
    "\n",
    "Find all cubic roots of $-1$:"
   ]
  },
  {
   "cell_type": "code",
   "execution_count": null,
   "metadata": {
    "collapsed": true,
    "slideshow": {
     "slide_type": "subslide"
    }
   },
   "outputs": [],
   "source": [
    "z = -1; r = norm(z); theta = angle(z);\n",
    "cubic_root(1) = r^(1/3)*exp(i*theta/3);\n",
    "cubic_root(2) = r^(1/3)*exp(i*(theta+2*pi)/3);\n",
    "cubic_root(3) = r^(1/3)*exp(i*(theta+4*pi)/3);\n",
    "plot(cubic_root, 'ro'); axis square; grid on;\n",
    "hold on; t = 0:2*pi/100:2*pi; plot(exp(i*t));"
   ]
  },
  {
   "cell_type": "markdown",
   "metadata": {
    "slideshow": {
     "slide_type": "slide"
    }
   },
   "source": [
    "# Fundamental theorem of algebra\n",
    "\n",
    "The fundamental theorem of algebra states that every non-constant single-variable polynomial with complex coefficients has at least one complex root. This includes polynomials with real coefficients, since every real number is a complex number with an imaginary part equal to zero.\n",
    "\n",
    "Equivalently (by definition), the theorem states that the field of complex numbers is algebraically closed.\n",
    "\n",
    "The theorem is also stated as follows: every non-zero, single-variable, degree n polynomial with complex coefficients has, counted with multiplicity, exactly n complex roots. The equivalence of the two statements can be proven through the use of successive polynomial division."
   ]
  },
  {
   "cell_type": "markdown",
   "metadata": {
    "slideshow": {
     "slide_type": "subslide"
    }
   },
   "source": [
    "Evaluate the solutions of $z^3-3z^2+4z-2=0$"
   ]
  },
  {
   "cell_type": "code",
   "execution_count": null,
   "metadata": {
    "collapsed": true
   },
   "outputs": [],
   "source": [
    "p = [1 -3 4 -2];\n",
    "z1 = 1; % is a solution\n",
    "[r,p,k] = residue(p, [1 -z1])"
   ]
  },
  {
   "cell_type": "markdown",
   "metadata": {
    "slideshow": {
     "slide_type": "-"
    }
   },
   "source": [
    "$$z^3-3z^2+4z-2=0+1(z^2-2z+2)(z-1)$$"
   ]
  },
  {
   "cell_type": "code",
   "execution_count": null,
   "metadata": {
    "collapsed": true,
    "slideshow": {
     "slide_type": "subslide"
    }
   },
   "outputs": [],
   "source": [
    "D = (-2)^2-4*2;\n",
    "z2 = 0.5*(2+sqrt(D))/1\n",
    "z3 = 0.5*(2-sqrt(D))/1"
   ]
  },
  {
   "cell_type": "markdown",
   "metadata": {},
   "source": [
    "$$z^3-3z^2+4z-2=(z-(1+i))(z-(1-i))(z-1)$$"
   ]
  },
  {
   "cell_type": "code",
   "execution_count": null,
   "metadata": {
    "collapsed": true,
    "slideshow": {
     "slide_type": "fragment"
    }
   },
   "outputs": [],
   "source": [
    "p1=[1 -1];\n",
    "p2=[1 -(1+i)];\n",
    "p3=[1 -(1-i)];\n",
    "conv(conv(p2,p3),p1)"
   ]
  }
 ],
 "metadata": {
  "celltoolbar": "Slideshow",
  "kernelspec": {
   "display_name": "Octave",
   "language": "octave",
   "name": "octave"
  },
  "language_info": {
   "file_extension": ".m",
   "help_links": [
    {
     "text": "GNU Octave",
     "url": "https://www.gnu.org/software/octave/support.html"
    },
    {
     "text": "Octave Kernel",
     "url": "https://github.com/Calysto/octave_kernel"
    },
    {
     "text": "MetaKernel Magics",
     "url": "https://github.com/calysto/metakernel/blob/master/metakernel/magics/README.md"
    }
   ],
   "mimetype": "text/x-octave",
   "name": "octave",
   "version": "4.2.2"
  },
  "livereveal": {
   "controls": "false",
   "scroll": "true",
   "start_slideshow_at": "selected"
  }
 },
 "nbformat": 4,
 "nbformat_minor": 2
}
