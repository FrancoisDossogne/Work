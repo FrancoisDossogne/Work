{
 "cells": [
  {
   "cell_type": "markdown",
   "metadata": {
    "hideCode": false,
    "hidePrompt": false,
    "slideshow": {
     "slide_type": "slide"
    }
   },
   "source": [
    "# Definition\n",
    "\n",
    "**In MATLAB, an *array* is a rectangular block of numbers. Special meaning is attached to 1-by-1 arrays, which are *scalars*, and to arrays with only one row or column, which are *vectors*.**\n",
    "\n",
    "To be coherent with the mathematical definition of a *matrix*, a *matrix* is an array with 2 dimensions. The online documentation uses *matrix* instead of *array*."
   ]
  },
  {
   "cell_type": "markdown",
   "metadata": {
    "hideCode": false,
    "hideOutput": true,
    "hidePrompt": false,
    "slideshow": {
     "slide_type": "slide"
    }
   },
   "source": [
    "# Array basics\n",
    "\n",
    "## Entering arrays\n",
    "\n",
    "A array can be entered as an explicit list of elements:\n",
    "\n",
    "- Seperate the elements of a row with blanks or commas.\n",
    "- Use a semicolon, `;`, or insert `enter` to indicate the end of each row.\n",
    "- Surround the entire list of elements with square brackets, `[ ]`."
   ]
  },
  {
   "cell_type": "code",
   "execution_count": 29,
   "metadata": {
    "hideCode": false,
    "hidePrompt": false,
    "slideshow": {
     "slide_type": "fragment"
    }
   },
   "outputs": [
    {
     "name": "stdout",
     "output_type": "stream",
     "text": [
      "A =\n",
      "\n",
      "   16    3    2   13\n",
      "    5   10   11    8\n",
      "    9    6    7   12\n",
      "    4   15   14    1\n",
      "\n",
      "B =\n",
      "\n",
      "   16    3    2   13\n",
      "    5   10   11    8\n",
      "    9    6    7   12\n",
      "    4   15   14    1\n",
      "\n"
     ]
    }
   ],
   "source": [
    "A = [16, 3, 2, 13; 5, 10, 11, 8; 9, 6, 7, 12; 4, 15, 14, 1]\n",
    "B = [16 3 2 13\n",
    "     5 10 11 8\n",
    "     9 6 7 12\n",
    "     4 15 14 1]"
   ]
  },
  {
   "cell_type": "markdown",
   "metadata": {
    "hideCode": false,
    "hidePrompt": false,
    "slideshow": {
     "slide_type": "slide"
    }
   },
   "source": [
    "## Magic square\n",
    "\n",
    "The array `A` is a magic square: if you take the sum along any row or column, or along either of the two main diagonals, you will always get the samber number."
   ]
  },
  {
   "cell_type": "markdown",
   "metadata": {
    "hideCode": false,
    "hidePrompt": false,
    "slideshow": {
     "slide_type": "fragment"
    }
   },
   "source": [
    "The function `sum` returns the sum of each of the columns:"
   ]
  },
  {
   "cell_type": "code",
   "execution_count": 30,
   "metadata": {
    "hideCode": false,
    "hidePrompt": false
   },
   "outputs": [
    {
     "name": "stdout",
     "output_type": "stream",
     "text": [
      "ans =\n",
      "\n",
      "   34   34   34   34\n",
      "\n"
     ]
    }
   ],
   "source": [
    "sum(A)"
   ]
  },
  {
   "cell_type": "markdown",
   "metadata": {
    "hideCode": false,
    "hidePrompt": false,
    "slideshow": {
     "slide_type": "fragment"
    }
   },
   "source": [
    "To get the sum of each of the rows, a second argument indicating the dimension has to be added to the function `sum`:"
   ]
  },
  {
   "cell_type": "code",
   "execution_count": 31,
   "metadata": {
    "hideCode": false,
    "hidePrompt": false
   },
   "outputs": [
    {
     "name": "stdout",
     "output_type": "stream",
     "text": [
      "ans =\n",
      "\n",
      "   34\n",
      "   34\n",
      "   34\n",
      "   34\n",
      "\n"
     ]
    }
   ],
   "source": [
    "sum(A, 2)"
   ]
  },
  {
   "cell_type": "markdown",
   "metadata": {
    "hideCode": false,
    "hidePrompt": false,
    "slideshow": {
     "slide_type": "subslide"
    }
   },
   "source": [
    "The same vector can be found by evaluating the `sum` function on the transpose of the array:"
   ]
  },
  {
   "cell_type": "code",
   "execution_count": 32,
   "metadata": {
    "hideCode": false,
    "hidePrompt": false
   },
   "outputs": [
    {
     "name": "stdout",
     "output_type": "stream",
     "text": [
      "ans =\n",
      "\n",
      "   34\n",
      "   34\n",
      "   34\n",
      "   34\n",
      "\n"
     ]
    }
   ],
   "source": [
    "sum(A')'"
   ]
  },
  {
   "cell_type": "markdown",
   "metadata": {
    "hideCode": false,
    "hidePrompt": false,
    "slideshow": {
     "slide_type": "fragment"
    }
   },
   "source": [
    "The operator `'` can be replaced by the function `transpose`:"
   ]
  },
  {
   "cell_type": "code",
   "execution_count": 33,
   "metadata": {},
   "outputs": [
    {
     "name": "stdout",
     "output_type": "stream",
     "text": [
      "ans =\n",
      "\n",
      "   34\n",
      "   34\n",
      "   34\n",
      "   34\n",
      "\n"
     ]
    }
   ],
   "source": [
    "transpose(sum(transpose(A)))"
   ]
  },
  {
   "cell_type": "markdown",
   "metadata": {
    "slideshow": {
     "slide_type": "subslide"
    }
   },
   "source": [
    "The sum of the elements on the main diagonal is obtained with the `sum` and the `diag` function:"
   ]
  },
  {
   "cell_type": "code",
   "execution_count": 34,
   "metadata": {},
   "outputs": [
    {
     "name": "stdout",
     "output_type": "stream",
     "text": [
      "ans =\n",
      "\n",
      "   16\n",
      "   10\n",
      "    7\n",
      "    1\n",
      "\n",
      "ans =  34\n"
     ]
    }
   ],
   "source": [
    "diag(A)\n",
    "sum(diag(A))"
   ]
  },
  {
   "cell_type": "markdown",
   "metadata": {
    "slideshow": {
     "slide_type": "fragment"
    }
   },
   "source": [
    "The other diagonal can be found by the function `fliplr`, that flips an array from left to right:"
   ]
  },
  {
   "cell_type": "code",
   "execution_count": 35,
   "metadata": {},
   "outputs": [
    {
     "name": "stdout",
     "output_type": "stream",
     "text": [
      "ans =\n",
      "\n",
      "   13    2    3   16\n",
      "    8   11   10    5\n",
      "   12    7    6    9\n",
      "    1   14   15    4\n",
      "\n",
      "ans =  34\n"
     ]
    }
   ],
   "source": [
    "fliplr(A)\n",
    "sum(diag(fliplr(A)))"
   ]
  },
  {
   "cell_type": "markdown",
   "metadata": {
    "slideshow": {
     "slide_type": "subslide"
    }
   },
   "source": [
    "|Function|Description|\n",
    "|:---|:---|\n",
    "|`sum(A)`|the sum of the elements of `A` along the first array dimension whose size does not equal 1|\n",
    "|`sum(A,dim)`|the sum along dimension `dim`|\n",
    "|`cumsum(A)`|the cumulative sum of `A` along the first array dimension in A whose size does not equal 1|\n",
    "|`cumsum(A,dim)`|the cumulative sum of `A` along dimension `dim`\n",
    "|`diff(A)`|the difference of the elements of `A` along the first array dimension whose size does not equal 1|\n",
    "|`prod(A)`|the product of the elements of `A` along the first array dimension whose size does not equal 1|\n",
    "|`prod(A,dim)`|the product along dimension `dim`|\n",
    "|`cumprod(A)`|the cumulative product of `A` along the first array dimension in A whose size does not equal 1|\n",
    "|`cumprod(A,dim)`|the cumulative product of `A` along dimension `dim`|\n",
    "|`transpose(A)=A'`|the transpose of `A`|\n",
    "|`diag(A)`|a column vector of the main diagonal elements of `A`|\n",
    "|`diag(A,k)`|a column vector of the elements on the `k`th diagonal of `A`|\n",
    "|`fliplr(A)`|an array with the columns of `A` flipped from left to right|\n",
    "|`flipud(A)`|an array with the rows of `A` flippes from up to down|"
   ]
  },
  {
   "cell_type": "code",
   "execution_count": 36,
   "metadata": {},
   "outputs": [
    {
     "name": "stdout",
     "output_type": "stream",
     "text": [
      "ans =\n",
      "\n",
      "   7   8   9\n",
      "   4   5   6\n",
      "   1   2   3\n",
      "\n"
     ]
    }
   ],
   "source": [
    "flipud([1,2,3;4,5,6;7,8,9])"
   ]
  },
  {
   "cell_type": "markdown",
   "metadata": {
    "slideshow": {
     "slide_type": "slide"
    }
   },
   "source": [
    "## Subscripts\n",
    "\n",
    "The element in row `i` and column `j` of `A` is denoted by `A(i,j)`. Eg. `A(4,2)` is the number in the fourth row and second column:"
   ]
  },
  {
   "cell_type": "code",
   "execution_count": 37,
   "metadata": {},
   "outputs": [
    {
     "name": "stdout",
     "output_type": "stream",
     "text": [
      "A =\n",
      "\n",
      "   16    3    2   13\n",
      "    5   10   11    8\n",
      "    9    6    7   12\n",
      "    4   15   14    1\n",
      "\n",
      "ans =  15\n"
     ]
    }
   ],
   "source": [
    "A\n",
    "A(4,2)"
   ]
  },
  {
   "cell_type": "markdown",
   "metadata": {
    "slideshow": {
     "slide_type": "fragment"
    }
   },
   "source": [
    "It is also possible to refer to the elements of an array with a single subscript, `A(k)`. Eg. `A(8)` is another way of referring to the value `15` stored in `A(4,2)`:"
   ]
  },
  {
   "cell_type": "code",
   "execution_count": 38,
   "metadata": {},
   "outputs": [
    {
     "name": "stdout",
     "output_type": "stream",
     "text": [
      "j =  2\n",
      "i =  4\n",
      "ans = 1\n"
     ]
    }
   ],
   "source": [
    "k = 8;\n",
    "j = ceil(k / 4)\n",
    "i = k - 4 * (j-1)\n",
    "A(k) == A(i,j)"
   ]
  },
  {
   "cell_type": "markdown",
   "metadata": {
    "slideshow": {
     "slide_type": "subslide"
    }
   },
   "source": [
    "If you try to use the value of an element outside of the array, it is an error:"
   ]
  },
  {
   "cell_type": "code",
   "execution_count": 39,
   "metadata": {},
   "outputs": [
    {
     "name": "stdout",
     "output_type": "stream",
     "text": [
      "error: A(5,_): but A has size 4x4\n"
     ]
    }
   ],
   "source": [
    "A(5,4)"
   ]
  },
  {
   "cell_type": "markdown",
   "metadata": {
    "slideshow": {
     "slide_type": "fragment"
    }
   },
   "source": [
    "On the other hand, if you store a value in an element outside of the array, the size increases to accommodate the new element:"
   ]
  },
  {
   "cell_type": "code",
   "execution_count": 40,
   "metadata": {},
   "outputs": [
    {
     "name": "stdout",
     "output_type": "stream",
     "text": [
      "X =\n",
      "\n",
      "   16    3    2   13    0\n",
      "    5   10   11    8    0\n",
      "    9    6    7   12    0\n",
      "    4   15   14    1   17\n",
      "\n"
     ]
    }
   ],
   "source": [
    "X = A;\n",
    "X(4,5) = 17"
   ]
  },
  {
   "cell_type": "markdown",
   "metadata": {
    "slideshow": {
     "slide_type": "slide"
    }
   },
   "source": [
    "## The colon operator\n",
    "\n",
    "The colon, `:`, is one of the most important MATLAB operators. It occurs in several different forms."
   ]
  },
  {
   "cell_type": "markdown",
   "metadata": {
    "slideshow": {
     "slide_type": "fragment"
    }
   },
   "source": [
    "The expression `1:10` is a row vector containing the integers from 1 to 10:"
   ]
  },
  {
   "cell_type": "code",
   "execution_count": 41,
   "metadata": {},
   "outputs": [
    {
     "name": "stdout",
     "output_type": "stream",
     "text": [
      "ans =\n",
      "\n",
      "    1    2    3    4    5    6    7    8    9   10\n",
      "\n"
     ]
    }
   ],
   "source": [
    "1:10"
   ]
  },
  {
   "cell_type": "markdown",
   "metadata": {
    "slideshow": {
     "slide_type": "fragment"
    }
   },
   "source": [
    "To obtain nonunit spacing, specify an increment. Eg."
   ]
  },
  {
   "cell_type": "code",
   "execution_count": 42,
   "metadata": {},
   "outputs": [
    {
     "name": "stdout",
     "output_type": "stream",
     "text": [
      "ans =\n",
      "\n",
      "   100    93    86    79    72    65    58    51\n",
      "\n"
     ]
    }
   ],
   "source": [
    "100:-7:50"
   ]
  },
  {
   "cell_type": "code",
   "execution_count": 43,
   "metadata": {},
   "outputs": [
    {
     "name": "stdout",
     "output_type": "stream",
     "text": [
      "ans =\n",
      "\n",
      "    0.00000    0.78540    1.57080    2.35619    3.14159\n",
      "\n"
     ]
    }
   ],
   "source": [
    "0:pi/4:pi"
   ]
  },
  {
   "cell_type": "markdown",
   "metadata": {
    "hideCode": true,
    "slideshow": {
     "slide_type": "subslide"
    }
   },
   "source": [
    "Subscript expressions involving colons refer to portions of an array, eg."
   ]
  },
  {
   "cell_type": "code",
   "execution_count": 44,
   "metadata": {},
   "outputs": [
    {
     "name": "stdout",
     "output_type": "stream",
     "text": [
      "A =\n",
      "\n",
      "   16    3    2   13\n",
      "    5   10   11    8\n",
      "    9    6    7   12\n",
      "    4   15   14    1\n",
      "\n",
      "ans =\n",
      "\n",
      "   2   3   4\n",
      "\n",
      "ans =\n",
      "\n",
      "   11    8\n",
      "    7   12\n",
      "   14    1\n",
      "\n",
      "ans =\n",
      "\n",
      "   6   7\n",
      "\n",
      "ans =\n",
      "\n",
      "   16    5    9    4    3   10    6   15    2   11    7   14   13    8   12    1\n",
      "\n"
     ]
    }
   ],
   "source": [
    "A\n",
    "2:4\n",
    "A(2:4,3:4)\n",
    "A(3, 2:3)\n",
    "A(:)'"
   ]
  },
  {
   "cell_type": "markdown",
   "metadata": {
    "slideshow": {
     "slide_type": "slide"
    }
   },
   "source": [
    "## Generating matrices\n",
    "\n",
    "MATLAB provides five functions that generate basic arrays:\n",
    "\n",
    "|Function|Description|\n",
    "|:---|:---|\n",
    "|`zeros(m,n)`|all zeros|\n",
    "|`ones(m,n)`|all ones|\n",
    "|`rand(m,n)`|uniformly distributed random elements in the interval $[0,1]$|\n",
    "|`randn(m,n)`|normally distributed random elements|\n",
    "|`diag(v)`|a square diagonal matrix with the elements of vector `v` on the main diagonal|"
   ]
  },
  {
   "cell_type": "code",
   "execution_count": 45,
   "metadata": {
    "slideshow": {
     "slide_type": "fragment"
    }
   },
   "outputs": [
    {
     "name": "stdout",
     "output_type": "stream",
     "text": [
      "Z =\n",
      "\n",
      "   0   0   0   0\n",
      "   0   0   0   0\n",
      "\n",
      "R =\n",
      "\n",
      "   0.765895   0.371721   0.883356   0.883228   0.062333\n",
      "\n",
      "D =\n",
      "\n",
      "Diagonal Matrix\n",
      "\n",
      "  -1.22059         0\n",
      "         0  -0.35881\n",
      "\n"
     ]
    }
   ],
   "source": [
    "Z = zeros(2,4)\n",
    "R = rand(1,5)\n",
    "D = diag(randn(2,1))"
   ]
  },
  {
   "cell_type": "markdown",
   "metadata": {
    "slideshow": {
     "slide_type": "slide"
    }
   },
   "source": [
    "## Concatenation\n",
    "\n",
    "*Concatenation* is the process of joining small array to make bigger ones. In fact, entering an array is a concatenation of its individual elements. The pair of square brackets,`[ ]`, is the concatenation operator. Eg."
   ]
  },
  {
   "cell_type": "code",
   "execution_count": 46,
   "metadata": {
    "slideshow": {
     "slide_type": "fragment"
    }
   },
   "outputs": [
    {
     "name": "stdout",
     "output_type": "stream",
     "text": [
      "B =\n",
      "\n",
      "   16    3    2   13   13    2    3   16\n",
      "    5   10   11    8    8   11   10    5\n",
      "    9    6    7   12   12    7    6    9\n",
      "    4   15   14    1    1   14   15    4\n",
      "    4   15   14    1    1   14   15    4\n",
      "    9    6    7   12   12    7    6    9\n",
      "    5   10   11    8    8   11   10    5\n",
      "   16    3    2   13   13    2    3   16\n",
      "\n"
     ]
    }
   ],
   "source": [
    "B = [A, fliplr(A); flipud(A), fliplr(flipud(A))]"
   ]
  },
  {
   "cell_type": "markdown",
   "metadata": {
    "slideshow": {
     "slide_type": "slide"
    }
   },
   "source": [
    "## Deleting rows and columns\n",
    "\n",
    "A row or a column can be deleted from an array using just a pair of empty square brackets."
   ]
  },
  {
   "cell_type": "code",
   "execution_count": 47,
   "metadata": {},
   "outputs": [
    {
     "name": "stdout",
     "output_type": "stream",
     "text": [
      "X =\n",
      "\n",
      "   16    2   13\n",
      "    5   11    8\n",
      "    9    7   12\n",
      "    4   14    1\n",
      "\n"
     ]
    }
   ],
   "source": [
    "X = A;\n",
    "X(:,2) = []"
   ]
  },
  {
   "cell_type": "markdown",
   "metadata": {
    "slideshow": {
     "slide_type": "fragment"
    }
   },
   "source": [
    "If you delete an single element from an array, the result is not an array anymore:"
   ]
  },
  {
   "cell_type": "code",
   "execution_count": 48,
   "metadata": {},
   "outputs": [
    {
     "name": "stdout",
     "output_type": "stream",
     "text": [
      "error: a null assignment can only have one non-colon index\n"
     ]
    }
   ],
   "source": [
    "X(1,2) = []"
   ]
  },
  {
   "cell_type": "markdown",
   "metadata": {},
   "source": [
    "However, using a single subscript deletes a single element or sequence of elements, and reshapes the remaining elements into a row vector:"
   ]
  },
  {
   "cell_type": "code",
   "execution_count": 49,
   "metadata": {},
   "outputs": [
    {
     "name": "stdout",
     "output_type": "stream",
     "text": [
      "ans =\n",
      "\n",
      "   16    9    2    7   13   12    1\n",
      "\n"
     ]
    }
   ],
   "source": [
    "X(2:2:10) = [];\n",
    "X'"
   ]
  },
  {
   "cell_type": "markdown",
   "metadata": {
    "slideshow": {
     "slide_type": "slide"
    }
   },
   "source": [
    "## Dimensions\n",
    "\n",
    "MATLAB provides two functions that return the dimensions of a array: `length` and `size`:\n",
    "\n",
    "|Statement|Description|\n",
    "|:--|:--|\n",
    "|`l = length(A)`| the length of the largest array dimension in `A`|\n",
    "|`sz = size(A)`| a row vector whose elements contain the length of the corresponding dimension of `A`|\n",
    "|`szdim = size(A,dim)`| the length of dimension `dim`|\n",
    "|`[m,n] = size(A)`| the number of rows and columns when `A` is a matrix|"
   ]
  },
  {
   "cell_type": "code",
   "execution_count": 50,
   "metadata": {
    "slideshow": {
     "slide_type": "fragment"
    }
   },
   "outputs": [
    {
     "name": "stdout",
     "output_type": "stream",
     "text": [
      "lz =  4\n",
      "lr =  5\n",
      "lrn =  2\n",
      "sz =\n",
      "\n",
      "   2   4\n",
      "\n",
      "szdim =  2\n",
      "m =  2\n",
      "n =  4\n"
     ]
    }
   ],
   "source": [
    "lz = length(Z)\n",
    "lr = length(R)\n",
    "lrn = length(D)\n",
    "sz = size(Z)\n",
    "szdim = size(Z,1)\n",
    "[m,n]=size(Z)"
   ]
  },
  {
   "cell_type": "markdown",
   "metadata": {
    "slideshow": {
     "slide_type": "slide"
    }
   },
   "source": [
    "## Reshaping an array\n",
    "\n",
    "The function `reshape(A, dim1, dim2, ...)` creates a new array with dimensions `dim1`, `dim2`, ... and as elements the values of A, eg."
   ]
  },
  {
   "cell_type": "code",
   "execution_count": 51,
   "metadata": {},
   "outputs": [
    {
     "name": "stdout",
     "output_type": "stream",
     "text": [
      "ans =\n",
      "\n",
      "    1    6\n",
      "    2    7\n",
      "    3    8\n",
      "    4    9\n",
      "    5   10\n",
      "\n",
      "ans =\n",
      "\n",
      "   16    9    3    6    2    7   13   12\n",
      "    5    4   10   15   11   14    8    1\n",
      "\n"
     ]
    }
   ],
   "source": [
    "reshape(1:10, 5, 2)\n",
    "reshape(A, 2, 8)"
   ]
  },
  {
   "cell_type": "markdown",
   "metadata": {
    "slideshow": {
     "slide_type": "slide"
    }
   },
   "source": [
    "# Array operations\n",
    "\n",
    "## Operators\n",
    "\n",
    "The following list of operators execute on an element-by-element base:\n",
    "\n",
    "|Operator|Description|\n",
    "|:---|:---|\n",
    "|`A+B`|Addition|\n",
    "|`A-B`|Subtraction|\n",
    "|`A.*B`|Element-by-element multiplication|\n",
    "|`A./B`|Element-by-element division|\n",
    "|`A.^B`|Element-by-element power|\n",
    "\n",
    "`A` and `B` having the same dimensions. Eg."
   ]
  },
  {
   "cell_type": "code",
   "execution_count": 52,
   "metadata": {
    "slideshow": {
     "slide_type": "fragment"
    }
   },
   "outputs": [
    {
     "name": "stdout",
     "output_type": "stream",
     "text": [
      "ans =\n",
      "\n",
      "   256     9     4   169\n",
      "    25   100   121    64\n",
      "    81    36    49   144\n",
      "    16   225   196     1\n",
      "\n"
     ]
    }
   ],
   "source": [
    "A.*A"
   ]
  },
  {
   "cell_type": "markdown",
   "metadata": {
    "slideshow": {
     "slide_type": "slide"
    }
   },
   "source": [
    "## Scalar expansion\n",
    "\n",
    "Arrays and scalars can be combined in several different ways. Eg., a scalar is subtracted from a matrix by subtracting it from each element:"
   ]
  },
  {
   "cell_type": "code",
   "execution_count": 53,
   "metadata": {},
   "outputs": [
    {
     "name": "stdout",
     "output_type": "stream",
     "text": [
      "B =\n",
      "\n",
      "   7.50000  -5.50000  -6.50000   4.50000\n",
      "  -3.50000   1.50000   2.50000  -0.50000\n",
      "   0.50000  -2.50000  -1.50000   3.50000\n",
      "  -4.50000   6.50000   5.50000  -7.50000\n",
      "\n"
     ]
    }
   ],
   "source": [
    "B = A - 8.5"
   ]
  },
  {
   "cell_type": "markdown",
   "metadata": {
    "slideshow": {
     "slide_type": "fragment"
    }
   },
   "source": [
    "With scalar expansion, MATLAB assigns a specified scalar to all indices in a range. Eg."
   ]
  },
  {
   "cell_type": "code",
   "execution_count": 54,
   "metadata": {},
   "outputs": [
    {
     "name": "stdout",
     "output_type": "stream",
     "text": [
      "B =\n",
      "\n",
      "   7.50000   0.00000   0.00000   4.50000\n",
      "  -3.50000   0.00000   0.00000  -0.50000\n",
      "   0.50000  -2.50000  -1.50000   3.50000\n",
      "  -4.50000   6.50000   5.50000  -7.50000\n",
      "\n"
     ]
    }
   ],
   "source": [
    "B(1:2,2:3)=0"
   ]
  },
  {
   "cell_type": "markdown",
   "metadata": {
    "slideshow": {
     "slide_type": "slide"
    }
   },
   "source": [
    "## Building arrays\n",
    "\n",
    "Array operations are useful for building other arrays:"
   ]
  },
  {
   "cell_type": "code",
   "execution_count": 55,
   "metadata": {},
   "outputs": [
    {
     "name": "stdout",
     "output_type": "stream",
     "text": [
      "pows =\n",
      "\n",
      "     0     0     1\n",
      "     1     1     2\n",
      "     2     4     4\n",
      "     3     9     8\n",
      "     4    16    16\n",
      "     5    25    32\n",
      "     6    36    64\n",
      "     7    49   128\n",
      "     8    64   256\n",
      "     9    81   512\n",
      "\n"
     ]
    }
   ],
   "source": [
    "n = (0:9)';\n",
    "pows = [n n.^2 2.^n]"
   ]
  },
  {
   "cell_type": "markdown",
   "metadata": {
    "slideshow": {
     "slide_type": "slide"
    }
   },
   "source": [
    "## Mathematical functions\n",
    "\n",
    "The elementary mathematical functions of Lecture 1 operate all on arrays element-by-element:"
   ]
  },
  {
   "cell_type": "code",
   "execution_count": 56,
   "metadata": {},
   "outputs": [
    {
     "name": "stdout",
     "output_type": "stream",
     "text": [
      "logs =\n",
      "\n",
      "   1.00000   0.00000\n",
      "   1.10000   0.04139\n",
      "   1.20000   0.07918\n",
      "   1.30000   0.11394\n",
      "   1.40000   0.14613\n",
      "   1.50000   0.17609\n",
      "   1.60000   0.20412\n",
      "   1.70000   0.23045\n",
      "   1.80000   0.25527\n",
      "   1.90000   0.27875\n",
      "   2.00000   0.30103\n",
      "\n"
     ]
    }
   ],
   "source": [
    "x = (1:0.1:2)';\n",
    "logs = [x log10(x)]"
   ]
  }
 ],
 "metadata": {
  "celltoolbar": "Slideshow",
  "hide_code_all_hidden": false,
  "kernelspec": {
   "display_name": "Octave",
   "language": "octave",
   "name": "octave"
  },
  "language_info": {
   "file_extension": ".m",
   "help_links": [
    {
     "text": "GNU Octave",
     "url": "https://www.gnu.org/software/octave/support.html"
    },
    {
     "text": "Octave Kernel",
     "url": "https://github.com/Calysto/octave_kernel"
    },
    {
     "text": "MetaKernel Magics",
     "url": "https://github.com/calysto/metakernel/blob/master/metakernel/magics/README.md"
    }
   ],
   "mimetype": "text/x-octave",
   "name": "octave",
   "version": "4.2.2"
  }
 },
 "nbformat": 4,
 "nbformat_minor": 2
}
