{
 "cells": [
  {
   "cell_type": "markdown",
   "metadata": {
    "hideCode": false,
    "hidePrompt": false,
    "slideshow": {
     "slide_type": "fragment"
    }
   },
   "source": [
    "# Variables\n",
    "\n",
    "## Definition\n",
    "\n",
    "**A *variable* is a storage location paired with an associated symbolic name, which contains some known or unknown quantity of information referred to as a *value*.**\n",
    "\n",
    "- The variable name is the usual way to reference the stored value; this separation of name and content allows the name to be used independently of the exact information it represents. \n",
    "- The identifier can be bound to a value during *run time*, and the value of the variable may thus change during the course of program execution."
   ]
  },
  {
   "cell_type": "markdown",
   "metadata": {
    "hideCode": false,
    "hidePrompt": false,
    "slideshow": {
     "slide_type": "subslide"
    }
   },
   "source": [
    "## MATLAB (Octave)\n",
    "\n",
    "MATLAB does not require any *type declaration*:\n",
    "\n",
    "- When MATLAB encounters a new variable name, it automatically creates the variable and allocate the appropriate amount of storage. \n",
    "- If the variable already exists, MATLAB changes its contents and, if necessary, allocates new storage."
   ]
  },
  {
   "cell_type": "code",
   "execution_count": 1,
   "metadata": {
    "hideCode": false,
    "hidePrompt": false,
    "slideshow": {
     "slide_type": "fragment"
    }
   },
   "outputs": [
    {
     "name": "stdout",
     "output_type": "stream",
     "text": [
      "num_students_172 =  25\n"
     ]
    }
   ],
   "source": [
    "num_students_172 = 25"
   ]
  },
  {
   "cell_type": "markdown",
   "metadata": {
    "hideCode": false,
    "hidePrompt": false,
    "slideshow": {
     "slide_type": "fragment"
    }
   },
   "source": [
    "This statement creates a 1-by-1 matrix named `num_students` and stores the value `25` in its single element."
   ]
  },
  {
   "cell_type": "markdown",
   "metadata": {
    "hideCode": false,
    "hidePrompt": false,
    "slideshow": {
     "slide_type": "subslide"
    }
   },
   "source": [
    "Variable names consist of a letter, followed by a number of letters, digits, or underscores:\n",
    "\n",
    "- MATLAB uses only the first 31 characters of a variable name.\n",
    "- MATLAB is case sensitive; it distinguishes between uppercase and lowercase letters."
   ]
  },
  {
   "cell_type": "code",
   "execution_count": 2,
   "metadata": {
    "hideCode": false,
    "hidePrompt": false,
    "slideshow": {
     "slide_type": "fragment"
    }
   },
   "outputs": [
    {
     "name": "stdout",
     "output_type": "stream",
     "text": [
      "ans = 0\n"
     ]
    }
   ],
   "source": [
    "a = 0;\n",
    "A = 1;\n",
    "a == A"
   ]
  },
  {
   "cell_type": "markdown",
   "metadata": {
    "hideCode": false,
    "hidePrompt": false,
    "slideshow": {
     "slide_type": "fragment"
    }
   },
   "source": [
    "**Remarks**\n",
    "\n",
    "- The result of the last expression is stored in the variable `ans`.\n",
    "- A semi-colon after a statement suppresses the output.\n",
    "- `==` is the equality operator and returns 1 if the statement is true and 0 otherwise."
   ]
  },
  {
   "cell_type": "code",
   "execution_count": 3,
   "metadata": {
    "slideshow": {
     "slide_type": "fragment"
    }
   },
   "outputs": [
    {
     "name": "stdout",
     "output_type": "stream",
     "text": [
      "b =  1\n"
     ]
    }
   ],
   "source": [
    "a=1;\n",
    "b=a;\n",
    "a=0;\n",
    "b"
   ]
  },
  {
   "cell_type": "markdown",
   "metadata": {
    "hideCode": false,
    "hidePrompt": false,
    "slideshow": {
     "slide_type": "subslide"
    }
   },
   "source": [
    "To view the matrix assigned to any variable, simply enter the variable name:"
   ]
  },
  {
   "cell_type": "code",
   "execution_count": 4,
   "metadata": {
    "hideCode": false,
    "hidePrompt": false
   },
   "outputs": [
    {
     "name": "stdout",
     "output_type": "stream",
     "text": [
      "num_students_172 =  25\n"
     ]
    }
   ],
   "source": [
    "num_students_172"
   ]
  },
  {
   "cell_type": "markdown",
   "metadata": {
    "hideCode": false,
    "hidePrompt": false,
    "slideshow": {
     "slide_type": "fragment"
    }
   },
   "source": [
    "A variable `var` can be undefined by the statement `clear var`:"
   ]
  },
  {
   "cell_type": "code",
   "execution_count": 5,
   "metadata": {
    "hideCode": false,
    "hidePrompt": false
   },
   "outputs": [
    {
     "name": "stdout",
     "output_type": "stream",
     "text": [
      "error: 'num_students_172' undefined near line 1 column 1\n"
     ]
    }
   ],
   "source": [
    "clear num_students_172\n",
    "num_students_172"
   ]
  },
  {
   "cell_type": "markdown",
   "metadata": {
    "hideCode": false,
    "hidePrompt": false,
    "slideshow": {
     "slide_type": "slide"
    }
   },
   "source": [
    "## Numbers\n",
    "\n",
    "- MATLAB uses conventional decimal notation, with an optional decimal point and leading plus or minus sign, for numbers:\n",
    "\n",
    "    3, -99, 0.0001 (=$0{,}0001$), -1.23456 (=$-1{,}23456$)\n",
    "\n",
    "- *Scientific notation* uses the letter `e` to specify a power-of-ten scale factor:\n",
    "\n",
    "    1.60210e-20 (=$1{,}60210\\cdot10^{-20}$)\n",
    "\n",
    "- All numbers are stored internally using the *long* format specified by the IEEE floating-point standard:\n",
    "    - a finite *precision* of roughly 16 significant decimals digits and\n",
    "    - a finite *range* of roughly $10^{-308}$ to $10^{+308}$."
   ]
  },
  {
   "cell_type": "markdown",
   "metadata": {
    "hideCode": false,
    "hidePrompt": false,
    "slideshow": {
     "slide_type": "slide"
    }
   },
   "source": [
    "## Constants\n",
    "\n",
    "|Matlab|Value|Latex in Markdown cell|Processed cell|\n",
    "|------|-----|----------------------|--------------|\n",
    "|`pi`|$3.1415926535897$|`$\\pi$`|$\\pi$|\n",
    "|`e`|$2.7182818284590$|`$\\mathrm{e}$`|$\\mathrm{e}$|\n",
    "|`eps`|Floating-point relative precision|`$\\epsilon$`|$\\epsilon$|\n",
    "|`realmin`|Smallest floating-point number|||\n",
    "|`realmax`|Biggest floating-point number|||\n",
    "|`Inf`|Infinity|`$\\infty$`|$\\infty$|\n",
    "|`NaN`|Not-a-number|||"
   ]
  },
  {
   "cell_type": "code",
   "execution_count": 6,
   "metadata": {
    "hideCode": false,
    "hidePrompt": false,
    "slideshow": {
     "slide_type": "fragment"
    }
   },
   "outputs": [
    {
     "name": "stdout",
     "output_type": "stream",
     "text": [
      "ans =    2.2204e-16\n"
     ]
    }
   ],
   "source": [
    "eps"
   ]
  },
  {
   "cell_type": "code",
   "execution_count": 7,
   "metadata": {
    "hideCode": false,
    "hidePrompt": false
   },
   "outputs": [
    {
     "name": "stdout",
     "output_type": "stream",
     "text": [
      "ans =   2.2251e-308\n"
     ]
    }
   ],
   "source": [
    "realmin"
   ]
  },
  {
   "cell_type": "code",
   "execution_count": 8,
   "metadata": {
    "hideCode": false,
    "hidePrompt": false
   },
   "outputs": [
    {
     "name": "stdout",
     "output_type": "stream",
     "text": [
      "ans =   1.7977e+308\n"
     ]
    }
   ],
   "source": [
    "realmax"
   ]
  },
  {
   "cell_type": "markdown",
   "metadata": {
    "slideshow": {
     "slide_type": "slide"
    }
   },
   "source": [
    "## Formatting\n",
    "\n",
    "The `format` function controls the numeric format of the values displayed by MATLAB. The function affects only how numbers are displayed, not how MATLAB computes or saves them."
   ]
  },
  {
   "cell_type": "code",
   "execution_count": 9,
   "metadata": {
    "slideshow": {
     "slide_type": "fragment"
    }
   },
   "outputs": [
    {
     "name": "stdout",
     "output_type": "stream",
     "text": [
      "   3.1416e+00\n",
      "    3.1416\n",
      "   3.14159265358979e+00\n",
      "    3.14159265358979\n",
      " 3.14\n"
     ]
    }
   ],
   "source": [
    "x = pi;\n",
    "format short e\n",
    "disp(x)\n",
    "format short g\n",
    "disp(x)\n",
    "format long e\n",
    "disp(x)\n",
    "format long g\n",
    "disp(x)\n",
    "format bank\n",
    "disp(x)"
   ]
  },
  {
   "cell_type": "markdown",
   "metadata": {},
   "source": [
    "**Remark**: the function `disp` prints the value of the variable without its name."
   ]
  },
  {
   "cell_type": "markdown",
   "metadata": {
    "hideCode": false,
    "hidePrompt": false,
    "slideshow": {
     "slide_type": "slide"
    }
   },
   "source": [
    "# Operations\n",
    "\n",
    "## Operators\n",
    "\n",
    "Expressions use familiar arithmetic operators and precedence rules:\n",
    "\n",
    "|Matlab|Operation|Latex in Markdown cell|Processed cell     |\n",
    "|------|---------|----------------------|-------------------|\n",
    "|`a+b`|Addition |`$a+b$`|$a+b$|\n",
    "|`a-b`|Subtraction|`$a-b$`|$a-b$|\n",
    "|`a*b`|Multiplication|`$a\\cdot b$`|$a\\cdot b$|\n",
    "|`a/b`|Division|`$\\frac{a}{b}$`|$\\frac{a}{b}$|\n",
    "|`a^b`|Power|`$a^b$`|$a^b$|\n",
    "|`a*(b+c)`|Specify evaluation order|`$a\\cdot\\left(b+c\\right)$`|$a\\cdot\\left(b+c\\right)$|"
   ]
  },
  {
   "cell_type": "code",
   "execution_count": 10,
   "metadata": {
    "hideCode": false,
    "hidePrompt": false,
    "slideshow": {
     "slide_type": "subslide"
    }
   },
   "outputs": [],
   "source": [
    "format short; a = 2; b = 3; c = 4;"
   ]
  },
  {
   "cell_type": "code",
   "execution_count": 11,
   "metadata": {
    "hideCode": false,
    "hidePrompt": false,
    "slideshow": {
     "slide_type": "fragment"
    }
   },
   "outputs": [
    {
     "name": "stdout",
     "output_type": "stream",
     "text": [
      "ans = 1\n"
     ]
    }
   ],
   "source": [
    "a + b * c == a + (b * c)"
   ]
  },
  {
   "cell_type": "code",
   "execution_count": 12,
   "metadata": {
    "hideCode": false,
    "hidePrompt": false,
    "slideshow": {
     "slide_type": "fragment"
    }
   },
   "outputs": [
    {
     "name": "stdout",
     "output_type": "stream",
     "text": [
      "ans = 1\n"
     ]
    }
   ],
   "source": [
    "a * (b + c) == a * b + a * c"
   ]
  },
  {
   "cell_type": "code",
   "execution_count": 13,
   "metadata": {
    "hideCode": false,
    "hidePrompt": false,
    "slideshow": {
     "slide_type": "fragment"
    }
   },
   "outputs": [
    {
     "name": "stdout",
     "output_type": "stream",
     "text": [
      "ans = 1\n"
     ]
    }
   ],
   "source": [
    "a / b == a * (1 / b)"
   ]
  },
  {
   "cell_type": "code",
   "execution_count": 14,
   "metadata": {
    "hideCode": false,
    "hidePrompt": false,
    "slideshow": {
     "slide_type": "fragment"
    }
   },
   "outputs": [
    {
     "name": "stdout",
     "output_type": "stream",
     "text": [
      "ans = 1\n"
     ]
    }
   ],
   "source": [
    "a^(b+c) == a^b * a^c"
   ]
  },
  {
   "cell_type": "code",
   "execution_count": 15,
   "metadata": {
    "hideCode": false,
    "hidePrompt": false,
    "slideshow": {
     "slide_type": "fragment"
    }
   },
   "outputs": [
    {
     "name": "stdout",
     "output_type": "stream",
     "text": [
      "ans = 1\n"
     ]
    }
   ],
   "source": [
    "(a * b)^c == a^c * b^c"
   ]
  },
  {
   "cell_type": "markdown",
   "metadata": {
    "hideCode": false,
    "hidePrompt": false,
    "slideshow": {
     "slide_type": "slide"
    }
   },
   "source": [
    "## Mathematical functions\n",
    "\n",
    "### Elementary functions\n",
    "\n",
    "|Matlab|Operation|Latex in Markdown cell|Processed cell|\n",
    "|:-----|:--------|:---------------------|:-------------|\n",
    "|`floor(x)`|Round toward negatif infinity|`$\\left \\lfloor{x}\\right \\rfloor $`|$\\left \\lfloor{x}\\right \\rfloor$|\n",
    "|`ceil(x)`|Round toward positif infinity|`$\\left \\lceil{x}\\right \\rceil $`|$\\left \\lceil{x}\\right \\rceil$|\n",
    "|`round(x)`|Round to nearest integer|||\n",
    "|`fix(x)`|Round toward zero|||\n",
    "|`abs(x)`|Absolute value|`$\\left\\lvert x\\right\\rvert$`|$\\left\\lvert x\\right\\rvert$|\n",
    "|`sign(x)`|Sign|`$\\textrm{sgn}(x)$`|$\\textrm{sgn}(x)$|\n",
    "|`mod(x,y)`|Compute the modulo of $x$ and $y$: `x - y * floor (x / y)`|`$x\\mod y$`|$x\\mod y$|\n",
    "|`rem(x,y)`|Compute the remainder of $x$ and $y$: `x - y * fix (x / y)`||\n",
    "|`sqrt(x)`|Positive square root|`$\\sqrt{x}$`|$\\sqrt{x}$|"
   ]
  },
  {
   "cell_type": "markdown",
   "metadata": {
    "hideCode": false,
    "hidePrompt": false,
    "slideshow": {
     "slide_type": "subslide"
    }
   },
   "source": [
    "**Remark**: MATLAB provides an explanation of each defined function, eg.\n",
    "\n",
    "`help sign`\n",
    "```\n",
    " sign   Signum function.\n",
    "    For each element of X, sign(X) returns 1 if the element\n",
    "    is greater than zero, 0 if it equals zero and -1 if it is\n",
    "    less than zero.  For the nonzero elements of complex X,\n",
    "    sign(X) = X ./ ABS(X).\n",
    " \n",
    "    See also abs.\n",
    "```"
   ]
  },
  {
   "cell_type": "code",
   "execution_count": 16,
   "metadata": {
    "hideCode": false,
    "hidePrompt": false,
    "slideshow": {
     "slide_type": "fragment"
    }
   },
   "outputs": [
    {
     "name": "stdout",
     "output_type": "stream",
     "text": [
      "'sign' is a built-in function from the file libinterp/corefcn/mappers.cc\n",
      "\n",
      " -- sign (X)\n",
      "     Compute the \"signum\" function.\n",
      "\n",
      "     This is defined as\n",
      "\n",
      "                     -1, x < 0;\n",
      "          sign (x) =  0, x = 0;\n",
      "                      1, x > 0.\n",
      "\n",
      "     For complex arguments, 'sign' returns 'x ./ abs (X)'.\n",
      "\n",
      "     Note that 'sign (-0.0)' is 0.  Although IEEE 754 floating point\n",
      "     allows zero to be signed, 0.0 and -0.0 compare equal.  If you must\n",
      "     test whether zero is signed, use the 'signbit' function.\n",
      "\n",
      "     See also: signbit.\n",
      "\n",
      "Additional help for built-in functions and operators is\n",
      "available in the online version of the manual.  Use the command\n",
      "'doc <topic>' to search the manual index.\n",
      "\n",
      "Help and information about Octave is also available on the WWW\n",
      "at http://www.octave.org and via the help@octave.org\n",
      "mailing list.\n"
     ]
    }
   ],
   "source": [
    "help sign"
   ]
  },
  {
   "cell_type": "markdown",
   "metadata": {
    "hideCode": false,
    "hidePrompt": false,
    "slideshow": {
     "slide_type": "subslide"
    }
   },
   "source": [
    "### Trigonometric functions\n",
    "\n",
    "|Matlab|Operation|Latex in Markdown cell|Processed cell|\n",
    "|------|---------|----------------------|--------------|\n",
    "|`sin(x)`|Sine from an angle in radians|`$\\sin x$`|$\\sin x$|\n",
    "|`cos(x)`|Cosine from an angle in radians|`$\\cos x$`|$\\cos x$|\n",
    "|`tan(x)`|Tangent from an angle in radians|`$\\tan x$`|$\\tan x$|\n",
    "|`asin(x)`|Arcsine expressed in radians|`$\\textrm{arcsin}\\,x$`|$\\textrm{arcsin}\\,x$|\n",
    "|`acos(x)`|Arccosine expressed in radians|`$\\textrm{arccos}\\,x$`|$\\textrm{arccos}\\,x$|\n",
    "|`atan(x)`|Arctangent expressed in radians|`$\\textrm{arctan}\\,x$`|$\\textrm{arctan}\\,x$|"
   ]
  },
  {
   "cell_type": "code",
   "execution_count": 17,
   "metadata": {
    "slideshow": {
     "slide_type": "fragment"
    }
   },
   "outputs": [
    {
     "name": "stdout",
     "output_type": "stream",
     "text": [
      "tan_angle =  1.00000\n",
      "ans = 1\n"
     ]
    }
   ],
   "source": [
    "angle_deg = 45; %degrees\n",
    "angle_rad = angle_deg/180*pi;\n",
    "tan_angle = tan(angle_rad)\n",
    "angle2_rad = atan(tan_angle);\n",
    "angle2_deg = angle2_rad/pi*180;\n",
    "angle_deg == angle2_deg"
   ]
  },
  {
   "cell_type": "markdown",
   "metadata": {},
   "source": [
    "**Remark**: Text after `%` are comments and will not be processed."
   ]
  },
  {
   "cell_type": "markdown",
   "metadata": {
    "slideshow": {
     "slide_type": "subslide"
    }
   },
   "source": [
    "### Exponential and logarithmic functions\n",
    "\n",
    "|Matlab|Operation|Latex in Markdown cell|Processed cell|\n",
    "|------|---------|----------------------|--------------|\n",
    "|`exp(x)`|Exponential|`$\\mathrm{e}^x$`|$\\mathrm{e}^x$|\n",
    "|`log(x)`|Natural logarithm|`$\\ln x$`|$\\ln x$|\n",
    "|`log10(x)`|Logarithm base 10|`$\\log_{10}x$`|$\\log_{10}x$|\n",
    "|`log2(x)`|Logarithm base 2|`$\\log_{2}x$`|$\\log_{2}x$|"
   ]
  },
  {
   "cell_type": "markdown",
   "metadata": {
    "slideshow": {
     "slide_type": "fragment"
    }
   },
   "source": [
    "Eg. calculate $\\log_8 512$:"
   ]
  },
  {
   "cell_type": "code",
   "execution_count": 18,
   "metadata": {
    "slideshow": {
     "slide_type": "fragment"
    }
   },
   "outputs": [
    {
     "name": "stdout",
     "output_type": "stream",
     "text": [
      "ans =  3\n"
     ]
    }
   ],
   "source": [
    "log2(512)/log2(8)"
   ]
  },
  {
   "cell_type": "markdown",
   "metadata": {
    "hideCode": false,
    "hidePrompt": false,
    "slideshow": {
     "slide_type": "subslide"
    }
   },
   "source": [
    "### Hyperbolic functions\n",
    "\n",
    "|Matlab|Operation|Latex in Markdown cell|Processed cell|\n",
    "|------|---------|----------------------|--------------|\n",
    "|`sinh(x)`|Hyperbolic sine|`$\\sinh x$`|$\\sinh x$|\n",
    "|`cosh(x)`|Hyperbolic cosine|`$\\cosh x$`|$\\cosh x$|\n",
    "|`tanh(x)`|Hyperbolic tangent|`$\\tanh x$`|$\\tanh x$|\n",
    "|`asinh(x)`|Inverse hyperbolic sine|`$\\sinh^{-1} x$`|$\\sinh^{-1} x$|\n",
    "|`acosh(x)`|Inverse hyperbolic cosine|`$\\cosh^{-1} x$`|$\\cosh^{-1} x$|\n",
    "|`atanh(x)`|Inverse hyperbolic tangent|`$\\tanh^{-1} x$`|$\\tanh^{-1} x$|"
   ]
  },
  {
   "cell_type": "markdown",
   "metadata": {
    "slideshow": {
     "slide_type": "fragment"
    }
   },
   "source": [
    "Eg. Verify $\\sinh(x)=\\frac{\\mathrm{e}^x-\\mathrm{e}^{-x}}{2}$ for $x=0, 1, 10$:"
   ]
  },
  {
   "cell_type": "code",
   "execution_count": 19,
   "metadata": {},
   "outputs": [
    {
     "name": "stdout",
     "output_type": "stream",
     "text": [
      "ans = 1\n",
      "ans = 1\n",
      "ans = 1\n"
     ]
    }
   ],
   "source": [
    "x = 0;\n",
    "sinh(x) == 0.5*(exp(x)-exp(-x))\n",
    "x = 1;\n",
    "sinh(x) == 0.5*(exp(x)-exp(-x))\n",
    "x = 10;\n",
    "sinh(x) == 0.5*(exp(x)-exp(-x))"
   ]
  },
  {
   "cell_type": "code",
   "execution_count": null,
   "metadata": {},
   "outputs": [],
   "source": []
  }
 ],
 "metadata": {
  "celltoolbar": "Slideshow",
  "hide_code_all_hidden": false,
  "kernelspec": {
   "display_name": "Octave",
   "language": "octave",
   "name": "octave"
  },
  "language_info": {
   "file_extension": ".m",
   "help_links": [
    {
     "text": "GNU Octave",
     "url": "https://www.gnu.org/software/octave/support.html"
    },
    {
     "text": "Octave Kernel",
     "url": "https://github.com/Calysto/octave_kernel"
    },
    {
     "text": "MetaKernel Magics",
     "url": "https://github.com/calysto/metakernel/blob/master/metakernel/magics/README.md"
    }
   ],
   "mimetype": "text/x-octave",
   "name": "octave",
   "version": "4.2.2"
  }
 },
 "nbformat": 4,
 "nbformat_minor": 2
}
