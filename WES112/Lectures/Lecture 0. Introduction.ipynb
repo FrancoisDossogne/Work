{
 "cells": [
  {
   "cell_type": "markdown",
   "metadata": {
    "slideshow": {
     "slide_type": "slide"
    }
   },
   "source": [
    "# Syllabus\n",
    "\n",
    "## Who are we?\n",
    "\n",
    "- Maj IMM Ben Lauwens, 150 POL, D30.11, ben.lauwens@rma.ac.be\n",
    "\n",
    "- Cdt IMM François Dossogne, 140 POL, D30.25 , francois.dossogne@rma.ac.be"
   ]
  },
  {
   "cell_type": "markdown",
   "metadata": {
    "slideshow": {
     "slide_type": "fragment"
    }
   },
   "source": [
    "## Course description\n",
    "\n",
    "ES112 (part MATLAB) is intended for students with little or no programming experience. It aims to provide students the means and the knowledge to succesfully use MATLAB (Octave) in all technical courses."
   ]
  },
  {
   "cell_type": "markdown",
   "metadata": {
    "slideshow": {
     "slide_type": "subslide"
    }
   },
   "source": [
    "## Course Materials\n",
    "\n",
    "- Handbook: Essential Mathematical Skills for engineering, science and applied mathematics\n",
    "- Jupyter notebooks: Lectures notes and Assignments"
   ]
  },
  {
   "cell_type": "markdown",
   "metadata": {
    "slideshow": {
     "slide_type": "fragment"
    }
   },
   "source": [
    "## Evaluation\n",
    "\n",
    "- Tests: 2 (be always prepared!)\n",
    "- Exam: oral defense after preparation with computer"
   ]
  },
  {
   "cell_type": "markdown",
   "metadata": {
    "slideshow": {
     "slide_type": "fragment"
    }
   },
   "source": [
    "## Schedule\n",
    "\n",
    "- Thursday AM\n",
    "- Theory (1h) followed by exercises (1h)"
   ]
  },
  {
   "cell_type": "markdown",
   "metadata": {
    "slideshow": {
     "slide_type": "slide"
    }
   },
   "source": [
    "# VirtualBox\n",
    "\n",
    "- VirtualBox is a general-purpose full virtualizer for x86 hardware, targeted at server, desktop and embedded use.\n",
    "- [Download](https://www.virtualbox.org/wiki/Downloads) and [installation](https://www.virtualbox.org/manual/UserManual.html#installation) information can be found online.\n",
    "- Image *Jupyter* is provided with everything you will need: `File - Import Applicance...` \n",
    "- Start in *headless* mode. "
   ]
  },
  {
   "cell_type": "markdown",
   "metadata": {
    "slideshow": {
     "slide_type": "slide"
    }
   },
   "source": [
    "# Jupyter\n",
    "\n",
    "Project Jupyter is an open source project born out of the IPython Project in 2014 as it evolved to support interactive data science and scientific computing across all programming languages."
   ]
  },
  {
   "cell_type": "markdown",
   "metadata": {
    "slideshow": {
     "slide_type": "fragment"
    }
   },
   "source": [
    "## Access\n",
    "\n",
    "- [http://localhost:8888](http://localhost:8888)\n",
    "- Initial passwd is empty"
   ]
  },
  {
   "cell_type": "markdown",
   "metadata": {
    "slideshow": {
     "slide_type": "subslide"
    }
   },
   "source": [
    "## Dashboard   "
   ]
  },
  {
   "cell_type": "markdown",
   "metadata": {
    "slideshow": {
     "slide_type": "fragment"
    }
   },
   "source": [
    "### Files\n",
    "\n",
    "- Upload a file\n",
    "- New: *Octave*, *Python*, *Text File*, *Folder* and *Terminal*\n",
    "- Selectable and clickable directory listing:\n",
    "    - Select:\n",
    "        - Folder: *Rename*, *Move*, and *Delete*\n",
    "        - .ipynb files: *Duplicate*, *Rename*, *Move*, *Download* and *Delete*\n",
    "        - other files: *Duplicate*, *Rename*, *Move*, *Download*, *Edit* and *Delete*\n",
    "    - Click:\n",
    "        - Folder: show files in directory listing\n",
    "        - .ipynb files: launch notebook\n",
    "        - other files: show file"
   ]
  },
  {
   "cell_type": "markdown",
   "metadata": {
    "slideshow": {
     "slide_type": "subslide"
    }
   },
   "source": [
    "### Running\n",
    "\n",
    "Active (running) terminals and notebooks with *shutdown* button."
   ]
  },
  {
   "cell_type": "markdown",
   "metadata": {
    "slideshow": {
     "slide_type": "fragment"
    }
   },
   "source": [
    "### Cluster\n",
    "\n",
    "Not applicable"
   ]
  },
  {
   "cell_type": "markdown",
   "metadata": {
    "slideshow": {
     "slide_type": "slide"
    }
   },
   "source": [
    "# Notebook (Octave)\n",
    "\n",
    "## Interface\n",
    "\n",
    "The notebook UI has the following main areas:\n",
    "\n",
    "- Menu\n",
    "- Toolbar\n",
    "- Notebook area and cells"
   ]
  },
  {
   "cell_type": "markdown",
   "metadata": {
    "slideshow": {
     "slide_type": "subslide"
    }
   },
   "source": [
    "## Cells\n",
    "\n",
    "- The content type of a notebook cell can be selected in the toolbar:\n",
    "\n",
    "    - [Octave](https://www.gnu.org/software/octave/) Code\n",
    "    - [Markdown](https://daringfireball.net/projects/markdown/) mixed with [LaTeX](https://www.latex-project.org)\n",
    "\n",
    "- `ctrl-enter` processes a cell.\n",
    "\n",
    "- `shift-enter` processes a cell and selexts next cell.\n",
    "\n",
    "- `alt-enter` processes a cell and inserts a new cell.\n",
    "\n",
    "- Further [documentation](http://jupyter-notebook.readthedocs.io/en/latest/index.html) can be found online."
   ]
  },
  {
   "cell_type": "markdown",
   "metadata": {
    "slideshow": {
     "slide_type": "subslide"
    }
   },
   "source": [
    "## Presentation mode\n",
    "\n",
    "- Presentation mode can be selected in the toolbar.\n",
    "- Going through the slides is done by `page_down` and `page_up`.\n",
    "- The slide type can be selected by activating `Menu - View - Cell Toolbar - Slideshow` in normal mode:\n",
    "    - `Slide`: start of a new slide\n",
    "    - `Sub-Slide`: new slide that depends on previous one(s)\n",
    "    - `Fragment`: fragment of a slide\n",
    "    - `Skip`: not shown in slideshow\n",
    "    - `Notes`: only visible in speaker mode"
   ]
  },
  {
   "cell_type": "markdown",
   "metadata": {
    "slideshow": {
     "slide_type": "subslide"
    }
   },
   "source": [
    "## Export\n",
    "\n",
    "The notebook can be exported as *html*, *latex* and *pdf* in the toolbar."
   ]
  },
  {
   "cell_type": "markdown",
   "metadata": {
    "slideshow": {
     "slide_type": "slide"
    }
   },
   "source": [
    "# Terminal\n",
    "\n",
    "- List contents of directory: `ls`\n",
    "- Change to home directory: `cd`\n",
    "- Change to directory *dir*: `cd dir`\n",
    "- Create directory *dir*: `mkdir dir`\n",
    "- Copy file from *source* to *destination*: `cp source destination`\n",
    "- Change Jupyter passwd: `jupyter notebook password`\n",
    "- Update repository *ES112*: `git pull`\n",
    "- Stash modifications from repository *ES112*: `git stash`\n",
    "- Remove stashed modifications from repository *ES112*: `git stash clear`\n",
    "- Set HTTP proxy: `export http_proxy=proxy.intra.rma.ac.be:3128`\n",
    "- Set HTTPS proxy: `export https_proxy=proxy.intra.rma.ac.be:3128`\n",
    "- Unset HTTP proxy: `export http_proxy=`\n",
    "- Unset HTTPS proxy: `export https_proxy=`"
   ]
  }
 ],
 "metadata": {
  "celltoolbar": "Slideshow",
  "kernelspec": {
   "display_name": "Octave",
   "language": "octave",
   "name": "octave"
  },
  "language_info": {
   "file_extension": ".m",
   "help_links": [
    {
     "text": "GNU Octave",
     "url": "https://www.gnu.org/software/octave/support.html"
    },
    {
     "text": "Octave Kernel",
     "url": "https://github.com/Calysto/octave_kernel"
    },
    {
     "text": "MetaKernel Magics",
     "url": "https://github.com/calysto/metakernel/blob/master/metakernel/magics/README.md"
    }
   ],
   "mimetype": "text/x-octave",
   "name": "octave",
   "version": "4.2.2"
  }
 },
 "nbformat": 4,
 "nbformat_minor": 2
}
