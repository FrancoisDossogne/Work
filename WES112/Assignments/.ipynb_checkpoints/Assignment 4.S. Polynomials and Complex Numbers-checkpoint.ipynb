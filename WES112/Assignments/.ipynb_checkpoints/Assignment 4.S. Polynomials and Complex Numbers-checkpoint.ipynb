{
 "cells": [
  {
   "cell_type": "markdown",
   "metadata": {
    "slideshow": {
     "slide_type": "slide"
    }
   },
   "source": [
    "# Polynomials"
   ]
  },
  {
   "cell_type": "markdown",
   "metadata": {},
   "source": [
    "1. Expand\n",
    "$$(3+x)(3x+2)(x-3)$$\n",
    "2. Simplify\n",
    "$$\\frac{x^2-2}{x-1}+\\frac{x+3}{x}$$\n",
    "3. Write as a partial fraction\n",
    "$$\\frac{1}{(x+3)^2(x-2)}$$\n",
    "4. Use polynomial division to rewrite\n",
    "$$\\frac{x^3+5x^2+7x+2}{x+2}$$"
   ]
  },
  {
   "cell_type": "code",
   "execution_count": 3,
   "metadata": {},
   "outputs": [
    {
     "name": "stdout",
     "output_type": "stream",
     "text": [
      "ans =\n",
      "\n",
      "    3    2  -27  -18\n",
      "\n",
      "r =\n",
      "\n",
      "  -1\n",
      "   3\n",
      "\n",
      "p =\n",
      "\n",
      "   1\n",
      "   0\n",
      "\n",
      "k =\n",
      "\n",
      "   1   2\n",
      "\n",
      "r =\n",
      "\n",
      "   0.040000\n",
      "  -0.040000\n",
      "  -0.200000\n",
      "\n",
      "p =\n",
      "\n",
      "   2.0000\n",
      "  -3.0000\n",
      "  -3.0000\n",
      "\n",
      "k = [](0x0)\n",
      "r = 0\n",
      "p = -2\n",
      "k =\n",
      "\n",
      "   1   3   1\n",
      "\n"
     ]
    }
   ],
   "source": [
    "% 1.\n",
    "p1 = [1 3]; p2 = [3 2]; p3 = [1 -3]; \n",
    "conv(conv(p1,p2),p3)\n",
    "\n",
    "% 2.\n",
    "[r,p,k] = residue(conv([1 0 -2],[1 0]) + conv([0 1 3],[1 -1]), conv([1 -1],[1 0]))\n",
    "\n",
    "% 3.\n",
    "p1 = [1];\n",
    "p2 = [1 3];\n",
    "p3 = [1 -2];\n",
    "[r,p,k] = residue(p1, conv(conv(p2,p2),p3))\n",
    "\n",
    "% 4.\n",
    "[r,p,k] = residue([1 5 7 2],[1 2])"
   ]
  },
  {
   "cell_type": "code",
   "execution_count": 4,
   "metadata": {},
   "outputs": [
    {
     "name": "stdout",
     "output_type": "stream",
     "text": [
      "'conv' is a function from the file /usr/share/octave/4.2.2/m/polynomial/conv.m\n",
      "\n",
      " -- conv (A, B)\n",
      " -- conv (A, B, SHAPE)\n",
      "     Convolve two vectors A and B.\n",
      "\n",
      "     The output convolution is a vector with length equal to 'length (A)\n",
      "     + length (B) - 1'.  When A and B are the coefficient vectors of two\n",
      "     polynomials, the convolution represents the coefficient vector of\n",
      "     the product polynomial.\n",
      "\n",
      "     The optional SHAPE argument may be\n",
      "\n",
      "     SHAPE = \"full\"\n",
      "          Return the full convolution.  (default)\n",
      "\n",
      "     SHAPE = \"same\"\n",
      "          Return the central part of the convolution with the same size\n",
      "          as A.\n",
      "\n",
      "     See also: deconv, conv2, convn, fftconv.\n",
      "\n",
      "Additional help for built-in functions and operators is\n",
      "available in the online version of the manual.  Use the command\n",
      "'doc <topic>' to search the manual index.\n",
      "\n",
      "Help and information about Octave is also available on the WWW\n",
      "at http://www.octave.org and via the help@octave.org\n",
      "mailing list.\n"
     ]
    }
   ],
   "source": [
    "help conv"
   ]
  },
  {
   "cell_type": "markdown",
   "metadata": {
    "slideshow": {
     "slide_type": "slide"
    }
   },
   "source": [
    "# Complex Numbers"
   ]
  },
  {
   "cell_type": "markdown",
   "metadata": {},
   "source": [
    "1. Write in Cartesian form\n",
    "$$\\frac{3-i}{(2-i)(5+2i)}$$\n",
    "2. Write in Polar form\n",
    "$$\\frac{5}{2}(\\sqrt3-i)$$\n",
    "3. Write in Cartesian form\n",
    "$$2e^{i\\frac{\\pi}{3}}$$\n",
    "4. Find all $z$ and plot the solution where\n",
    "    - $z^3 = 4\\sqrt2(-1+i)$\n",
    "    - $z^7 = -1$\n",
    "5. Find all solutions of\n",
    "$$z^3-iz^2-(1+i)z+(6+2i)=0$$\n",
    "    - using the command `roots`\n",
    "    - using the fundamental theorem of algebra knowing that $z=-2$ is a solution"
   ]
  },
  {
   "cell_type": "code",
   "execution_count": 5,
   "metadata": {},
   "outputs": [
    {
     "name": "stdout",
     "output_type": "stream",
     "text": [
      "comp_nbr =  0.255172 - 0.062069i\n",
      "ans =  0.25517\n",
      "ans = -0.062069\n"
     ]
    }
   ],
   "source": [
    "% 1.\n",
    "comp_nbr = (3-1i)/((2-1i)*(5+2i))\n",
    "real(comp_nbr)\n",
    "imag(comp_nbr)"
   ]
  }
 ],
 "metadata": {
  "celltoolbar": "Slideshow",
  "kernelspec": {
   "display_name": "Octave",
   "language": "octave",
   "name": "octave"
  },
  "language_info": {
   "file_extension": ".m",
   "help_links": [
    {
     "text": "GNU Octave",
     "url": "https://www.gnu.org/software/octave/support.html"
    },
    {
     "text": "Octave Kernel",
     "url": "https://github.com/Calysto/octave_kernel"
    },
    {
     "text": "MetaKernel Magics",
     "url": "https://github.com/calysto/metakernel/blob/master/metakernel/magics/README.md"
    }
   ],
   "mimetype": "text/x-octave",
   "name": "octave",
   "version": "4.2.2"
  }
 },
 "nbformat": 4,
 "nbformat_minor": 2
}
