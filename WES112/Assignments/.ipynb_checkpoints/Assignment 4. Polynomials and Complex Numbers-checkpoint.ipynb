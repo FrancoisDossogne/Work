{
 "cells": [
  {
   "cell_type": "markdown",
   "metadata": {
    "slideshow": {
     "slide_type": "slide"
    }
   },
   "source": [
    "# Polynomials"
   ]
  },
  {
   "cell_type": "markdown",
   "metadata": {},
   "source": [
    "1. Expand\n",
    "$$(3+x)(3x+2)(x-3)$$\n",
    "2. Simplify\n",
    "$$\\frac{x^2-2}{x-1}+\\frac{x+3}{x}$$\n",
    "3. Write as a partial fraction\n",
    "$$\\frac{1}{(x+3)^2(x-2)}$$\n",
    "4. Use polynomial division to rewrite\n",
    "$$\\frac{x^3+5x^2+7x+2}{x+2}$$"
   ]
  },
  {
   "cell_type": "markdown",
   "metadata": {
    "slideshow": {
     "slide_type": "slide"
    }
   },
   "source": [
    "# Complex Numbers"
   ]
  },
  {
   "cell_type": "markdown",
   "metadata": {},
   "source": [
    "1. Write in Cartesian form\n",
    "$$\\frac{3-i}{(2-i)(5+2i)}$$\n",
    "2. Write in Polar form\n",
    "$$\\frac{5}{2}(\\sqrt3-i)$$\n",
    "3. Write in Cartesian form\n",
    "$$2e^{i\\frac{\\pi}{3}}$$\n",
    "4. Find all $z$ and plot the solution where\n",
    "    - $z^3 = 4\\sqrt2(-1+i)$\n",
    "    - $z^7 = -1$\n",
    "5. Find all solutions of\n",
    "$$z^3-iz^2-(1+i)z+(6+2i)=0$$\n",
    "    - using the command `roots`\n",
    "    - using the fundamental theorem of algebra knowing that $z=-2$ is a solution"
   ]
  }
 ],
 "metadata": {
  "celltoolbar": "Slideshow",
  "kernelspec": {
   "display_name": "Octave",
   "language": "octave",
   "name": "octave"
  },
  "language_info": {
   "file_extension": ".m",
   "help_links": [
    {
     "text": "GNU Octave",
     "url": "https://www.gnu.org/software/octave/support.html"
    },
    {
     "text": "Octave Kernel",
     "url": "https://github.com/Calysto/octave_kernel"
    },
    {
     "text": "MetaKernel Magics",
     "url": "https://github.com/calysto/metakernel/blob/master/metakernel/magics/README.md"
    }
   ],
   "mimetype": "text/x-octave",
   "name": "octave",
   "version": "4.2.2"
  }
 },
 "nbformat": 4,
 "nbformat_minor": 2
}
