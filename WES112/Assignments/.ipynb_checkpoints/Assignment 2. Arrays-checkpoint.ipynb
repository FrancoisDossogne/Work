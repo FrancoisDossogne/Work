{
 "cells": [
  {
   "cell_type": "markdown",
   "metadata": {},
   "source": [
    "## Array exercises:\n",
    "**Always try to find the shortest possible instruction(s).**  \n",
    "**Let the result be displayed, unless otherwise said.**\n"
   ]
  },
  {
   "cell_type": "markdown",
   "metadata": {},
   "source": [
    "Create \"MyMat\", a matrix filled like this:  \n",
    "\n",
    "||Col1|Col2|Col3|Col4|Col5|\n",
    "|-----|-----|-----|-----|-----|-----|\n",
    "|**Row1**|11|4|14|14|12|\n",
    "|**Row2**|20|4|9|6|13|\n",
    "|**Row3**|4|5|1|18|7|\n",
    "|**Row4**|3|10|5|18|6|\n",
    "|**Row5**|4|15|5|1|3|"
   ]
  },
  {
   "cell_type": "code",
   "execution_count": null,
   "metadata": {},
   "outputs": [],
   "source": []
  },
  {
   "cell_type": "markdown",
   "metadata": {},
   "source": [
    "Get the last element of the second row of _MyMat_.  \n",
    "Then get the 4th element of its second column."
   ]
  },
  {
   "cell_type": "code",
   "execution_count": null,
   "metadata": {
    "collapsed": true
   },
   "outputs": [],
   "source": []
  },
  {
   "cell_type": "markdown",
   "metadata": {},
   "source": [
    "Make a row-vector from the sums on the columns of MyMat."
   ]
  },
  {
   "cell_type": "code",
   "execution_count": null,
   "metadata": {
    "collapsed": true
   },
   "outputs": [],
   "source": []
  },
  {
   "cell_type": "markdown",
   "metadata": {},
   "source": [
    "Find the smallest (minimum) element of _MyMat_."
   ]
  },
  {
   "cell_type": "code",
   "execution_count": null,
   "metadata": {
    "collapsed": true
   },
   "outputs": [],
   "source": []
  },
  {
   "cell_type": "markdown",
   "metadata": {},
   "source": [
    "Find the minimum in the elements of row 4.  \n",
    "You can do this 2 ways:  \n",
    "- Let find the minima of all the rows, then take the 4th element of the (column-)vector, OR  \n",
    "- Isolate the 4th row, then ask the minimum of it.  \n",
    "\n",
    "Each solution is just one line long, but you can train and see what happens step-by-step."
   ]
  },
  {
   "cell_type": "code",
   "execution_count": null,
   "metadata": {
    "collapsed": true
   },
   "outputs": [],
   "source": []
  },
  {
   "cell_type": "markdown",
   "metadata": {},
   "source": [
    "Make a row-vector \"MyVect\" from the elements on the diagonal of _MyMat_."
   ]
  },
  {
   "cell_type": "code",
   "execution_count": null,
   "metadata": {
    "collapsed": true
   },
   "outputs": [],
   "source": []
  },
  {
   "cell_type": "markdown",
   "metadata": {},
   "source": [
    "Find the maximum of all the sums of the columns."
   ]
  },
  {
   "cell_type": "code",
   "execution_count": null,
   "metadata": {
    "collapsed": true
   },
   "outputs": [],
   "source": []
  },
  {
   "cell_type": "markdown",
   "metadata": {},
   "source": [
    "Find the maximum of the sums of the rows."
   ]
  },
  {
   "cell_type": "code",
   "execution_count": null,
   "metadata": {
    "collapsed": true
   },
   "outputs": [],
   "source": []
  },
  {
   "cell_type": "markdown",
   "metadata": {},
   "source": [
    "Create a row vector \"v1\" where the elements go from 0 (first column) to 14 with increments of 1."
   ]
  },
  {
   "cell_type": "code",
   "execution_count": null,
   "metadata": {
    "collapsed": true
   },
   "outputs": [],
   "source": []
  },
  {
   "cell_type": "markdown",
   "metadata": {},
   "source": [
    "Add a second row to the result, where the elements are the corresponding powers of 2.  \n",
    "_e.g. 5 → 2^5 = 32._  \n",
    "**Tip:** You can add a row or a column to an array by assigning a value to places that do not exist yet."
   ]
  },
  {
   "cell_type": "code",
   "execution_count": null,
   "metadata": {
    "collapsed": true
   },
   "outputs": [],
   "source": []
  },
  {
   "cell_type": "markdown",
   "metadata": {},
   "source": [
    "Create \"A\", a 5×5 matrix where all elements are '0', but where the diagonal elements are equal to the row (or column!)."
   ]
  },
  {
   "cell_type": "code",
   "execution_count": null,
   "metadata": {
    "collapsed": true
   },
   "outputs": [],
   "source": []
  },
  {
   "cell_type": "markdown",
   "metadata": {},
   "source": [
    "Create \"B\", a 5×5 matrix where all elements are random integers from 0 to 10 (incl.), use `rand()`."
   ]
  },
  {
   "cell_type": "code",
   "execution_count": null,
   "metadata": {
    "collapsed": true
   },
   "outputs": [],
   "source": []
  },
  {
   "cell_type": "markdown",
   "metadata": {},
   "source": [
    "Do the same (overwrite B), but try using `randi`."
   ]
  },
  {
   "cell_type": "code",
   "execution_count": null,
   "metadata": {},
   "outputs": [],
   "source": []
  },
  {
   "cell_type": "markdown",
   "metadata": {},
   "source": [
    "Create \"PowB\", a 5×5 matrix where the elements are 2^[corresponding element of matrix B]."
   ]
  },
  {
   "cell_type": "code",
   "execution_count": null,
   "metadata": {
    "collapsed": true
   },
   "outputs": [],
   "source": []
  },
  {
   "cell_type": "markdown",
   "metadata": {},
   "source": [
    "What does the command `eye` do?  \n",
    "Do the same with `diag` and `ones`."
   ]
  },
  {
   "cell_type": "code",
   "execution_count": null,
   "metadata": {
    "collapsed": true
   },
   "outputs": [],
   "source": []
  },
  {
   "cell_type": "markdown",
   "metadata": {},
   "source": [
    "Suppose \"MySum\" is the result of the operation `cumsum` on a unknown matrix.  \n",
    "_Maybe you should try `cumsum` to see how it works…_\n",
    "We will find this unknown matrix by a few operations:  \n",
    "1. Create a matrix \"Offset\" with the same number of columns as MySum and 1 row more: the first row is full of \"0\" and the other ones are the rows of _MySum_ in the same order.\n",
    "1. Remove the last row of _Offset_.\n",
    "1. Compute the differences (element by element) between _MySum_ and _Offset_.  \n",
    "\n",
    "Shouldn't the result be the same as _MyMat_? Check it!"
   ]
  },
  {
   "cell_type": "code",
   "execution_count": 14,
   "metadata": {},
   "outputs": [],
   "source": [
    "MySum = [ 11    4   14   14   12\n",
    "          31    8   23   20   25\n",
    "          35   13   24   38   32\n",
    "          38   23   29   56   38\n",
    "          42   38   34   57   41 ];\n",
    "%———————————————————————————————————————\n",
    "% Step 1:\n",
    "\n",
    "%———————————————————————————————————————\n",
    "% Step 2:\n",
    "\n",
    "%———————————————————————————————————————\n",
    "% Step 3:\n",
    "\n",
    "%———————————————————————————————————————\n",
    "% Last step: Check!\n",
    "\n",
    "%———————————————————————————————————————"
   ]
  }
 ],
 "metadata": {
  "kernelspec": {
   "display_name": "Octave",
   "language": "octave",
   "name": "octave"
  },
  "language_info": {
   "file_extension": ".m",
   "help_links": [
    {
     "text": "GNU Octave",
     "url": "https://www.gnu.org/software/octave/support.html"
    },
    {
     "text": "Octave Kernel",
     "url": "https://github.com/Calysto/octave_kernel"
    },
    {
     "text": "MetaKernel Magics",
     "url": "https://github.com/calysto/metakernel/blob/master/metakernel/magics/README.md"
    }
   ],
   "mimetype": "text/x-octave",
   "name": "octave",
   "version": "4.2.2"
  }
 },
 "nbformat": 4,
 "nbformat_minor": 2
}
