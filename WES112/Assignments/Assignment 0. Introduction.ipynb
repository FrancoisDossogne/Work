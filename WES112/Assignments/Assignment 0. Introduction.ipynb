{
 "cells": [
  {
   "cell_type": "markdown",
   "metadata": {
    "slideshow": {
     "slide_type": "slide"
    }
   },
   "source": [
    "# Virtualbox\n",
    "\n",
    "1. Copy `Jupyter.ova` from memory stick to hard drive\n",
    "2. Install VirtualBox: [https://www.virtualbox.org/wiki/Downloads](https://www.virtualbox.org/wiki/Downloads)\n",
    "3. Import appliance *Jupyter*: `File - Import Appliance...`\n",
    "3. Start in *headless mode*"
   ]
  },
  {
   "cell_type": "markdown",
   "metadata": {
    "slideshow": {
     "slide_type": "slide"
    }
   },
   "source": [
    "# Jupyter\n",
    "\n",
    "## Login and synchronize repository\n",
    "\n",
    "1. Open in webbrowser: [http://localhost:8888](http://localhost:8888)\n",
    "2. Login with empty password\n",
    "3. Open a new terminal: `New - Terminal`\n",
    "4. Clone ES112: `git clone https://github.com/BenLauwens/ES112.git`\n",
    "5. Change to home directory: `cd`\n"
   ]
  },
  {
   "cell_type": "markdown",
   "metadata": {
    "slideshow": {
     "slide_type": "subslide"
    }
   },
   "source": [
    "## Copy and open files\n",
    "\n",
    "1. Create directory `Work`: `mkdir Work`\n",
    "2. Copy `Lecture 1. Variables and Operations.ipynb` to `Work`: `cp ES112/Lectures/Lecture\\ 1.\\ Variables\\ and\\ Operations.ipynb Work`\n",
    "3. Copy `Assignment 1. Variables and Operations.ipynb` to `Work`: `cp ES112/Assignment/Assignment\\ 1.\\ Variables\\ and\\ Operations.ipynb Work`\n",
    "4. Shutdown terminal: `Dashboard - Running - terminals/1`\n",
    "5. Open `Work/Lecture 1. Variables and Operations.ipynb`: `click Dashboard - Work - Lecture 1. Variables and Operations.ipynb`\n",
    "\n",
    "**Remark**: When working in the terminal, pushing `tab` completes your input!"
   ]
  },
  {
   "cell_type": "code",
   "execution_count": null,
   "metadata": {},
   "outputs": [],
   "source": []
  }
 ],
 "metadata": {
  "celltoolbar": "Slideshow",
  "kernelspec": {
   "display_name": "Octave",
   "language": "octave",
   "name": "octave"
  },
  "language_info": {
   "file_extension": ".m",
   "help_links": [
    {
     "text": "GNU Octave",
     "url": "https://www.gnu.org/software/octave/support.html"
    },
    {
     "text": "Octave Kernel",
     "url": "https://github.com/Calysto/octave_kernel"
    },
    {
     "text": "MetaKernel Magics",
     "url": "https://github.com/calysto/metakernel/blob/master/metakernel/magics/README.md"
    }
   ],
   "mimetype": "text/x-octave",
   "name": "octave",
   "version": "4.2.2"
  }
 },
 "nbformat": 4,
 "nbformat_minor": 2
}
